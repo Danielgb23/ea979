{
 "cells": [
  {
   "cell_type": "code",
   "execution_count": 2,
   "metadata": {
    "ExecuteTime": {
     "end_time": "2017-04-28T05:59:59.859312",
     "start_time": "2017-04-28T05:59:50.256949"
    },
    "scrolled": false
   },
   "outputs": [
    {
     "name": "stdout",
     "output_type": "stream",
     "text": [
      "[NbConvertApp] WARNING | pattern 'nbpil.ipynb' matched no files\n",
      "This application is used to convert notebook files (*.ipynb) to various other\n",
      "formats.\n",
      "\n",
      "WARNING: THE COMMANDLINE INTERFACE MAY CHANGE IN FUTURE RELEASES.\n",
      "\n",
      "Options\n",
      "-------\n",
      "\n",
      "Arguments that take values are actually convenience aliases to full\n",
      "Configurables, whose aliases are listed on the help line. For more information\n",
      "on full configurables, see '--help-all'.\n",
      "\n",
      "--debug\n",
      "    set log level to logging.DEBUG (maximize logging output)\n",
      "--generate-config\n",
      "    generate default config file\n",
      "-y\n",
      "    Answer yes to any questions instead of prompting.\n",
      "--execute\n",
      "    Execute the notebook prior to export.\n",
      "--allow-errors\n",
      "    Continue notebook execution even if one of the cells throws an error and include the error message in the cell output (the default behaviour is to abort conversion). This flag is only relevant if '--execute' was specified, too.\n",
      "--stdin\n",
      "    read a single notebook file from stdin. Write the resulting notebook with default basename 'notebook.*'\n",
      "--stdout\n",
      "    Write notebook output to stdout instead of files.\n",
      "--inplace\n",
      "    Run nbconvert in place, overwriting the existing notebook (only \n",
      "    relevant when converting to notebook format)\n",
      "--no-prompt\n",
      "    Exclude input and output prompts from converted document.\n",
      "--log-level=<Enum> (Application.log_level)\n",
      "    Default: 30\n",
      "    Choices: (0, 10, 20, 30, 40, 50, 'DEBUG', 'INFO', 'WARN', 'ERROR', 'CRITICAL')\n",
      "    Set the log level by value or name.\n",
      "--config=<Unicode> (JupyterApp.config_file)\n",
      "    Default: ''\n",
      "    Full path of a config file.\n",
      "--to=<Unicode> (NbConvertApp.export_format)\n",
      "    Default: 'html'\n",
      "    The export format to be used, either one of the built-in formats, or a\n",
      "    dotted object name that represents the import path for an `Exporter` class\n",
      "--template=<Unicode> (TemplateExporter.template_file)\n",
      "    Default: ''\n",
      "    Name of the template file to use\n",
      "--writer=<DottedObjectName> (NbConvertApp.writer_class)\n",
      "    Default: 'FilesWriter'\n",
      "    Writer class used to write the  results of the conversion\n",
      "--post=<DottedOrNone> (NbConvertApp.postprocessor_class)\n",
      "    Default: ''\n",
      "    PostProcessor class used to write the results of the conversion\n",
      "--output=<Unicode> (NbConvertApp.output_base)\n",
      "    Default: ''\n",
      "    overwrite base name use for output files. can only be used when converting\n",
      "    one notebook at a time.\n",
      "--output-dir=<Unicode> (FilesWriter.build_directory)\n",
      "    Default: ''\n",
      "    Directory to write output(s) to. Defaults to output to the directory of each\n",
      "    notebook. To recover previous default behaviour (outputting to the current\n",
      "    working directory) use . as the flag value.\n",
      "--reveal-prefix=<Unicode> (SlidesExporter.reveal_url_prefix)\n",
      "    Default: ''\n",
      "    The URL prefix for reveal.js. This can be a a relative URL for a local copy\n",
      "    of reveal.js, or point to a CDN.\n",
      "    For speaker notes to work, a local reveal.js prefix must be used.\n",
      "--nbformat=<Enum> (NotebookExporter.nbformat_version)\n",
      "    Default: 4\n",
      "    Choices: [1, 2, 3, 4]\n",
      "    The nbformat version to write. Use this to downgrade notebooks.\n",
      "\n",
      "To see all available configurables, use `--help-all`\n",
      "\n",
      "Examples\n",
      "--------\n",
      "\n",
      "    The simplest way to use nbconvert is\n",
      "    \n",
      "    > jupyter nbconvert mynotebook.ipynb\n",
      "    \n",
      "    which will convert mynotebook.ipynb to the default format (probably HTML).\n",
      "    \n",
      "    You can specify the export format with `--to`.\n",
      "    Options include ['asciidoc', 'custom', 'html', 'latex', 'markdown', 'notebook', 'pdf', 'python', 'rst', 'script', 'slides']\n",
      "    \n",
      "    > jupyter nbconvert --to latex mynotebook.ipynb\n",
      "    \n",
      "    Both HTML and LaTeX support multiple output templates. LaTeX includes\n",
      "    'base', 'article' and 'report'.  HTML includes 'basic' and 'full'. You\n",
      "    can specify the flavor of the format used.\n",
      "    \n",
      "    > jupyter nbconvert --to html --template basic mynotebook.ipynb\n",
      "    \n",
      "    You can also pipe the output to stdout, rather than a file\n",
      "    \n",
      "    > jupyter nbconvert mynotebook.ipynb --stdout\n",
      "    \n",
      "    PDF is generated via latex\n",
      "    \n",
      "    > jupyter nbconvert mynotebook.ipynb --to pdf\n",
      "    \n",
      "    You can get (and serve) a Reveal.js-powered slideshow\n",
      "    \n",
      "    > jupyter nbconvert myslides.ipynb --to slides --post serve\n",
      "    \n",
      "    Multiple notebooks can be given at the command line in a couple of \n",
      "    different ways:\n",
      "    \n",
      "    > jupyter nbconvert notebook*.ipynb\n",
      "    > jupyter nbconvert notebook1.ipynb notebook2.ipynb\n",
      "    \n",
      "    or you can specify the notebooks list in a config file, containing::\n",
      "    \n",
      "        c.NbConvertApp.notebooks = [\"my_notebook.ipynb\"]\n",
      "    \n",
      "    > jupyter nbconvert --config mycfg.py\n",
      "\n",
      "[NbConvertApp] Converting notebook normalize.ipynb to python\n",
      "[NbConvertApp] Writing 3278 bytes to normalize.py\n",
      "[NbConvertApp] Converting notebook histogram.ipynb to python\n",
      "[NbConvertApp] Writing 2717 bytes to histogram.py\n",
      "[NbConvertApp] Converting notebook h2percentile.ipynb to python\n",
      "[NbConvertApp] Writing 2890 bytes to h2percentile.py\n",
      "[NbConvertApp] Converting notebook h2stats.ipynb to python\n",
      "[NbConvertApp] Writing 4688 bytes to h2stats.py\n",
      "[NbConvertApp] Converting notebook applylut.ipynb to python\n",
      "[NbConvertApp] Writing 5443 bytes to applylut.py\n"
     ]
    }
   ],
   "source": [
    "#!ls\n",
    "! jupyter nbconvert --to 'python' nbpil.ipynb\n",
    "! jupyter nbconvert --to 'python' normalize.ipynb\n",
    "! jupyter nbconvert --to 'python' histogram.ipynb\n",
    "! jupyter nbconvert --to 'python' h2percentile.ipynb\n",
    "! jupyter nbconvert --to 'python' h2stats.ipynb\n",
    "! jupyter nbconvert --to 'python' applylut.ipynb"
   ]
  },
  {
   "cell_type": "code",
   "execution_count": 3,
   "metadata": {
    "ExecuteTime": {
     "end_time": "2017-05-06T05:56:42.012357",
     "start_time": "2017-05-06T05:56:31.231383"
    }
   },
   "outputs": [
    {
     "name": "stdout",
     "output_type": "stream",
     "text": [
      "[NbConvertApp] Converting notebook colormap.ipynb to python\n",
      "[NbConvertApp] Writing 5618 bytes to colormap.py\n",
      "[NbConvertApp] Converting notebook conv.ipynb to python\n",
      "[NbConvertApp] Writing 5291 bytes to conv.py\n",
      "[NbConvertApp] Converting notebook affine.ipynb to python\n",
      "[NbConvertApp] Writing 7138 bytes to affine.py\n",
      "[NbConvertApp] Converting notebook ptrans.ipynb to python\n",
      "[NbConvertApp] Writing 5354 bytes to ptrans.py\n",
      "[NbConvertApp] Converting notebook dftmatrix.ipynb to python\n",
      "[NbConvertApp] Writing 2329 bytes to dftmatrix.py\n",
      "[NbConvertApp] Converting notebook pconv.ipynb to python\n",
      "[NbConvertApp] Writing 4460 bytes to pconv.py\n"
     ]
    }
   ],
   "source": [
    "! jupyter nbconvert --to python colormap.ipynb\n",
    "! jupyter nbconvert --to python conv.ipynb\n",
    "! jupyter nbconvert --to python affine.ipynb\n",
    "! jupyter nbconvert --to python ptrans.ipynb\n",
    "! jupyter nbconvert --to python dftmatrix.ipynb\n",
    "! jupyter nbconvert --to python pconv.ipynb\n"
   ]
  },
  {
   "cell_type": "code",
   "execution_count": 4,
   "metadata": {
    "ExecuteTime": {
     "end_time": "2017-05-20T10:26:25.851471",
     "start_time": "2017-05-20T10:26:17.036706"
    }
   },
   "outputs": [
    {
     "name": "stdout",
     "output_type": "stream",
     "text": [
      "[NbConvertApp] Converting notebook dftshift.ipynb to python\n",
      "[NbConvertApp] Writing 2103 bytes to dftshift.py\n",
      "[NbConvertApp] Converting notebook dftview.ipynb to python\n",
      "[NbConvertApp] Writing 1653 bytes to dftview.py\n",
      "[NbConvertApp] Converting notebook dft.ipynb to python\n",
      "[NbConvertApp] Writing 3444 bytes to dft.py\n",
      "[NbConvertApp] Converting notebook comb.ipynb to python\n",
      "[NbConvertApp] Writing 3052 bytes to comb.py\n",
      "[NbConvertApp] Converting notebook isccsym.ipynb to python\n",
      "[NbConvertApp] Writing 3686 bytes to isccsym.py\n"
     ]
    }
   ],
   "source": [
    "! jupyter nbconvert --to python dftshift.ipynb\n",
    "! jupyter nbconvert --to python dftview.ipynb\n",
    "! jupyter nbconvert --to python dft.ipynb\n",
    "! jupyter nbconvert --to python comb.ipynb\n",
    "! jupyter nbconvert --to python isccsym.ipynb"
   ]
  },
  {
   "cell_type": "code",
   "execution_count": 5,
   "metadata": {
    "ExecuteTime": {
     "end_time": "2017-05-24T21:25:25.549256",
     "start_time": "2017-05-24T21:25:20.424613"
    }
   },
   "outputs": [
    {
     "name": "stdout",
     "output_type": "stream",
     "text": [
      "[NbConvertApp] Converting notebook polar.ipynb to python\n",
      "[NbConvertApp] Writing 2999 bytes to polar.py\n",
      "[NbConvertApp] Converting notebook interpollin.ipynb to python\n",
      "[NbConvertApp] Writing 5392 bytes to interpollin.py\n",
      "[NbConvertApp] Converting notebook phasecorr.ipynb to python\n",
      "[NbConvertApp] Writing 3903 bytes to phasecorr.py\n"
     ]
    }
   ],
   "source": [
    "! jupyter nbconvert --to python polar.ipynb\n",
    "! jupyter nbconvert --to python interpollin.ipynb\n",
    "! jupyter nbconvert --to python phasecorr.ipynb"
   ]
  },
  {
   "cell_type": "code",
   "execution_count": 2,
   "metadata": {
    "ExecuteTime": {
     "end_time": "2017-06-23T02:04:47.210822Z",
     "start_time": "2017-06-23T02:04:44.757954Z"
    }
   },
   "outputs": [
    {
     "name": "stdout",
     "output_type": "stream",
     "text": [
      "[NbConvertApp] Converting notebook ellipse.ipynb to python\n",
      "[NbConvertApp] Writing 2274 bytes to ellipse.py\n",
      "[NbConvertApp] Converting notebook log.ipynb to python\n",
      "[NbConvertApp] Writing 3982 bytes to log.py\n"
     ]
    }
   ],
   "source": [
    "# Adicionado por Rodolfo De Nadai em 22/06/2017\n",
    "! jupyter nbconvert --to python ellipse.ipynb\n",
    "! jupyter nbconvert --to python log.ipynb"
   ]
  },
  {
   "cell_type": "code",
   "execution_count": 4,
   "metadata": {
    "ExecuteTime": {
     "end_time": "2017-06-28T23:45:43.288601Z",
     "start_time": "2017-06-28T23:45:38.418112Z"
    }
   },
   "outputs": [
    {
     "name": "stdout",
     "output_type": "stream",
     "text": [
      "[NbConvertApp] Converting notebook meshgrid.ipynb to python\n",
      "[NbConvertApp] Writing 2163 bytes to meshgrid.py\n",
      "[NbConvertApp] Converting notebook hadamardmatrix.ipynb to python\n",
      "[NbConvertApp] Writing 1340 bytes to hadamardmatrix.py\n",
      "[NbConvertApp] Converting notebook hadamard.ipynb to python\n",
      "[NbConvertApp] Writing 1533 bytes to hadamard.py\n",
      "[NbConvertApp] Converting notebook ihadamard.ipynb to python\n",
      "[NbConvertApp] Writing 1345 bytes to ihadamard.py\n"
     ]
    }
   ],
   "source": [
    "# Adicionado por Rodolfo De Nadai em 28/06/2017\n",
    "! jupyter nbconvert --to python meshgrid.ipynb\n",
    "! jupyter nbconvert --to python hadamardmatrix.ipynb\n",
    "! jupyter nbconvert --to python hadamard.ipynb\n",
    "! jupyter nbconvert --to python ihadamard.ipynb\n"
   ]
  },
  {
   "cell_type": "code",
   "execution_count": null,
   "metadata": {
    "collapsed": true
   },
   "outputs": [],
   "source": []
  }
 ],
 "metadata": {
  "kernelspec": {
   "display_name": "Python 3",
   "language": "python",
   "name": "python3"
  },
  "language_info": {
   "codemirror_mode": {
    "name": "ipython",
    "version": 3
   },
   "file_extension": ".py",
   "mimetype": "text/x-python",
   "name": "python",
   "nbconvert_exporter": "python",
   "pygments_lexer": "ipython3",
   "version": "3.6.1"
  },
  "latex_envs": {
   "LaTeX_envs_menu_present": true,
   "autocomplete": true,
   "bibliofile": "biblio.bib",
   "cite_by": "apalike",
   "current_citInitial": 1,
   "eqLabelWithNumbers": true,
   "eqNumInitial": 1,
   "hotkeys": {
    "equation": "Ctrl-E",
    "itemize": "Ctrl-I"
   },
   "labels_anchors": false,
   "latex_user_defs": false,
   "report_style_numbering": false,
   "user_envs_cfg": false
  },
  "toc": {
   "colors": {
    "hover_highlight": "#DAA520",
    "navigate_num": "#000000",
    "navigate_text": "#333333",
    "running_highlight": "#FF0000",
    "selected_highlight": "#FFD700",
    "sidebar_border": "#EEEEEE",
    "wrapper_background": "#FFFFFF"
   },
   "moveMenuLeft": true,
   "nav_menu": {
    "height": "12px",
    "width": "252px"
   },
   "navigate_menu": true,
   "number_sections": true,
   "sideBar": true,
   "threshold": 4,
   "toc_cell": false,
   "toc_section_display": "block",
   "toc_window_display": false,
   "widenNotebook": false
  }
 },
 "nbformat": 4,
 "nbformat_minor": 2
}
