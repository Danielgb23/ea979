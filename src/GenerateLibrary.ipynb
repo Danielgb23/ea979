{
 "cells": [
  {
   "cell_type": "code",
   "execution_count": 1,
   "metadata": {
    "ExecuteTime": {
     "end_time": "2017-04-28T05:59:59.859312",
     "start_time": "2017-04-28T05:59:50.256949"
    },
    "collapsed": false,
    "deletable": true,
    "editable": true
   },
   "outputs": [
    {
     "name": "stdout",
     "output_type": "stream",
     "text": [
      "[NbConvertApp] Converting notebook nbpil.ipynb to python\n",
      "[NbConvertApp] Writing 10494 bytes to nbpil.py\n",
      "[NbConvertApp] Converting notebook normalize.ipynb to python\n",
      "[NbConvertApp] Writing 3270 bytes to normalize.py\n",
      "[NbConvertApp] Converting notebook histogram.ipynb to python\n",
      "[NbConvertApp] Writing 2706 bytes to histogram.py\n",
      "[NbConvertApp] Converting notebook h2percentile.ipynb to python\n",
      "[NbConvertApp] Writing 2884 bytes to h2percentile.py\n",
      "[NbConvertApp] Converting notebook h2stats.ipynb to python\n",
      "[NbConvertApp] Writing 4670 bytes to h2stats.py\n",
      "[NbConvertApp] Converting notebook applylut.ipynb to python\n",
      "[NbConvertApp] Writing 5436 bytes to applylut.py\n"
     ]
    }
   ],
   "source": [
    "#!ls\n",
    "! jupyter nbconvert --to 'python' nbpil.ipynb\n",
    "! jupyter nbconvert --to 'python' normalize.ipynb\n",
    "! jupyter nbconvert --to 'python' histogram.ipynb\n",
    "! jupyter nbconvert --to 'python' h2percentile.ipynb\n",
    "! jupyter nbconvert --to 'python' h2stats.ipynb\n",
    "! jupyter nbconvert --to 'python' applylut.ipynb"
   ]
  },
  {
   "cell_type": "code",
   "execution_count": 1,
   "metadata": {
    "ExecuteTime": {
     "end_time": "2017-05-06T05:56:42.012357",
     "start_time": "2017-05-06T05:56:31.231383"
    },
    "collapsed": false,
    "deletable": true,
    "editable": true
   },
   "outputs": [
    {
     "name": "stdout",
     "output_type": "stream",
     "text": [
      "[NbConvertApp] Converting notebook colormap.ipynb to python\n",
      "[NbConvertApp] Writing 5605 bytes to colormap.py\n",
      "[NbConvertApp] Converting notebook conv.ipynb to python\n",
      "[NbConvertApp] Writing 5283 bytes to conv.py\n",
      "[NbConvertApp] Converting notebook affine.ipynb to python\n",
      "[NbConvertApp] Writing 7131 bytes to affine.py\n",
      "[NbConvertApp] Converting notebook ptrans.ipynb to python\n",
      "[NbConvertApp] Writing 5346 bytes to ptrans.py\n",
      "[NbConvertApp] Converting notebook dftmatrix.ipynb to python\n",
      "[NbConvertApp] Writing 2312 bytes to dftmatrix.py\n",
      "[NbConvertApp] Converting notebook pconv.ipynb to python\n",
      "[NbConvertApp] Writing 4439 bytes to pconv.py\n"
     ]
    }
   ],
   "source": [
    "! jupyter nbconvert --to python colormap.ipynb\n",
    "! jupyter nbconvert --to python conv.ipynb\n",
    "! jupyter nbconvert --to python affine.ipynb\n",
    "! jupyter nbconvert --to python ptrans.ipynb\n",
    "! jupyter nbconvert --to python dftmatrix.ipynb\n",
    "! jupyter nbconvert --to python pconv.ipynb\n"
   ]
  },
  {
   "cell_type": "code",
   "execution_count": 3,
   "metadata": {
    "ExecuteTime": {
     "end_time": "2017-05-10T23:53:57.383322",
     "start_time": "2017-05-10T23:53:51.345171"
    },
    "collapsed": false,
    "deletable": true,
    "editable": true
   },
   "outputs": [
    {
     "name": "stdout",
     "output_type": "stream",
     "text": [
      "[NbConvertApp] Converting notebook dftshift.ipynb to python\n",
      "[NbConvertApp] Writing 2098 bytes to dftshift.py\n",
      "[NbConvertApp] Converting notebook dftview.ipynb to python\n",
      "[NbConvertApp] Writing 1649 bytes to dftview.py\n",
      "[NbConvertApp] Converting notebook dft.ipynb to python\n",
      "[NbConvertApp] Writing 3437 bytes to dft.py\n"
     ]
    }
   ],
   "source": [
    "! jupyter nbconvert --to python dftshift.ipynb\n",
    "! jupyter nbconvert --to python dftview.ipynb\n",
    "! jupyter nbconvert --to python dft.ipynb"
   ]
  },
  {
   "cell_type": "code",
   "execution_count": null,
   "metadata": {
    "collapsed": true
   },
   "outputs": [],
   "source": []
  }
 ],
 "metadata": {
  "kernelspec": {
   "display_name": "Python 3",
   "language": "python",
   "name": "python3"
  },
  "language_info": {
   "codemirror_mode": {
    "name": "ipython",
    "version": 3
   },
   "file_extension": ".py",
   "mimetype": "text/x-python",
   "name": "python",
   "nbconvert_exporter": "python",
   "pygments_lexer": "ipython3",
   "version": "3.6.0"
  },
  "toc": {
   "colors": {
    "hover_highlight": "#DAA520",
    "running_highlight": "#FF0000",
    "selected_highlight": "#FFD700"
   },
   "moveMenuLeft": true,
   "nav_menu": {
    "height": "12px",
    "width": "252px"
   },
   "navigate_menu": true,
   "number_sections": true,
   "sideBar": true,
   "threshold": 4,
   "toc_cell": false,
   "toc_section_display": "block",
   "toc_window_display": false
  }
 },
 "nbformat": 4,
 "nbformat_minor": 2
}
