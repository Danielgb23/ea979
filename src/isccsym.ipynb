{
 "cells": [
  {
   "cell_type": "markdown",
   "metadata": {},
   "source": [
    "# Function isccsym\n",
    "\n",
    "## Description\n",
    "\n",
    "Check if the input image is symmetric and return a boolean value. \n",
    "\n",
    "## Synopse\n",
    "\n",
    "Check for conjugate symmetry\n",
    "\n",
    "- **b = isccsym(F)**\n",
    "\n",
    "  - **b**: Boolean. \n",
    "  - **F**: Image. Complex image."
   ]
  },
  {
   "cell_type": "code",
   "execution_count": 1,
   "metadata": {
    "ExecuteTime": {
     "end_time": "2017-05-20T10:27:43.508920",
     "start_time": "2017-05-20T10:27:43.081255"
    },
    "collapsed": true
   },
   "outputs": [],
   "source": [
    "import numpy as np\n",
    "\n",
    "def isccsym2(F):\n",
    "\n",
    "    if len(F.shape) == 1: F = F[np.newaxis,np.newaxis,:] \n",
    "    if len(F.shape) == 2: F = F[np.newaxis,:,:] \n",
    "\n",
    "    n,m,p = F.shape\n",
    "    x,y,z = np.indices((n,m,p))\n",
    "\n",
    "    Xnovo = np.mod(-1*x,n) \n",
    "    Ynovo = np.mod(-1*y,m)\n",
    "    Znovo = np.mod(-1*z,p)  \n",
    "\n",
    "    aux = np.conjugate(F[Xnovo,Ynovo,Znovo])\n",
    "\n",
    "    return (abs(F-aux)<10E-4).all()"
   ]
  },
  {
   "cell_type": "code",
   "execution_count": 2,
   "metadata": {
    "ExecuteTime": {
     "end_time": "2017-05-20T10:27:43.520292",
     "start_time": "2017-05-20T10:27:43.511138"
    },
    "collapsed": false
   },
   "outputs": [],
   "source": [
    "def isccsym(F):\n",
    "    import ia898.src as ia\n",
    "    \n",
    "    if len(F.shape) == 1: F = F[np.newaxis,np.newaxis,:] \n",
    "    if len(F.shape) == 2: F = F[np.newaxis,:,:] \n",
    "\n",
    "    n,m,p = F.shape\n",
    "    \n",
    "    return(abs(F-np.conjugate(ia.ptrans(F[::-1,::-1,::-1],(1,1,1))))<10E-4).all()\n",
    "  "
   ]
  },
  {
   "cell_type": "markdown",
   "metadata": {},
   "source": [
    "## Examples"
   ]
  },
  {
   "cell_type": "code",
   "execution_count": 3,
   "metadata": {
    "ExecuteTime": {
     "end_time": "2017-05-20T10:27:43.568136",
     "start_time": "2017-05-20T10:27:43.523203"
    },
    "collapsed": true
   },
   "outputs": [],
   "source": [
    "testing = (__name__ == \"__main__\")\n",
    "if testing:\n",
    "    import numpy as np\n",
    "    import sys,os\n",
    "    ia898path = os.path.abspath('../../')\n",
    "    if ia898path not in sys.path:\n",
    "        sys.path.append(ia898path)\n",
    "    import ia898.src as ia"
   ]
  },
  {
   "cell_type": "markdown",
   "metadata": {},
   "source": [
    "### Numeric Example: 1D data"
   ]
  },
  {
   "cell_type": "code",
   "execution_count": 8,
   "metadata": {
    "ExecuteTime": {
     "end_time": "2017-05-20T10:27:58.716194",
     "start_time": "2017-05-20T10:27:58.707166"
    },
    "collapsed": false
   },
   "outputs": [
    {
     "name": "stdout",
     "output_type": "stream",
     "text": [
      "Is 1d odd dimension vetor symmetric? False \n",
      "\n",
      "Is 1d even dimension vetor symmetric? False \n",
      "\n",
      "Is 1d even dimension vetor symmetric? False \n",
      "\n"
     ]
    }
   ],
   "source": [
    "if testing:\n",
    "    F = np.arange(5)\n",
    "    print('Is 1d odd dimension vetor symmetric?',ia.isccsym(F),'\\n')\n",
    "    F =  np.arange(6)\n",
    "    print('Is 1d even dimension vetor symmetric?',ia.isccsym(F),'\\n')\n",
    "    F = np.array( [1j,1j,0,1j,1j] )\n",
    "    print('Is 1d even dimension vetor symmetric?',ia.isccsym(F),'\\n')"
   ]
  },
  {
   "cell_type": "markdown",
   "metadata": {
    "ExecuteTime": {
     "end_time": "2017-05-20T10:13:16.436295",
     "start_time": "2017-05-20T10:13:16.431859"
    }
   },
   "source": [
    "### Numeric Example: real symmetric matrix"
   ]
  },
  {
   "cell_type": "code",
   "execution_count": 9,
   "metadata": {
    "ExecuteTime": {
     "end_time": "2017-05-20T10:28:07.568580",
     "start_time": "2017-05-20T10:28:07.562550"
    },
    "collapsed": false
   },
   "outputs": [
    {
     "name": "stdout",
     "output_type": "stream",
     "text": [
      "Is function F symmetric? True \n",
      "\n"
     ]
    }
   ],
   "source": [
    "if testing:\n",
    "    F = np.array( [ [0,1,1], \n",
    "                    [2,4,3],\n",
    "                    [2,3,4]] )\n",
    "    print('Is function F symmetric?',ia.isccsym(F),'\\n')"
   ]
  },
  {
   "cell_type": "markdown",
   "metadata": {},
   "source": [
    "### Numeric Example: imaginary matrix"
   ]
  },
  {
   "cell_type": "code",
   "execution_count": 10,
   "metadata": {
    "ExecuteTime": {
     "end_time": "2017-05-20T10:28:16.983113",
     "start_time": "2017-05-20T10:28:16.972763"
    },
    "collapsed": false
   },
   "outputs": [
    {
     "name": "stdout",
     "output_type": "stream",
     "text": [
      "Is function F symmetric? True \n",
      "\n",
      "Is function F symmetric? False \n",
      "\n"
     ]
    }
   ],
   "source": [
    "if testing:\n",
    "    F = np.array([ [ 0j,1j,-1j], \n",
    "                   [ 2j,4j,-3j],\n",
    "                   [-2j,3j,-4j]] )\n",
    "    print('Is function F symmetric?',ia.isccsym(F),'\\n')\n",
    "    \n",
    "    F = np.array( [ [ 2j,1j,-1j], \n",
    "                    [ 2j,4j,-3j],\n",
    "                    [-2j,3j,-4j]] )\n",
    "    print('Is function F symmetric?',ia.isccsym(F),'\\n')"
   ]
  },
  {
   "cell_type": "markdown",
   "metadata": {},
   "source": [
    "### Numeric Example: Fourier transformation of a real image is symmetric"
   ]
  },
  {
   "cell_type": "code",
   "execution_count": 11,
   "metadata": {
    "ExecuteTime": {
     "end_time": "2017-05-20T10:28:30.789247",
     "start_time": "2017-05-20T10:28:30.769138"
    },
    "collapsed": false
   },
   "outputs": [
    {
     "name": "stdout",
     "output_type": "stream",
     "text": [
      "Is this function symmetric?\n",
      "True\n",
      "True\n",
      "True\n"
     ]
    }
   ],
   "source": [
    "if testing:        \n",
    "    print('Is this function symmetric?')\n",
    "    print(ia.isccsym(np.fft.fft2(np.random.rand(100,100)))) # dimension variation\n",
    "    print(ia.isccsym(np.fft.fft2(np.random.rand(101,100))))\n",
    "    print(ia.isccsym(np.fft.fft2(np.random.rand(101,101))))"
   ]
  },
  {
   "cell_type": "markdown",
   "metadata": {},
   "source": [
    "### Image Example: circular filter\n",
    "\n",
    "\n",
    "   img = adreadgray('cameraman.tif')\n",
    "   F = ia.iadft(img)\n",
    "   imgc = 1 * ia.iacircle(img.shape, 50, [img.shape[0]/2, img.shape[1]/2])  \n",
    "   imgct = ia.iaptrans(imgc, array(imgc.shape)/2)\n",
    "   adshow(ia.ianormalize(imgct),'circular filter')\n",
    "   res = F * imgct\n",
    "   adshow(ia.iadftview(res))\n",
    "   print 'Is this filter symmetric?', ia.isccsym(res)\n",
    "\n",
    "\n",
    "### Image Example 2: retangular filter\n",
    "\n",
    "    mquadra = ia.iarectangle(img.shape, [50,50], [img.shape[0]/2, img.shape[1]/2])\n",
    "    adshow(mquadra,'RETANGULO')\n",
    "    mquadra = ia.iaptrans(mquadra, array(mquadra.shape)/2)\n",
    "    adshow(ia.ianormalize(mquadra),'retangular filter')\n",
    "    mfiltrada = F * mquadra                                        \n",
    "    \n",
    "    print 'Is this filter symmetric?', ia.isccsym(mfiltrada)"
   ]
  },
  {
   "cell_type": "markdown",
   "metadata": {},
   "source": [
    "## Equation\n",
    "$$ \\begin{matrix}\n",
    "F(s,u,v) &=& F^{\\star}(-s \\ mod\\ P,-u \\ mod\\ N, -v \\ mod\\ M) \\\\  & & (0,0,0) \\leq (s,u,v) < (P,N,M)\n",
    "\\end{matrix} $$"
   ]
  },
  {
   "cell_type": "markdown",
   "metadata": {},
   "source": [
    "## See also\n",
    "\n",
    "- [dftview](dftview.ipynb) - Ready for central spectrum visualization of DFT "
   ]
  },
  {
   "cell_type": "markdown",
   "metadata": {},
   "source": [
    "## Contributions\n",
    "\n",
    "- Marcelo Zoccoler, 1st semester, 2017\n",
    "- Mariana Pinheiro, 1st semester 2011"
   ]
  },
  {
   "cell_type": "code",
   "execution_count": null,
   "metadata": {
    "collapsed": true
   },
   "outputs": [],
   "source": []
  }
 ],
 "metadata": {
  "kernelspec": {
   "display_name": "Python 3",
   "language": "python",
   "name": "python3"
  },
  "language_info": {
   "codemirror_mode": {
    "name": "ipython",
    "version": 3
   },
   "file_extension": ".py",
   "mimetype": "text/x-python",
   "name": "python",
   "nbconvert_exporter": "python",
   "pygments_lexer": "ipython3",
   "version": "3.6.0"
  },
  "toc": {
   "colors": {
    "hover_highlight": "#DAA520",
    "running_highlight": "#FF0000",
    "selected_highlight": "#FFD700"
   },
   "moveMenuLeft": true,
   "nav_menu": {
    "height": "251px",
    "width": "252px"
   },
   "navigate_menu": true,
   "number_sections": true,
   "sideBar": true,
   "threshold": 4,
   "toc_cell": false,
   "toc_section_display": "block",
   "toc_window_display": false
  }
 },
 "nbformat": 4,
 "nbformat_minor": 2
}
