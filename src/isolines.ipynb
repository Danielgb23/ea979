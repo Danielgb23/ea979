{
 "cells": [
  {
   "cell_type": "markdown",
   "metadata": {
    "deletable": true,
    "editable": true
   },
   "source": [
    "# Table of Contents\n",
    " <p><div class=\"lev1 toc-item\"><a href=\"#Function-isolines\" data-toc-modified-id=\"Function-isolines-1\"><span class=\"toc-item-num\">1&nbsp;&nbsp;</span>Function isolines</a></div><div class=\"lev2 toc-item\"><a href=\"#Synopse\" data-toc-modified-id=\"Synopse-11\"><span class=\"toc-item-num\">1.1&nbsp;&nbsp;</span>Synopse</a></div><div class=\"lev2 toc-item\"><a href=\"#Description\" data-toc-modified-id=\"Description-12\"><span class=\"toc-item-num\">1.2&nbsp;&nbsp;</span>Description</a></div><div class=\"lev2 toc-item\"><a href=\"#Examples\" data-toc-modified-id=\"Examples-13\"><span class=\"toc-item-num\">1.3&nbsp;&nbsp;</span>Examples</a></div><div class=\"lev3 toc-item\"><a href=\"#Example-1\" data-toc-modified-id=\"Example-1-131\"><span class=\"toc-item-num\">1.3.1&nbsp;&nbsp;</span>Example 1</a></div><div class=\"lev3 toc-item\"></div></div><div class=\"lev3 toc-item\"></div><div class=\"lev2 toc-item\"></div>"
   ]
  },
  {
   "cell_type": "markdown",
   "metadata": {
    "deletable": true,
    "editable": true
   },
   "source": [
    "# Function isolines\n",
    "\n",
    "## Synopse\n",
    "\n",
    "Isolines of a grayscale image.\n",
    "\n",
    "- **g = isolines(f, nc=10, np=1)**\n",
    "\n",
    "  - **g**: Image.\n",
    "\n",
    "  - **f**: Image. Input image.\n",
    "  - **nc**: Double. Number of colors.\n",
    "  - **n**: Double. Number of pixels by isoline."
   ]
  },
  {
   "cell_type": "markdown",
   "metadata": {
    "deletable": true,
    "editable": true
   },
   "source": [
    "## Description\n",
    "\n",
    "Shows lines where the pixels have same intensity with a unique color."
   ]
  },
  {
   "cell_type": "code",
   "execution_count": 2,
   "metadata": {
    "collapsed": true,
    "deletable": true,
    "editable": true
   },
   "outputs": [],
   "source": [
    "testing = (__name__ == \"__main__\")\n",
    "if testing:\n",
    "    import numpy as np\n",
    "    import sys,os\n",
    "    ia898path = os.path.abspath('/home/lotufo')\n",
    "    if ia898path not in sys.path:\n",
    "        sys.path.append(ia898path)\n",
    "    import ia898.src as ia"
   ]
  },
  {
   "cell_type": "code",
   "execution_count": 3,
   "metadata": {
    "collapsed": true,
    "deletable": true,
    "editable": true
   },
   "outputs": [],
   "source": [
    "def iaisolines(f, nc=10, n=1):\n",
    "    maxi = np.ceil(f.max())\n",
    "    mini = np.floor(f.min())\n",
    "    d = int(np.ceil(1.*(maxi-mini)/nc))\n",
    "    m = np.zeros((d,1))\n",
    "    m[0:n,:] = 1\n",
    "    m = np.resize(m, (maxi-mini, 1))\n",
    "    m = np.concatenate((np.zeros((mini,1)), m))\n",
    "    m = np.concatenate((m, np.zeros((256-maxi,1))))\n",
    "    m = np.concatenate((m,m,m), 1)\n",
    "    ct = m*ia.colormap('hsv') + (1-m)*ia.colormap('gray')\n",
    "    g = ia.applylut(f, ct)\n",
    "    return g"
   ]
  },
  {
   "cell_type": "markdown",
   "metadata": {
    "deletable": true,
    "editable": true
   },
   "source": [
    "## Examples"
   ]
  },
  {
   "cell_type": "markdown",
   "metadata": {
    "deletable": true,
    "editable": true
   },
   "source": [
    "### Example 1"
   ]
  },
  {
   "cell_type": "code",
   "execution_count": 8,
   "metadata": {
    "collapsed": false,
    "deletable": true,
    "editable": true
   },
   "outputs": [
    {
     "ename": "AttributeError",
     "evalue": "module 'ia898.src' has no attribute 'bwlp'",
     "output_type": "error",
     "traceback": [
      "\u001b[0;31m---------------------------------------------------------------------------\u001b[0m",
      "\u001b[0;31mAttributeError\u001b[0m                            Traceback (most recent call last)",
      "\u001b[0;32m<ipython-input-8-9e4326dc10d7>\u001b[0m in \u001b[0;36m<module>\u001b[0;34m()\u001b[0m\n\u001b[0;32m----> 1\u001b[0;31m \u001b[0mf\u001b[0m \u001b[0;34m=\u001b[0m \u001b[0mia\u001b[0m\u001b[0;34m.\u001b[0m\u001b[0mnormalize\u001b[0m\u001b[0;34m(\u001b[0m\u001b[0mia\u001b[0m\u001b[0;34m.\u001b[0m\u001b[0mbwlp\u001b[0m\u001b[0;34m(\u001b[0m\u001b[0;34m[\u001b[0m\u001b[0;36m150\u001b[0m\u001b[0;34m,\u001b[0m\u001b[0;36m150\u001b[0m\u001b[0;34m]\u001b[0m\u001b[0;34m,\u001b[0m \u001b[0;36m4\u001b[0m\u001b[0;34m,\u001b[0m \u001b[0;36m1\u001b[0m\u001b[0;34m)\u001b[0m\u001b[0;34m,\u001b[0m \u001b[0;34m[\u001b[0m\u001b[0;36m0\u001b[0m\u001b[0;34m,\u001b[0m\u001b[0;36m255\u001b[0m\u001b[0;34m]\u001b[0m\u001b[0;34m)\u001b[0m\u001b[0;34m\u001b[0m\u001b[0m\n\u001b[0m\u001b[1;32m      2\u001b[0m \u001b[0mf\u001b[0m \u001b[0;34m=\u001b[0m \u001b[0mf\u001b[0m\u001b[0;34m.\u001b[0m\u001b[0mastype\u001b[0m\u001b[0;34m(\u001b[0m\u001b[0;34m'uint8'\u001b[0m\u001b[0;34m)\u001b[0m\u001b[0;34m\u001b[0m\u001b[0m\n\u001b[1;32m      3\u001b[0m \u001b[0mg\u001b[0m \u001b[0;34m=\u001b[0m \u001b[0misolines\u001b[0m\u001b[0;34m(\u001b[0m\u001b[0mf\u001b[0m\u001b[0;34m,\u001b[0m \u001b[0;36m10\u001b[0m\u001b[0;34m,\u001b[0m \u001b[0;36m3\u001b[0m\u001b[0;34m)\u001b[0m\u001b[0;34m\u001b[0m\u001b[0m\n\u001b[1;32m      4\u001b[0m \u001b[0mg\u001b[0m \u001b[0;34m=\u001b[0m \u001b[0mg\u001b[0m\u001b[0;34m.\u001b[0m\u001b[0mastype\u001b[0m\u001b[0;34m(\u001b[0m\u001b[0;34m'uint8'\u001b[0m\u001b[0;34m)\u001b[0m\u001b[0;34m\u001b[0m\u001b[0m\n\u001b[1;32m      5\u001b[0m \u001b[0;34m\u001b[0m\u001b[0m\n",
      "\u001b[0;31mAttributeError\u001b[0m: module 'ia898.src' has no attribute 'bwlp'"
     ]
    }
   ],
   "source": [
    "f = ia.normalize(ia.bwlp([150,150], 4, 1), [0,255])\n",
    "f = f.astype('uint8')\n",
    "g = isolines(f, 10, 3)\n",
    "g = g.astype('uint8')\n",
    "\n",
    "plt.figure(1)\n",
    "plt.title('f')\n",
    "plt.imshow(f)\n",
    "\n",
    "plt.figure(2)\n",
    "plt.title('g')\n",
    "plt.imshow(g)"
   ]
  },
  {
   "cell_type": "code",
   "execution_count": null,
   "metadata": {
    "collapsed": true
   },
   "outputs": [],
   "source": []
  }
 ],
 "metadata": {
  "kernelspec": {
   "display_name": "Python 3",
   "language": "python",
   "name": "python3"
  },
  "language_info": {
   "codemirror_mode": {
    "name": "ipython",
    "version": 3
   },
   "file_extension": ".py",
   "mimetype": "text/x-python",
   "name": "python",
   "nbconvert_exporter": "python",
   "pygments_lexer": "ipython3",
   "version": "3.6.0"
  }
 },
 "nbformat": 4,
 "nbformat_minor": 2
}
