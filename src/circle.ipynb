{
 "cells": [
  {
   "cell_type": "markdown",
   "metadata": {
    "deletable": true,
    "editable": true
   },
   "source": [
    "# Function circle\n",
    "\n",
    "## Synopse\n",
    "\n",
    "This function creates a binary circle image.\n",
    "\n",
    "- **g = circle(s, r, c)**\n",
    "\n",
    "    - **g**:output: circle image.\n",
    "    - **s**:input: Image. [rows cols], output image dimensions.\n",
    "    - **r**:input: Double. radius.\n",
    "    - **c**:input: Image. [row0 col0], center of the circle.\n",
    "    "
   ]
  },
  {
   "cell_type": "code",
   "execution_count": 18,
   "metadata": {
    "collapsed": true,
    "deletable": true,
    "editable": true
   },
   "outputs": [],
   "source": [
    "import numpy as np\n",
    "def circle(s, r, c):\n",
    "    \n",
    "    rows, cols = s[0], s[1]\n",
    "    rr0,  cc0  = c[0], c[1]\n",
    "    rr, cc = np.meshgrid(range(rows), range(cols), indexing='ij')\n",
    "    g = (rr - rr0)**2 + (cc - cc0)**2 <= r**2\n",
    "    return g"
   ]
  },
  {
   "cell_type": "markdown",
   "metadata": {
    "deletable": true,
    "editable": true
   },
   "source": [
    "## Description\n",
    "\n",
    "Creates a binary image with dimensions given by s, radius given by r and center given by c. The pixels inside the circle are one and outside zero."
   ]
  },
  {
   "cell_type": "markdown",
   "metadata": {
    "deletable": true,
    "editable": true
   },
   "source": [
    "## Equation\n",
    "\n",
    "$$ g(x,y) = (x-x_c)^2 + (y-y_c)^2 \\leq r^2 $$"
   ]
  },
  {
   "cell_type": "markdown",
   "metadata": {
    "deletable": true,
    "editable": true
   },
   "source": [
    "## Examples"
   ]
  },
  {
   "cell_type": "code",
   "execution_count": 19,
   "metadata": {
    "collapsed": true,
    "deletable": true,
    "editable": true
   },
   "outputs": [],
   "source": [
    "testing = (__name__ == \"__main__\")"
   ]
  },
  {
   "cell_type": "markdown",
   "metadata": {
    "deletable": true,
    "editable": true
   },
   "source": [
    "## Showing a numerical example"
   ]
  },
  {
   "cell_type": "code",
   "execution_count": 20,
   "metadata": {
    "collapsed": false,
    "deletable": true,
    "editable": true
   },
   "outputs": [
    {
     "name": "stdout",
     "output_type": "stream",
     "text": [
      "[[0 0 0 1 0 0 0]\n",
      " [0 0 1 1 1 0 0]\n",
      " [0 1 1 1 1 1 0]\n",
      " [0 0 1 1 1 0 0]\n",
      " [0 0 0 1 0 0 0]]\n"
     ]
    }
   ],
   "source": [
    "if testing:\n",
    "    F = circle([5,7], 2, [2,3])\n",
    "    print (F.astype(np.uint8))"
   ]
  },
  {
   "cell_type": "markdown",
   "metadata": {
    "deletable": true,
    "editable": true
   },
   "source": [
    "## Printing the generated image"
   ]
  },
  {
   "cell_type": "code",
   "execution_count": 21,
   "metadata": {
    "collapsed": false,
    "deletable": true,
    "editable": true
   },
   "outputs": [
    {
     "data": {
      "image/png": "[encoded data removed]",
      "text/plain": [
       "<matplotlib.figure.Figure at 0x7f2b871d5a20>"
      ]
     },
     "metadata": {},
     "output_type": "display_data"
    }
   ],
   "source": [
    "if testing:\n",
    "    import matplotlib.pyplot as plt\n",
    "    import matplotlib.image as mpimg\n",
    "    %matplotlib inline\n",
    "    f = circle([200,300], 90, [100,150])\n",
    "    plt.imshow(f,cmap='gray')\n",
    "    plt.title('A circle')\n",
    "    plt.colorbar()"
   ]
  },
  {
   "cell_type": "markdown",
   "metadata": {
    "deletable": true,
    "editable": true
   },
   "source": [
    "## Contributions\n",
    "\n",
    "Luis Antonio Prado, 1st semester 2017"
   ]
  }
 ],
 "metadata": {
  "kernelspec": {
   "display_name": "Python 3",
   "language": "python",
   "name": "python3"
  },
  "language_info": {
   "codemirror_mode": {
    "name": "ipython",
    "version": 3
   },
   "file_extension": ".py",
   "mimetype": "text/x-python",
   "name": "python",
   "nbconvert_exporter": "python",
   "pygments_lexer": "ipython3",
   "version": "3.6.0"
  }
 },
 "nbformat": 4,
 "nbformat_minor": 2
}
