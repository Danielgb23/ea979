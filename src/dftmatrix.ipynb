{
 "cells": [
  {
   "cell_type": "markdown",
   "metadata": {},
   "source": [
    "# Function iadftmatrix\n",
    "\n",
    "## Synopse\n",
    "\n",
    "Kernel matrix for the 1-D Discrete Fourier Transform DFT.\n",
    "\n",
    "- **A = iadftmatrix(N)**\n",
    "\n",
    "  - **A**: Output image, square N x N, complex\n",
    "\n",
    "\n",
    "  - **N**: Integer, number of points of the DFT"
   ]
  },
  {
   "cell_type": "code",
   "execution_count": null,
   "metadata": {
    "collapsed": true
   },
   "outputs": [],
   "source": [
    "import numpy as np\n",
    "\n",
    "def iadftmatrix(N):\n",
    "    x = np.arange(N).reshape(N,1)\n",
    "    u = x\n",
    "    Wn = np.exp(-1j*2*np.pi/N)\n",
    "    A = (1./np.sqrt(N)) * (Wn ** u.dot(x.T))\n",
    "    return A"
   ]
  },
  {
   "cell_type": "markdown",
   "metadata": {},
   "source": [
    "## Examples\n",
    "\n",
    "\n",
    "Example 1\n",
    "---------"
   ]
  },
  {
   "cell_type": "markdown",
   "metadata": {},
   "source": [
    "    from ia636 import iadftmatrix, ianormalize\n",
    "\n",
    "    A = iadftmatrix(128)\n",
    "    adshow(ianormalize(A.real),'A.real')\n",
    "    adshow(ianormalize(A.imag),'A.imag')"
   ]
  },
  {
   "cell_type": "markdown",
   "metadata": {},
   "source": [
    "Example 2\n",
    "---------"
   ]
  },
  {
   "cell_type": "markdown",
   "metadata": {},
   "source": [
    "    A = iadftmatrix(4)\n",
    "    print 'A=\\n', A.round(1)\n",
    "    print 'A-A.T=\\n', A - A.T\n",
    "    print (abs(linalg.inv(A)-conjugate(A))).max() < 10E-15"
   ]
  },
  {
   "cell_type": "markdown",
   "metadata": {},
   "source": [
    "Example 3\n",
    "---------\n",
    "\n",
    "Showing the product x u.T"
   ]
  },
  {
   "cell_type": "markdown",
   "metadata": {},
   "source": [
    "   u = x = arange(10).reshape(10,1)\n",
    "   print 'u xT=\\n', dot( u, x.T)\n",
    "   "
   ]
  },
  {
   "cell_type": "markdown",
   "metadata": {},
   "source": [
    "## Equation\n",
    "\n",
    "\n",
    "$$ \\begin{matrix}\n",
    "    W_N &=& \\exp{\\frac{-j2\\pi}{N}} \\\\ A_N &=& \\frac{1}{\\sqrt{N}} (W_N)^{\\mathbf{u} \\mathbf{x}^T} \\\\ \\mathbf{u} &=& \\mathbf{x} = [0, 1, 2, \\ldots, N-1]^T \n",
    "\\end{matrix} $$"
   ]
  },
  {
   "cell_type": "markdown",
   "metadata": {},
   "source": [
    "$$ \\begin{matrix}\n",
    "        A_N       &=& A_N^T \\ \\mbox{symmetric} \\\\\n",
    "       (A_N)^{-1} &=& (A_N)^*\\ \\mbox{column orthogonality, unitary matrix}\n",
    "\\end{matrix} $$"
   ]
  },
  {
   "cell_type": "markdown",
   "metadata": {},
   "source": [
    "## See Also\n",
    "\n",
    "- `iadft` - Discrete Fourier Transform\n",
    "- `iadftmatrixexamples` - Visualization of the DFT matrix\n",
    "\n",
    "## References\n",
    "\n",
    "- http://en.wikipedia.org/wiki/DFT_matrix"
   ]
  },
  {
   "cell_type": "markdown",
   "metadata": {},
   "source": [
    "    \n",
    "    print 'testing iadftmatrix'\n",
    "    print `floor(0.5 + 10E4*iadftmatrix(4).real) / 10E4` == `array(\n",
    "          [[ 0.5,  0.5,  0.5,  0.5],\n",
    "           [ 0.5,  0. , -0.5,  0. ],\n",
    "           [ 0.5, -0.5,  0.5, -0.5],\n",
    "           [ 0.5,  0. , -0.5,  0. ]])`\n",
    "    print `floor(0.5 + 10E4*iadftmatrix(4).imag) / 10E4` == `array(\n",
    "          [[ 0. ,  0. ,  0. ,  0. ],\n",
    "           [ 0. , -0.5,  0. ,  0.5],\n",
    "           [ 0. ,  0. ,  0. ,  0. ],\n",
    "           [ 0. ,  0.5,  0. , -0.5]])`"
   ]
  }
 ],
 "metadata": {
  "kernelspec": {
   "display_name": "Python 3",
   "language": "python",
   "name": "python3"
  },
  "language_info": {
   "codemirror_mode": {
    "name": "ipython",
    "version": 3
   },
   "file_extension": ".py",
   "mimetype": "text/x-python",
   "name": "python",
   "nbconvert_exporter": "python",
   "pygments_lexer": "ipython3",
   "version": "3.6.0"
  },
  "toc": {
   "colors": {
    "hover_highlight": "#DAA520",
    "running_highlight": "#FF0000",
    "selected_highlight": "#FFD700"
   },
   "moveMenuLeft": true,
   "nav_menu": {
    "height": "30px",
    "width": "252px"
   },
   "navigate_menu": true,
   "number_sections": true,
   "sideBar": true,
   "threshold": 4,
   "toc_cell": false,
   "toc_section_display": "block",
   "toc_window_display": false
  }
 },
 "nbformat": 4,
 "nbformat_minor": 2
}
