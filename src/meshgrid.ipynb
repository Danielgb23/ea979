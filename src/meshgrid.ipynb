{
 "cells": [
  {
   "cell_type": "markdown",
   "metadata": {},
   "source": [
    "# Function meshgrid\n",
    "\n",
    "## Synopse\n",
    "Create two 2-D matrices of indexes.\n",
    "\n",
    "   - **x, y = iameshgrid(vx, vy)**\n",
    "       - Output:\n",
    "           - **x**: Image.\n",
    "           - **y**: Image.\n",
    "       - Input:\n",
    "           - **vx**: Image. Vector of indices of x coordinate.\n",
    "           - **vy**: Image. Vector of indices of y coordinate.\n"
   ]
  },
  {
   "cell_type": "code",
   "execution_count": 24,
   "metadata": {
    "ExecuteTime": {
     "end_time": "2017-06-28T23:15:46.586278Z",
     "start_time": "2017-06-28T23:15:46.565034Z"
    },
    "collapsed": true
   },
   "outputs": [],
   "source": [
    "import numpy as np\n",
    "\n",
    "def meshgrid(vx, vy):\n",
    "    x = np.resize(vx, (len(vy), len(vx)))\n",
    "    y = np.transpose(np.resize(vy, (len(vx), len(vy))))\n",
    "    return x, y"
   ]
  },
  {
   "cell_type": "code",
   "execution_count": 25,
   "metadata": {
    "ExecuteTime": {
     "end_time": "2017-06-28T23:15:48.014659Z",
     "start_time": "2017-06-28T23:15:47.976909Z"
    },
    "collapsed": true
   },
   "outputs": [],
   "source": [
    "testing = (__name__ == \"__main__\")\n",
    "\n",
    "if testing:\n",
    "    import sys\n",
    "    import os\n",
    "    ia898path = os.path.abspath('../../')\n",
    "    if ia898path not in sys.path:\n",
    "        sys.path.append(ia898path)\n",
    "    import ia898.src as ia"
   ]
  },
  {
   "cell_type": "markdown",
   "metadata": {},
   "source": [
    "## Description\n",
    "This function generates 2-D matrices of indices of the domain specified by arange1 and arange2. This is very useful to generate 2-D functions. Note that unlike other functions, the order of the parameters uses the cartesian coordinate convention. arange1 is for x (horizontal), and arange2 is for y (vertical). To use Python convention, prefer the function indices()."
   ]
  },
  {
   "cell_type": "markdown",
   "metadata": {},
   "source": [
    "## Equation\n",
    "\n",
    "$$\n",
    "    \\begin{matrix}\n",
    "        v_x(j), j = 0,1,...n \\\\\n",
    "        v_y(i), i = 0,1,...n \\\\\n",
    "        x(i,j) = v_x(i) \\\\\n",
    "        y(i,j) = v_y(j) \\\\\n",
    "    \\end{matrix}\n",
    "$$"
   ]
  },
  {
   "cell_type": "markdown",
   "metadata": {},
   "source": [
    "## Examples\n",
    "\n",
    "### Example 1"
   ]
  },
  {
   "cell_type": "code",
   "execution_count": 26,
   "metadata": {
    "ExecuteTime": {
     "end_time": "2017-06-28T23:15:48.844200Z",
     "start_time": "2017-06-28T23:15:48.836978Z"
    }
   },
   "outputs": [
    {
     "name": "stdout",
     "output_type": "stream",
     "text": [
      "[[ 1.   1.5  2.   2.5]\n",
      " [ 1.   1.5  2.   2.5]\n",
      " [ 1.   1.5  2.   2.5]\n",
      " [ 1.   1.5  2.   2.5]]\n",
      "[[ 2.   2.   2.   2. ]\n",
      " [ 2.6  2.6  2.6  2.6]\n",
      " [ 3.2  3.2  3.2  3.2]\n",
      " [ 3.8  3.8  3.8  3.8]]\n",
      "[[ 3.   3.5  4.   4.5]\n",
      " [ 3.6  4.1  4.6  5.1]\n",
      " [ 4.2  4.7  5.2  5.7]\n",
      " [ 4.8  5.3  5.8  6.3]]\n"
     ]
    }
   ],
   "source": [
    "if testing:\n",
    "    (x, y) = meshgrid(np.arange(1,3,0.5), np.arange(2,4,0.6))\n",
    "    print(x)\n",
    "    print(y)\n",
    "    print(x + y)"
   ]
  },
  {
   "cell_type": "markdown",
   "metadata": {},
   "source": [
    "### Example 2"
   ]
  },
  {
   "cell_type": "code",
   "execution_count": 27,
   "metadata": {
    "ExecuteTime": {
     "end_time": "2017-06-28T23:15:49.994666Z",
     "start_time": "2017-06-28T23:15:49.951602Z"
    },
    "scrolled": false
   },
   "outputs": [
    {
     "data": {
      "text/html": [
       "<head><style>                table, th, td { border: 0px solid black;                text-align: center;border-collapse: collapse;}</style></head>                <body><table border=\"0\"><tr><td>                    <table><tr><td><img src='data:image/png;base64,iVBORw0KGgoAAAANSUhEUgAAAQAAAAEACAAAAAB5Gfe6AAAB+0lEQVR4nO3QQREAMAjAMJh/0ZORB42CXnf2tjfHNUAHaA3QAVoDdIDWAB2gNUAHaA3QAVoDdIDWAB2gNUAHaA3QAVoDdIDWAB2gNUAHaA3QAVoDdIDWAB2gNUAHaA3QAVoDdIDWAB2gNUAHaA3QAVoDdIDWAB2gNUAHaA3QAVoDdIDWAB2gNUAHaA3QAVoDdIDWAB2gNUAHaA3QAVoDdIDWAB2gNUAHaA3QAVoDdIDWAB2gNUAHaA3QAVoDdIDWAB2gNUAHaA3QAVoDdIDWAB2gNUAHaA3QAVoDdIDWAB2gNUAHaA3QAVoDdIDWAB2gNUAHaA3QAVoDdIDWAB2gNUAHaA3QAVoDdIDWAB2gNUAHaA3QAVoDdIDWAB2gNUAHaA3QAVoDdIDWAB2gNUAHaA3QAVoDdIDWAB2gNUAHaA3QAVoDdIDWAB2gNUAHaA3QAVoDdIDWAB2gNUAHaA3QAVoDdIDWAB2gNUAHaA3QAVoDdIDWAB2gNUAHaA3QAVoDdIDWAB2gNUAHaA3QAVoDdIDWAB2gNUAHaA3QAVoDdIDWAB2gNUAHaA3QAVoDdIDWAB2gNUAHaA3QAVoDdIDWAB2gNUAHaA3QAVoDdIDWAB2gNUAHaA3QAVoDdIDWAB2gNUAHaA3QAVoDdIDWAB2gNUAHaA3QAVoDdID2AZ2QAv8FqSzOAAAAAElFTkSuQmCC'/></td></tr>                    <tr><td align='center'></td></tr></table></td><td>                    <table><tr><td><img src='data:image/png;base64,iVBORw0KGgoAAAANSUhEUgAAAQAAAAEACAAAAAB5Gfe6AAABy0lEQVR4nO3QQQ0AIAzAwC3Bv2WQcQ9aBc3NfN6uPsCdAPQBLoAA9AEugAD0AS6AAPQBLoAA9AEugAD0AS6AAPQBLoAA9AEugAD0AS6AAPQBLoAA9AEugAD0AS6AAPQBLoAA9AEugAD0AS6AAPQBLoAA9AEugAD0AS6AAPQBLoAA9AEugAD0AS6AAPQBLoAA9AEugAD0AS6AAPQBLoAA9AEugAD0AS6AAPQBLoAA9AEugAD0AS6AAPQBLoAA9AEugAD0AS6AAPQBLoAA9AEugAD0AS6AAPQBLoAA9AEugAD0AS6AAPQBLoAA9AEugAD0AS6AAPQBLoAA9AEugAD0AS6AAPQBLoAA9AEugAD0AS6AAPQBLoAA9AEugAD0AS6AAPQBLoAA9AEugAD0AS6AAPQBLoAA9AEugAD0AS6AAPQBLoAA9AEugAD0AS6AAPQBLoAA9AEugAD0AS6AAPQBLoAA9AEugAD0AS6AAPQBLoAA9AEugAD0AS6AAPQBLoAA9AEugAD0AS6AAPQBLoAA9AEugAD0AS6AAPQBLoAA9AEugAD0AS6AAPQBLoAA9AEugAD0AS6AAPQBLoAA9AEugAD0AS6A3wH26gPcAx3yBfS0uaLRAAAAAElFTkSuQmCC'/></td></tr>                    <tr><td align='center'></td></tr></table></td><tr><tr><td>                    <table><tr><td><img src='data:image/png;base64,iVBORw0KGgoAAAANSUhEUgAAAQAAAAEACAAAAAB5Gfe6AAACDklEQVR4nO3SMQ0AMAzAsHb8QQ+Gj0YmkCM7s6c9XoA9XoB1AC/AOoAXYB3AC7AO4AVYB/ACrAN4AdYBvADrAF6AdQAvwDqAF2AdwAuwDuAFWAfwAqwDeAHWAbwA6wBegHUAL8A6gBdgHcALsA7gBVgH8AKsA3gB1gG8AOsAXoB1AC/AOoAXYB3AC7AO4AVYB/ACrAN4AdYBvADrAF6AdQAvwDqAF2AdwAuwDuAFWAfwAqwDeAHWAbwA6wBegHUAL8A6gBdgHcALsA7gBVgH8AKsA3gB1gG8AOsAXoB1AC/AOoAXYB3AC7AO4AVYB/ACrAN4AdYBvADrAF6AdQAvwDqAF2AdwAuwDuAFWAfwAqwDeAHWAbwA6wBegHUAL8A6gBdgHcALsA7gBVgH8AKsA3gB1gG8AOsAXoB1AC/AOoAXYB3AC7AO4AVYB/ACrAN4AdYBvADrAF6AdQAvwDqAF2AdwAuwDuAFWAfwAqwDeAHWAbwA6wBegHUAL8A6gBdgHcALsA7gBVgH8AKsA3gB1gG8AOsAXoB1AC/AOoAXYB3AC7AO4AVYB/ACrAN4AdYBvADrAF6AdQAvwDqAF2AdwAuwDuAFWAfwAqwDeAHWAbwA6wBegHUAL8A6gBdgHcALsA7gBVgH8AKsA3gB1gG8AOsAXoB1AC/AOoAXYB3AC7AO4AVYB/ACrAN4AXb+gA/S/YH/4otd7QAAAABJRU5ErkJggg=='/></td></tr>                    <tr><td align='center'></td></tr></table></td><td>                    <table><tr><td><img src='data:image/png;base64,iVBORw0KGgoAAAANSUhEUgAAAQAAAAEACAAAAAB5Gfe6AAAa+ElEQVR4nMWb23Yztw6DKa95/zduphejA0iCFDV293YTHxPHgIBP9Phv++cmJ9FXRJ0JXog6g//GWf+a38+ZqGtN1LW2vsdXP4P/1FmThhd41s/xijpdTH/sAHzrLwEX0ARjwRC9XJi32nOtPWe3NLnX1/14dDd1Ve4GT2KvP3fMu/FxOAUGTAcELmIHfACSCBj14EKbFjzf80tJX9fvpn8Kv63gQH9ogHFgnRMHqAebCFgX2vKAB+BRPf6DVQ70G92R/tgA5gDFgC9BUoEwArckAdC5n1fAgqFx6dQFCPUXDGAOVEoAZzQCHoI+AAI6h3hTACVQRSPVXTDgBITEA92DcVGH4HCBVQBU6gJoE7YA3BhwAkJGQc2BUwhOCmAFpp71yDcA3BmwA2G1BCwCOwgCBRwBI43HANwaUAChGQWM+vcQxG0AIAA36CaIikv6NwZEDhRLwCxY6sGGNu5guyDAvwvyAFDST/RXDQgc0HvhZhSACNgMjPUXtgtuhoAh0gCgsAFUDCg4kM/DJAJKPeR2dYDNweEUbCB4sAGUDDjAQFCCTQTGlTY9YGPQynMyBbPTNghbAzIH0IR8FIgjAEbYANgxKBgCRHDtjwBQMmADwudCl4BxwFFQubAAMAOgxiC1pssWJfKV/ooBewfqo0AUgU7BW0YAJCKgxl8OgAoITwzYOOA80BwgG6GsGVhMANIhQNbD32wAZQOYAwkGKhHADDxXJwT1NiBsCIA5SAk+3ADqBrwvgdkKXASUDTMAegpMp+Ak7bUg1Aw4cWB54LbCCgTnLMwqIIKr/z0ARNolXPE7B/ajQBCBCUETADUEiCgG/kT/fd1fO5DNw1kE5pXxklkAYPnzKfilfrnuogMBCLMSJBFQGZh7AQ/A9GBEgFLuxQYg7X4YcObAaQmmCWwfVC5gAKSNQVDPwRIVwDxbxYh2S4eglCwoOMBHAW1BAYLjkIitwLrnBwBozyu4TMDfOeBLcBgBBcFBgVWBua5YAPlOf38NlxF36EChBMgBLX/a0HHmDocEQ4CagkDxG/1rDvilA9EosDzQGejrL+5wSD4EGAi80g+DUMUBvRVke6ENAd8HtQk2ANkQMJTiw3vdXj8OQhUUljCQjwIsAtEuyIcAWTboO4tGNCjffaHu3zkQjgJRBMwumA4BugPHBYDll9vMAa8cCPZCWoEaBKODYYI7oF7xV/rXHPATB54LXoLnsgrBeTAsmIKH0jcANPo7BN87sCmB4oCLgDFhBUDt+H4KxgIo3ef65yC0+L61IN0K8lEgigD7VEhVIJqCGQUz+fPPjmtrFzgIwQYD4TxcgyAfg0CrBwC/RfTb5Vdvh3/hQDoPmwigC/BWwI5BUxtKfwcApl+uFfpfOhCPArQBN/tUiA0Bfgr8Qn+TW+8Cbx3gGDDzMNsHnytjE7S7IFQAIvAagF6/3wUOUEgdSObhJALTBToGdXFkCtYA3Ogn+Hv+7iVeTykEKjWVEtAIoAt8DKJTsJe808/qLwjBYxAUMKDmYReBEIK3hYDQAmgA5Cdef3NM8CsHHAb4KDAjkEBwDYLhFHwKgKD+65igqsF3DgTz8AwBRmBctuWBH4OCKfgEAIH+JwUIwVMUOgdoCegooCKAbwVwDAKxOAUbE3b6Q/wNCK4FPAZB6kAwCqgIKBPUGLT6TwtwoD+uv0iT+8IIH9cg3QqiUSCDIJuDIQIagMO7M/1woT4XeAWCCAN0Hlb6OQTpHGxn4pLwXP+TAns8IALBkQNpCUwEPATt4UA/BS/plQJM/bT+t0wGKBBY4SkKNw6wUcBFYEKwKaV5AQr6AX9m+hkPWgYIlqFYA+aA2guzCCgTbACGQLsDlvVz/EH8NQNue37mgAIhK0E6CtExyEzBbgo61e/if4vINRtAanDuQFQCCAGDoMx/HzTHIBFSACv8pf4Rf5Emlyb4GxTGGMhGATThWX/9qehYdWCgL0B8yvCnzi4nPgDBoQN+L0wiYHdBXYGp9gAAS39Sf/1eYAuCZDPIHKCjgKeg/lDAbPzmbdBWv8M/rf/TgWuq/wYEIQjpKEA8aMOCfAioAbBYf7UNpiA4dCDAQBoB86mQCBTgFICpfnWG26CpgQJBBYXEAVICTUEDwWAOhit2Isj1j3c9rP4rA5cIqN/WIHSghIEoArfoAKgKBACITg5/SfxNBWwIuAORBaEDwwMSgcl/EwAZFRAHgA0AM/yR5WcVcDWwS19xYH2zUUBHoOdU+rthMwcbrTv9tP42/lkFphXWhwII9hhYo0ACQTYE2B1gp1/Xn8SfVwCDkNbg0IEnB8CBHIIGdaQAW/3F+Lf7eS8g8M02xe8c4KNABkFyKOxn+tfS9+/LdNbWgIMgQKEFoS2BjcDsv4KgGgKGRdsNgOMP3/aYpe/f/cPRXQ0GCJzW2AFbgjACzwsVMgfrt4EpAC3+2NhvPWhy94/G6jXYoTDDAN0Hpwl8DiYjcK5/4K8S/1tk/CsxFwIdBF6DigN2L8QIeAhqB5bYLQBo/VcIWPyHDdeSLuZ72cBrUHVgH4EOQXPcY+6Ap/rd7ufIdy8brindBkCH4Lbny5HYAVICHIWGCTMA9mCYBwDTb/FH3/UGEUAIuip4GpRAQEE4PAD9KwIzADgGrcV374Oj5af1tx5ABDoEQb6uAtkUSyColIBBEA4H4lpvABjXn819ZvnnJBiFwNegAoLcATYK2THIvA1MCpDUP9r4YPl7AuIQJDUoOmBKEETAjUEiNQBY/Tz+4fKvBNzEBRIE9GF2nVjgHKARcBBcFZjrDgDw+tt6BlDu4+/INy76IORCEPIQk5CGQDugSuAjoHfB6G0g0U/rz+JPoi/3c+2aolkIghrsQcAwQCKgOmCHAHWbnDb1z8g3ll/udk3RJATbGrxygFCAzMFbALL6h/EPln8kQDIXbBA8EHcOaAyoUQgDIHYIQOE1/Rh/Qz+v/bHYJ2DLQ+VAjEKCgRUCtREu4GnVCQA4/lT8M/JFCSjzcHUhCUHsAIPgGIPo20Cnn9TfxT9dfkjAamWdh7UawOOySrAsGNpHB/gQUNDP458u//xacwAkYMNDbUPJgSQCD7zcEGCqUNFP5z6z/GCEmgRdAqx8x0JZzV8gKJbA7YNmDmbHQbz+vu/N3Y/MfX75ywkoboomBBaF1oH+F4Z+DcEF/wwAC3929yst/1kCEheKNfAOkAg8KzcqMOdArr8Q/4x8PgFa/5aHpAYFB0wJlv4JQaiADnxRv6bfjnzwNbZBtfaHPExBYBzwEegZXthXAeD6of6vyDeGLhiEkgRseWhBUHJAUbC/RHwjlOr38T8jX5N7PHQR5YEXMQ9TBxYG0GsDwVtgCPDKc/0V8oVfGoK+B1UeinJAEgd8BG6BOVi9DUQbNP753BeTj6XfQJD3oMrDOwEBKwFEYB4Ps5+Haf26/i7+J+RDExYEv6mCKJmpAz1QEIEeAIEzDwAf/93yb75sBbTUqApL/u1DYGpAHbARWBaMIWApD/Uv6Wv516JHuTfRH7cupz+rwlr9mIU1BzAC650AAiDWz+lXWH5tAlYA9VvNDoaGCQLrr0CAKNQlMBG4x1tBI9vib9V/ZAAJEGz6UfTH1WvhKKgCg6ENwapBBALnwIoABoABgNR/xN8tvw9BFP3xnsNUwOjfVcGwMAOBKQFEYL5iDoCg/pp+m+jTW2oXWC8oRIGDodkY/KYYOjBCAB3AISDRj+STOPdu1cUu/Ly0u8DtreBgpFUAHgp3AEugIKjeCDn9UH9KPp8AY4IEAZiDEInAeRWQh0M6oHDcvfzEDsDST/0Tfxj/gHx59KMAyGWlb/Wz0YDx0NfAlkBBEAuQxz8gX7LX+4Vff+yy0vMo0DQEPNw5oCFoPg/j+gvkY3u9X/h1A7bB0yhwIxQPLQiGAyM34l6b1/8kPyBfOfrEBkEGEOlpFGgV4hBoB1QE7n44ZOq2+uPlL0Q/XPh54yKrb6UTK6I0KBcEHBDvwKSgfW0Wf4p+0fInOx1b+Hnjoqo3bXDKPQ+nelsDGSWYf0JVf+jH+C/6GfJF0d/mHm5EDEjb4MTrBOgqmBroEjzP5Y6Fkvgz8gV7fZx774VcKNhbsIkCS4OugmQOdAK4AoD+LfkOgEfvuRLB+yi4PTLgoRAHRgRusQVooxkJ+Y6AF8vXEMwsOI8CujD2PzEO9A6ofxPQ8TfiHyz/6cKHd19G5jhtLEijQFzQNVhDY19qOARq47+NvpcWyAdxGoLqFAgPLTiqgnGgW3639a3016Jflu+NEBH5FDQHqotRUDyEmejv/rvvv7+/fk35s4yzobrtH8xeV+Xsc/oLuzbEVYDV/5sm6Ou+IYED8Ss4PfuYRJR/M81FVAUZ6/t3r4X/Gz6sh8X+sl14r/jspa+T2warp00ulBUsBB0DIjIOBKpjfpp5EgJPgmqnLx1/TSfgbY60Bbe5FAzBcGDWfuR/PiJ21e0z/uBsnT7B/V87otuwQiCyHPi7//4eFo7hQJHP5v4Xep0uy4BSIU4t8FXo670gKGv5rW9H8ksvGE8f81PHTxD+kH3Vugq3yCrBn8hNop/L//aV9tOnlJOC2MLrUVW4b5lzgFl+r/j1S9g/5LZBePTF01XOhgt3z8BfX/7zph+/QHLyBpz9fuEhZkHfBv/uv67/zhH/7i9X7g0SUDx9F5THgfWu6LdLWzwpA758rvzEnhzfFP+fXogy4GScOj6xJ2/Sgvv/Zy/kuwrwF9oqDzWR1uTTPtKauf/FU74/eQOO/8zuIX/WpDVpj/72kdaeO8Kff/uXK/cGCfhuafOz/tWafFprrTuwHqmfHb9Acvp88XSFVbILP6Lfuv7P59MdaDJdKFSi+hL2D33MPaU/Vn1FfuGHztakr/+TgR4CqEL8RD96pf1kK/BSaiYfJMHyP8r797oTf1I/Se3vll4wnj75rx9VMpCvoy9D6qe1T/t8Ps+V7oD4KpxacFiNT3D/N8qdAIi+tKUfTh94xFXBPuMPztbpWh/AzX+QUDqZX5ufY/hL+ESvH7rqx7/GB4LPlrgccFUQelmMP3npeGY/F4iEuTOv3Mo2H2XI8y1yy9R/d/3dgVWDEYJm0xBGITBla9Tn5DdpyelLs19jYfv5ZyVfXU9CQFoQv5yDs6u+5nStfd7tv93Qy7+O3z4/qSIwHYAQUP2BBW98sBUoyCdeKNkk+rP96/Ov8W0S8jgAIQiqEIPxsANXwMCa/GTh9fIHn3/2lzMIaB3gIShEYSMc7772OplitvBR9JtM+ktbzzYY2PULytaTUVoFGoXAAna32wapfIt4uvBx9FX9IW3Pv4F4LIABcYHgpApiLqlgf8/l8v7lwhPyYfz1k/VkNurAqkGpCsUo2HvsLlBaeEG1418rLeGGfEr/rOHzwT6sl1r9pmpgQrCU6l23GAVtwZXJjxbeLTkIt+QbpBtTHxQAIGgiMB0QDMLQTnrAIlCbGa69fNZ82UV/SB/LL1r/yhZEwBEAsbitQkyD1IKLRL0APM88Tz4S/yn5HgG450tS7wZ4DTgPSRoiK8iNiAEHwKPke9QJ06//lI+AdUCxMAuB119ow2UVpwvPo79Zfq+/DwELgtISB7IQ5FWoROE6XniWe9C+gm31TxdWEMYj86WrbZA4IOgCbcNpFK4YdLXom3e7C/wGf1g1wQDoCBgHFAgwAFkIMv0OjFe08II6SfTp8kP8Tf2H9K4exyBZ+m0JNAiwBj4EaRXEW9EWA3gArGaWe0o+Hn8AQHdhfUiHLzpwwNSA8DCtQhyBS3gAjqKPyy8b/bMABoKmBJEDPgRnVXARgG0wAB5THZJvHvML9c8CeAhWHFjqEx4mVXBRuLbAC3NPyKfrDx0X7YRAAHQESAkWClUNEh6GVSBgvJzscMxVnefk4/HXACABUBUgDngQJDzMqkA2BrsLUOD5YReiv+If1N8CYEBAQbC/IF6CEAQrACsEfjQIwIgV2ADPI58c8Ijqr5ULnAEETQQ2DqgaoO59CFwVLrXqNeSbzQ/jL6H+2QGcgwGCQMFZAuqAqQGTv9sYMA2jAnn098uv4y9e//wr0iugITjWpMUOkBpsQlCpwhWueiX6avmD4d/EoB8LVQEgEfAlYDUgLDytwjXyHec+ir6Jf/zmZwFgFKCHCvW3LxwwGyLjIe9BQwjy3G+WH+LP6u/0Awv6b/VfAwsqDvAaJCEIe3Btcp+Sjyw/1Y+31fstpGAQAe4ArcEbHhoIikvAduOr6IcCyNpxxUCwc/ClA3UeWgjy3O/Jh+Cn+Pf6x13zRkCB1AEGAlODnIe6CmkCMvLBvh/UH23AKXj+JSXfVSDAAAWBr0GZh1ECtuTbxh8BqG/3ACgIrgpgCXIHshqUeRglwGlnc19F/7jasz8rIBaCSQSqDlgWVnh4OeFB9NXyr91vq98XoC0vl/puwUsHRJ+B9ISHcxs0wnPy2eWf9ZdUPwRi7AWw/qB/ysc4Ewc0CGwI0ipoIy7d+Zh8Z/FH/fNyEnA8o5FPSxA4UKxBFoIoAZuNj+1+uX5fgAVB5QHqf+kAY2HEQ0hAjXyw/Jv6Wy9gCp63MQAkAlsMcBCYGhR4eEmZfCb+mX4GABIAhCCpQI4B5wCpQYGHV7z8m/iH+HP61wgoegxyEJwcnCnIHaAojGrAQ3CJXf5k7oPgZ/H3ALRDAB4OmRngFMwwwEEQ1IBVQWYCguiT+O/rzwBoGSgMgpyCZw7ENQiqcMmefC7+Ff36uhoC3C445btRwJRg70BYgygE1558Pv6S6Eft+m3gGALGAx6CoB83wgwD6EBagygEV7t35Ivr7/EXAEAVYAWAQfC4BAuFAQhyHl6cfGv5V/JLu78HALiBQ8EKgN0H/Ua4cSADAWUhVuFqLvp++av1d/rhuhoCXADyCJw6AOLDEAwnLtlufAf1twC0BcAAOAh6/RQDGwdoDZJN8dpvfCz+uX4LgPW42QXxmADsg54BGIHcAb4fxpvi1fK5L4g/w5/2AXfA9Y9iTADWs/AI6L0wK4FDodsPAxZelHw0/ts3PxYAegT0Y5CH4NLfxdcxEIBgVwO59vH/Tr9FIQTAQdBWQDXgRw7YEDyToDgP/O63m34IAEUVYIxBPQAUgkY/7oVbEBIU2v1QPdUTgssuvQWfXf6dfjcJ6yl4jUHd1umr3gcNA2wEdg4E+6FS/1y5yOybxj/Anzn2pQpgCIi74HwyBUGyEVYdOK6BqYAFf7H+fs3J20A9BiUQpKNADQM5CLT6oAIq/sX6UwDqZMAQsIOgHQVA/ZkDCgRRCKAC2/jX9MN9E3y6AjkEo1FgMbDqQFYDXYFa/Lf61w0HADIH2yczEXiNgY0DtgaXj/8h/jIA6i0hDoCNAB8F6g4kILA16BWI6l/BH9M/73FDwDxI6iDI9WcYCB3wKGQgeCrQ0vrv8ad9GPr0FDwv53vvGIJL/RSv178CQo/CEATXbP67+icAXKphDpbhDIFgJ4CvgC/BgQM5CGRsg2n9C/rXjVl9w8AxBdLDIcOEtr5cCY4wkDsAz6EZwOtf0W8BoAqghgD90TiqN/sgiI9LcOQAA0HfBn38a2/+qX5XADsHjwCoo8JxBF47YFHIanBF8S/hz+kXpTSag0cA8JnjUcjvhVUHUhT2J1kMkOP6Ox80EVYBVAX8Luj3QcXBqAR7EMYgCBhwqp8BkBUAhgD4VMg+c0MLflOC0AHLAHPM91A/BcCMgDsceNv1X274CtgA/MABDYIrrX+CvxgAQyve7wMQQ9BHgOyFBw7kIJjvBY7r7/XrHVDsELDGoBCCfBSiJag7kINgMOA7/fOaK4DIXH47BuUQDEcBCsJXDjwMaK/qb3xwAAiHgLbeCjIIov4oAMdbQQqCS8W/rt9tAOrOcAggx8NAvY8A8+AcA8SBaR9CsIy/HACmAGoIWAHouRNIgo1ANAq8wECMQpgED+K/AUA4BNgAwJ9h++BRCTYORCDoH45+o58AANS7w4F7CPIKoPwfOYAQ/In+eTcWQFWgAkEaAY+BHzgAEHyj399aqy9kCIAAbCDIKsBLoDHwxoHrFH9GOo7BZAjgYxA9HqIgiPopBd+AkKJQ7QJS2f0zAAoWYPZg3hXvgj4C4SgAG+FxCUgIcBd4od8AgBVgbgwuAMtBvAxGIVuCXzkwjwe81g+P8CmYjEFuE0T5Vn8wCugSvHbg+Vdi3+i3APBTsB+DMghq/QkFf+AA7gIl/JENQAFg3cmGABWABIJhBcg8fL4VIArXLiDVNz/WCA0AOgUr+WUI2gpE8/ALDKgQTANOjv15AIZTsKpAFYJBBeJ5+AsHhgHv9MMjwRTMx6AtBLl+x4C3GIAfGYPQO/1qBB5GkCnYBkCtP3ihI7CZh9Xyv3bgmQP2+Ev1q9UXjAD8pA2A/5OVCEQleOEAmwMK+s1d8RQMBBz/P0K8C0b7oOIgK0GAgYoDrc8BR/gPADCv5EOA3QWHUcoEtw+yAER74UkEnh9ab4cruiMABAUwQ8AKgFWu5ZMI/CclaE0PQi/1RwWACrgA1CBoK7ApwTsHrl/qT4cAG4AEgnEFwnn4tQMlAwIA2ofSIWAEoAMggKDeBOg+4DfCKf4FCEsJQMr5m7j6ZAgQkO/+fZCJgt8HTQXIKJBEoORArQJOfwQAwQgMD3AMesRPC9XTz/M8Ar8tQcGALQBEwILNHPwEoALBuAJDuNkI3zmwNyDQDw+toGtYkMOBEIAAgrD8Sz8LAMfAsQNbAyL9BgDrbj8EwKei7EMBVO8asKWgm4UOHdgZQDaAeb/eAaf68QNmCJhvhtTxEDWG2QiE07CR/w0INwawDcABQHQBkjnYB8BsATQC0Sjg5+EXDhR3Aa5/Sl+PhUPADMAEAG6Y6spGPynBFyDMDUgAuMRjAfAxHALY8TD3l/k+qCoANfgRBlIDiP552/TbTMGuAvGHAih+ReB0FFAROHEgM8DsdqjdwnEzBHTDMADs71ZHoWIJSg4kBnCNFoJLZzgEkACQvcXMQnYUiim4x0DmQGxAtAGMGxYAoiPgxyD3VjDaCnajEC/BuDh0oDoJsgloPm6GgHwMav5IkPIhG4WAgTAPm73wDIShARsAaul6CFhXgl2wAEGnnwcgLkHVgciAHQA3BXBDgAtAHYIBB3kJjkEYGHAAQFsAWwEagD0Ewwq4EnwHQm5ABkDrjy0ArwD7UGADwTwCLgU7DAQOUANC/Q4AUQFcBVYAKhCsVCAtQd2BfwFmbsLP6tZWXgAAAABJRU5ErkJggg=='/></td></tr>                    <tr><td align='center'></td></tr></table></td><tr></tr></table></body>"
      ],
      "text/plain": [
       "<IPython.core.display.HTML object>"
      ]
     },
     "metadata": {},
     "output_type": "display_data"
    }
   ],
   "source": [
    "if testing:\n",
    "    (x, y) = meshgrid(range(256), range(256))\n",
    "    z = np.sqrt((x-127)**2 + (y-127)**2)\n",
    "    \n",
    "    nb = ia.nbshow(2)\n",
    "    nb.nbshow(ia.normalize(x))\n",
    "    nb.nbshow(ia.normalize(y))\n",
    "    nb.nbshow(ia.normalize(x + y))\n",
    "    nb.nbshow(ia.normalize(z))\n",
    "    nb.nbshow()"
   ]
  },
  {
   "cell_type": "markdown",
   "metadata": {},
   "source": [
    "## Measuring time:"
   ]
  },
  {
   "cell_type": "code",
   "execution_count": 28,
   "metadata": {
    "ExecuteTime": {
     "end_time": "2017-06-28T23:16:18.325738Z",
     "start_time": "2017-06-28T23:15:53.403119Z"
    }
   },
   "outputs": [
    {
     "name": "stdout",
     "output_type": "stream",
     "text": [
      "- Computational time is:\n",
      "192 µs ± 1.33 µs per loop (mean ± std. dev. of 7 runs, 10000 loops each)\n",
      "\n",
      "- numpy meshgrid\n",
      "115 µs ± 2.71 µs per loop (mean ± std. dev. of 7 runs, 10000 loops each)\n"
     ]
    }
   ],
   "source": [
    "if testing:\n",
    "    print('- Computational time is:')\n",
    "    %timeit meshgrid(range(256), range(256))\n",
    "    print('\\n- numpy meshgrid')\n",
    "    %timeit np.meshgrid(range(256), range(256))"
   ]
  },
  {
   "cell_type": "markdown",
   "metadata": {},
   "source": [
    "## See also\n",
    "   - indices -Return an array representing the indices of a grid\n"
   ]
  },
  {
   "cell_type": "code",
   "execution_count": null,
   "metadata": {
    "collapsed": true
   },
   "outputs": [],
   "source": []
  }
 ],
 "metadata": {
  "kernelspec": {
   "display_name": "Python 3",
   "language": "python",
   "name": "python3"
  },
  "language_info": {
   "codemirror_mode": {
    "name": "ipython",
    "version": 3
   },
   "file_extension": ".py",
   "mimetype": "text/x-python",
   "name": "python",
   "nbconvert_exporter": "python",
   "pygments_lexer": "ipython3",
   "version": "3.6.1"
  },
  "latex_envs": {
   "LaTeX_envs_menu_present": true,
   "autocomplete": true,
   "bibliofile": "biblio.bib",
   "cite_by": "apalike",
   "current_citInitial": 1,
   "eqLabelWithNumbers": true,
   "eqNumInitial": 1,
   "hotkeys": {
    "equation": "Ctrl-E",
    "itemize": "Ctrl-I"
   },
   "labels_anchors": false,
   "latex_user_defs": false,
   "report_style_numbering": false,
   "user_envs_cfg": false
  },
  "toc": {
   "colors": {
    "hover_highlight": "#DAA520",
    "navigate_num": "#000000",
    "navigate_text": "#333333",
    "running_highlight": "#FF0000",
    "selected_highlight": "#FFD700",
    "sidebar_border": "#EEEEEE",
    "wrapper_background": "#FFFFFF"
   },
   "moveMenuLeft": true,
   "nav_menu": {
    "height": "161px",
    "width": "252px"
   },
   "navigate_menu": true,
   "number_sections": true,
   "sideBar": true,
   "threshold": 4,
   "toc_cell": false,
   "toc_section_display": "block",
   "toc_window_display": false,
   "widenNotebook": false
  }
 },
 "nbformat": 4,
 "nbformat_minor": 2
}
