{
 "cells": [
  {
   "cell_type": "markdown",
   "metadata": {
    "toc": "true"
   },
   "source": [
    "# Table of Contents\n",
    " <p><div class=\"lev1 toc-item\"><a href=\"#Function-affine\" data-toc-modified-id=\"Function-affine-1\"><span class=\"toc-item-num\">1&nbsp;&nbsp;</span>Function affine</a></div><div class=\"lev2 toc-item\"><a href=\"#Synopse\" data-toc-modified-id=\"Synopse-11\"><span class=\"toc-item-num\">1.1&nbsp;&nbsp;</span>Synopse</a></div><div class=\"lev2 toc-item\"><a href=\"#Description\" data-toc-modified-id=\"Description-12\"><span class=\"toc-item-num\">1.2&nbsp;&nbsp;</span>Description</a></div><div class=\"lev2 toc-item\"><a href=\"#Examples\" data-toc-modified-id=\"Examples-13\"><span class=\"toc-item-num\">1.3&nbsp;&nbsp;</span>Examples</a></div><div class=\"lev3 toc-item\"><a href=\"#Example-1\" data-toc-modified-id=\"Example-1-131\"><span class=\"toc-item-num\">1.3.1&nbsp;&nbsp;</span>Example 1</a></div><div class=\"lev3 toc-item\"><a href=\"#Example-2\" data-toc-modified-id=\"Example-2-132\"><span class=\"toc-item-num\">1.3.2&nbsp;&nbsp;</span>Example 2</a></div><div class=\"lev3 toc-item\"><a href=\"#Example-3\" data-toc-modified-id=\"Example-3-133\"><span class=\"toc-item-num\">1.3.3&nbsp;&nbsp;</span>Example 3</a></div><div class=\"lev3 toc-item\"><a href=\"#Example-4\" data-toc-modified-id=\"Example-4-134\"><span class=\"toc-item-num\">1.3.4&nbsp;&nbsp;</span>Example 4</a></div><div class=\"lev2 toc-item\"><a href=\"#Equation\" data-toc-modified-id=\"Equation-14\"><span class=\"toc-item-num\">1.4&nbsp;&nbsp;</span>Equation</a></div><div class=\"lev2 toc-item\"><a href=\"#See-Also\" data-toc-modified-id=\"See-Also-15\"><span class=\"toc-item-num\">1.5&nbsp;&nbsp;</span>See Also</a></div><div class=\"lev2 toc-item\"><a href=\"#Contributions\" data-toc-modified-id=\"Contributions-16\"><span class=\"toc-item-num\">1.6&nbsp;&nbsp;</span>Contributions</a></div>"
   ]
  },
  {
   "cell_type": "markdown",
   "metadata": {},
   "source": [
    "# Function affine\n",
    "\n",
    "## Synopse\n",
    "\n",
    "Affine transform.\n",
    "\n",
    "- **g = affine(f, T, domain)**\n",
    "\n",
    "  - **g**: Image. \n",
    "\n",
    "\n",
    "  - **f**: Image. \n",
    "  - **T**: Image. Affine matrix for the geometric transformation.\n",
    "  - **domain**: Output Image domain. Optional. Default is domain of the input f.\n",
    "  "
   ]
  },
  {
   "cell_type": "code",
   "execution_count": 3,
   "metadata": {
    "ExecuteTime": {
     "end_time": "2017-03-30T09:04:52.758243",
     "start_time": "2017-03-30T09:04:52.687310"
    },
    "collapsed": true
   },
   "outputs": [],
   "source": [
    "import numpy as np\n",
    "\n",
    "def affine(f,T,domain=0): \n",
    "\n",
    "    if np.sum(domain) == 0: \n",
    "        domain = f.shape\n",
    "    if len(f.shape) == 2:\n",
    "        H,W = f.shape\n",
    "        y1,x1 = np.indices((domain))\n",
    "\n",
    "        yx1 = np.array([ y1.ravel(), \n",
    "                         x1.ravel(), \n",
    "                         np.ones(np.product(domain))])\n",
    "        yx_float = np.dot(np.linalg.inv(T), yx1)\n",
    "        yy = np.rint(yx_float[0]).astype(int)\n",
    "        xx = np.rint(yx_float[1]).astype(int)\n",
    "\n",
    "        y = np.clip(yy,0,H-1).reshape(domain)\n",
    "        x = np.clip(xx,0,W-1).reshape(domain)\n",
    "\n",
    "        g = f[y,x]\n",
    "\n",
    "    if len(f.shape) == 3: \n",
    "        D,H,W = f.shape \n",
    "        z1,y1,x1 = np.indices((domain))\n",
    "        zyx1 = np.array([ z1.ravel(), \n",
    "                          y1.ravel(), \n",
    "                          x1.ravel(), \n",
    "                          np.ones(np.product(domain)) ])\n",
    "        zyx_float = np.dot(np.linalg.inv(T), zyx1)\n",
    "\n",
    "        zz = np.rint(zyx_float[0]).astype(int)\n",
    "        yy = np.rint(zyx_float[1]).astype(int)\n",
    "        xx = np.rint(zyx_float[2]).astype(int)\n",
    "\n",
    "        z = np.clip(zz, 0, D-1).reshape(domain) #z\n",
    "        y = np.clip(yy, 0, H-1).reshape(domain) #rows\n",
    "        x = np.clip(xx, 0, W-1).reshape(domain) #columns\n",
    "\n",
    "        g = f[z,y,x]\n",
    "\n",
    "    return g"
   ]
  },
  {
   "cell_type": "markdown",
   "metadata": {},
   "source": [
    "## Description\n",
    "\n",
    "Perform the affine transformation of an image in 2D or 3D."
   ]
  },
  {
   "cell_type": "markdown",
   "metadata": {},
   "source": [
    "## Examples\n",
    "\n",
    "### Example 1\n",
    "    "
   ]
  },
  {
   "cell_type": "code",
   "execution_count": 4,
   "metadata": {
    "ExecuteTime": {
     "end_time": "2017-03-30T09:04:56.897094",
     "start_time": "2017-03-30T09:04:56.753506"
    },
    "collapsed": false
   },
   "outputs": [
    {
     "name": "stdout",
     "output_type": "stream",
     "text": [
      "Original matrix: \n",
      "\n",
      "[[ 1  2  3  4  5]\n",
      " [ 6  7  8  9 10]\n",
      " [11 12 13 14 15]] \n",
      "\n",
      "Result with scale: \n",
      "\n",
      "[[ 1  2  3  4  5]\n",
      " [11 12 13 14 15]\n",
      " [11 12 13 14 15]] \n",
      "\n",
      "Result with rotation: \n",
      "\n",
      "[[ 1  7  7 13 14]\n",
      " [ 6  6 12 12 13]\n",
      " [ 6 11 11 12 12]] \n",
      "\n",
      "Result: \n",
      "\n",
      "[[1 1 1 2 3]\n",
      " [1 1 1 2 3]\n",
      " [6 6 6 7 8]] \n",
      "\n"
     ]
    }
   ],
   "source": [
    "import numpy as np\n",
    "\n",
    "scale = [1,0.5]\n",
    "theta = np.pi/4\n",
    "t = [2,1]\n",
    "\n",
    "Ts   = [[scale[1],0,0], [0,scale[0],0], [0,0,1]]\n",
    "Trot = [[np.cos(theta),-np.sin(theta),0], [np.sin(theta),np.cos(theta),0], [0,0,1]]\n",
    "Tx   = [[1,0,t[1]], [0,1,t[0]], [0,0,1]]\n",
    "\n",
    "f = np.array([[1,2,3,4,5],[6,7,8,9,10],[11,12,13,14,15]])\n",
    "print('Original matrix:','\\n')\n",
    "print(f,'\\n')\n",
    "g = affine(f,Ts)\n",
    "print('Result with scale:','\\n')\n",
    "print(g,'\\n')\n",
    "\n",
    "g = affine(f,Trot)\n",
    "print('Result with rotation:','\\n')\n",
    "print(g,'\\n')\n",
    "\n",
    "g = affine(f,Tx)\n",
    "print('Result:','\\n')\n",
    "print(g,'\\n')"
   ]
  },
  {
   "cell_type": "markdown",
   "metadata": {},
   "source": [
    "### Example 2\n"
   ]
  },
  {
   "cell_type": "code",
   "execution_count": null,
   "metadata": {
    "collapsed": true
   },
   "outputs": [],
   "source": [
    "import \n",
    "f = iaread('lenina.pgm')\n",
    "theta = pi/4\n",
    "scale = [0.5,0.5]\n",
    "t = [0,64]\n",
    "\n",
    "Ts   = [[scale[1],0,0], [0,scale[0],0], [0,0,1]]                         #Scale\n",
    "Trot = [[cos(theta),-sin(theta),0], [sin(theta),cos(theta),0], [0,0,1]]  #Rotation\n",
    "Tx   = [[1,0,t[1]], [0,1,t[0]], [0,0,1]]                                 #Translation\n",
    "\n",
    "g = affine(f,dot(Tx,dot(Ts,Trot)))\n",
    "adshow(f,\"Original image\")\n",
    "adshow(g,\"Affine transformation\")\n"
   ]
  },
  {
   "cell_type": "markdown",
   "metadata": {},
   "source": [
    "### Example 3"
   ]
  },
  {
   "cell_type": "code",
   "execution_count": null,
   "metadata": {
    "collapsed": true
   },
   "outputs": [],
   "source": [
    "import dicom\n",
    "from ia636 import *\n",
    "from math import *\n",
    "\n",
    "f = array([[[0,1,3],\n",
    "            [2,3,1],\n",
    "            [1,2,1]],\n",
    "\n",
    "            [[4,5,6],\n",
    "            [6,7,3],\n",
    "            [4,5,6]]])\n",
    "\n",
    "print(\"f:\\n\",f)\n",
    "print(\"shape f\\n\",f.shape)\n",
    "\n",
    "Trx = array([[1,0,0,0],[0,cos(pi/2),sin(pi/2),0],[0,-sin(pi/2),cos(pi/2),0],[0,0,0,1]],'d')\n",
    "g = affine(f,Trx)\n",
    "print(\"Rotation in X:\\n\",g)\n",
    "\n",
    "Try = array([[cos(pi/2),0,-sin(pi/2),0],[0,1,0,0],[sin(pi/2),0,cos(pi/2),0],[0,0,0,1]],'d')    \n",
    "g = affine(f,Try)\n",
    "print(\"Rotation in Y:\\n\",g)\n",
    "\n",
    "Trz = array([[cos(pi/2),sin(pi/2),0,0],[-sin(pi/2),cos(pi/2),0,0],[0,0,1,0],[0,0,0,1]],'d') \n",
    "g = affine(f,Trz)\n",
    "print(\"Rotation in Z:\\n\",g)"
   ]
  },
  {
   "cell_type": "markdown",
   "metadata": {},
   "source": [
    "### Example 4"
   ]
  },
  {
   "cell_type": "code",
   "execution_count": null,
   "metadata": {
    "collapsed": true
   },
   "outputs": [],
   "source": [
    "import dicom\n",
    "from math import *\n",
    "\n",
    "filename = 'PHILIPS/DICOM/IM_0007'\n",
    "dataset = dicom.read_file(find_attachment_file(filename))\n",
    "data = dataset.pixel_array.astype(float64)\n",
    "data = data[90:120,:,:]\n",
    "g = mosaic(data, 5)\n",
    "adshow(normalize(g), title = 'Original Image')\n",
    "\n",
    "theta = pi/3\n",
    "# Transformation of line rotation\n",
    "Trr = [[cos(theta), 0, sin(theta), 0],\n",
    "       [0, 1, 0, 0],\n",
    "       [-sin(theta), 0, cos(theta), 0],\n",
    "       [0, 0, 0, 1]]\n",
    "\n",
    "# Transformation of slices rotation\n",
    "Trs = [[1, 0, 0, 0],\n",
    "       [0, cos(theta), -sin(theta), 0],\n",
    "       [0, sin(theta), cos(theta), 0],\n",
    "       [0, 0, 0, 1]]\n",
    "\n",
    "#Transformation of columns rotation\n",
    "Trc = [[cos(theta), -sin(theta), 0, 0],\n",
    "       [sin(theta), cos(theta), 0, 0],\n",
    "       [0, 0, 1, 0],\n",
    "       [0, 0, 0, 1]]\n",
    "\n",
    "g = affine(data,Trc)\n",
    "adshow(ia.normalize(mosaic(g, 5)), title = 'columns rotated')"
   ]
  },
  {
   "cell_type": "markdown",
   "metadata": {},
   "source": [
    "## Equation\n",
    "\n",
    "$$ \\begin{matrix}\n",
    "    \\begin{bmatrix}\n",
    "    x{}'\\\\ \n",
    "    y{}'\\\\ \n",
    "    z{}'\\\\ \n",
    "    1\n",
    "    \\end{bmatrix} & = & \\begin{bmatrix}\n",
    "    A &B  &C  &D \\\\ \n",
    "    F &G  &G  &I \\\\ \n",
    "    J &K  &L  &M \\\\ \n",
    "    0 &0  &0  &1 \n",
    "    \\end{bmatrix}\\begin{bmatrix}\n",
    "    x\\\\ \n",
    "    y\\\\ \n",
    "    z\\\\ \n",
    "    1\n",
    "    \\end{bmatrix}\n",
    "    \\\\\n",
    "    g(x{}',y{}',z{}')  &=&  f(T^{-1}(x{},y{},z{}))\n",
    "    \\end{matrix}\n",
    "$$"
   ]
  },
  {
   "cell_type": "markdown",
   "metadata": {},
   "source": [
    "## See Also\n",
    "\n",
    "- `affine3` - Geometric affine transformation with interpolation"
   ]
  },
  {
   "cell_type": "markdown",
   "metadata": {},
   "source": [
    "## Contributions\n",
    "\n",
    "- Fernando Paolieri Neto, April 2009\n",
    "- Jan Beeck, 1st semester 2011"
   ]
  },
  {
   "cell_type": "code",
   "execution_count": null,
   "metadata": {
    "collapsed": true
   },
   "outputs": [],
   "source": [
    "if testing:\n",
    "    print('testing affine')\n",
    "    f = array([[1,2,3,4,5],[6,7,8,9,10],[11,12,13,14,15]])\n",
    "    T = array([[1,0,0],[0,1,0],[0,0,1]], 'd')\n",
    "    print(repr(affine(f,T)) == repr(array(\n",
    "          [[ 1,  2,  3,  4,  5],\n",
    "           [ 6,  7,  8,  9, 10],\n",
    "           [11, 12, 13, 14, 15]])))\n",
    "    T[0,0] = 0.5\n",
    "    print(repr(affine(f,T)) == repr(array(\n",
    "          [[ 1,  3,  5,  5,  5],\n",
    "           [ 6,  8, 10, 10, 10],\n",
    "           [11, 13, 15, 15, 15]])))"
   ]
  }
 ],
 "metadata": {
  "kernelspec": {
   "display_name": "Python 3",
   "language": "python",
   "name": "python3"
  },
  "language_info": {
   "codemirror_mode": {
    "name": "ipython",
    "version": 3
   },
   "file_extension": ".py",
   "mimetype": "text/x-python",
   "name": "python",
   "nbconvert_exporter": "python",
   "pygments_lexer": "ipython3",
   "version": "3.6.0"
  },
  "toc": {
   "colors": {
    "hover_highlight": "#DAA520",
    "running_highlight": "#FF0000",
    "selected_highlight": "#FFD700"
   },
   "moveMenuLeft": true,
   "nav_menu": {
    "height": "210px",
    "width": "252px"
   },
   "navigate_menu": true,
   "number_sections": true,
   "sideBar": true,
   "threshold": 4,
   "toc_cell": true,
   "toc_section_display": "block",
   "toc_window_display": false
  }
 },
 "nbformat": 4,
 "nbformat_minor": 2
}
