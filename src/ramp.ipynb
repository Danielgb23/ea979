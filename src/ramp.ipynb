{
 "cells": [
  {
   "cell_type": "markdown",
   "metadata": {
    "deletable": true,
    "editable": true
   },
   "source": [
    "# Function ramp"
   ]
  },
  {
   "cell_type": "markdown",
   "metadata": {
    "deletable": true,
    "editable": true
   },
   "source": [
    "## Synopse\n",
    "Creates a 1D/2D/3D gray scale image with dimensions given by s, with n increasing gray scale bands with values varying from the specified range\n",
    "\n",
    "- **g = ramp(s, n, range) **\n",
    "\n",
    "    - **g**: Image.\n",
    "    - **s**: [S H W]: slices, height and width output image dimensions.\n",
    "    - **n**: [nz ny nx]: number of bands.\n",
    "    - **range**: [kz_min, kz_max,ky_min,ky_max,kx_min,kx_max], minimum and maximum gray scale values on z,y and x dimension."
   ]
  },
  {
   "cell_type": "code",
   "execution_count": 1,
   "metadata": {
    "collapsed": false,
    "deletable": true,
    "editable": true
   },
   "outputs": [],
   "source": [
    "from numpy import *\n",
    "%matplotlib inline\n",
    "\n",
    "def ramp(s, n, range=[0,255]):\n",
    "    aux = array(n)\n",
    "    s_orig = s\n",
    "\n",
    "    if len(aux.shape) == 0:\n",
    "        s = [1,s[0],s[1]]\n",
    "        n = [0,0,n]\n",
    "        range = [0,0,0,0,range[0],range[1]]\n",
    "\n",
    "    slices,rows, cols = s[0], s[1], s[2]\n",
    "    z,y,x = indices((slices,rows,cols))\n",
    "    gz = z*n[0]//slices * (range[1]-range[0]) // (n[0]-1) + range[0]\n",
    "    gy = y*n[1]//rows * (range[3]-range[2]) // (n[1]-1) + range[2]\n",
    "    gx = x*n[2]//cols * (range[5]-range[4]) // (n[2]-1) + range[4]\n",
    "\n",
    "    return (gz+gy+gx).reshape(s_orig)"
   ]
  },
  {
   "cell_type": "markdown",
   "metadata": {
    "deletable": true,
    "editable": true
   },
   "source": [
    "## Description\n",
    "Create an 1, 2 or 3-dimensional image with increasing gray value bands. The function receives the output dimension, the number of increasing bands, and the range of values variation in each direction."
   ]
  },
  {
   "cell_type": "markdown",
   "metadata": {
    "deletable": true,
    "editable": true
   },
   "source": [
    "## Examples\n",
    "- **Numeric example**"
   ]
  },
  {
   "cell_type": "code",
   "execution_count": 2,
   "metadata": {
    "collapsed": false,
    "deletable": true,
    "editable": true
   },
   "outputs": [
    {
     "name": "stdout",
     "output_type": "stream",
     "text": [
      "[[ 4  4  4  7  7 10 10]\n",
      " [ 4  4  4  7  7 10 10]\n",
      " [ 4  4  4  7  7 10 10]\n",
      " [ 4  4  4  7  7 10 10]\n",
      " [ 4  4  4  7  7 10 10]]\n",
      "[[[ 4  4  4  4  4  4  4]\n",
      "  [ 4  4  4  4  4  4  4]\n",
      "  [ 7  7  7  7  7  7  7]\n",
      "  [ 7  7  7  7  7  7  7]\n",
      "  [10 10 10 10 10 10 10]]]\n",
      "[[[4 4 4 4 4 4 4]\n",
      "  [4 4 4 4 4 4 4]\n",
      "  [4 4 4 4 4 4 4]\n",
      "  [4 4 4 4 4 4 4]\n",
      "  [4 4 4 4 4 4 4]]]\n"
     ]
    }
   ],
   "source": [
    "testing = (__name__ == \"__main__\")\n",
    "if testing:\n",
    "    F = ramp([5,7], 3, [4,10])\n",
    "    print(F)\n",
    "    F = ramp((1,5,7),(0,3,0), [0,0,4,10,0,0])\n",
    "    print(F)\n",
    "    F = ramp([1,5,7],[3,0,0], [4,10,0,0,0,0])\n",
    "    print(F)"
   ]
  },
  {
   "cell_type": "markdown",
   "metadata": {
    "deletable": true,
    "editable": true
   },
   "source": [
    "- **Image example**"
   ]
  },
  {
   "cell_type": "code",
   "execution_count": 3,
   "metadata": {
    "collapsed": false,
    "deletable": true,
    "editable": true
   },
   "outputs": [
    {
     "data": {
      "image/png": "[encoded data removed]",
      "text/plain": [
       "<matplotlib.figure.Figure at 0x7f6eb8a7e828>"
      ]
     },
     "metadata": {},
     "output_type": "display_data"
    },
    {
     "data": {
      "image/png": "[encoded data removed]",
      "text/plain": [
       "<matplotlib.figure.Figure at 0x7f6ebd8d3668>"
      ]
     },
     "metadata": {},
     "output_type": "display_data"
    },
    {
     "data": {
      "image/png": "[encoded data removed]",
      "text/plain": [
       "<matplotlib.figure.Figure at 0x7f6eb81a3f98>"
      ]
     },
     "metadata": {},
     "output_type": "display_data"
    }
   ],
   "source": [
    "if testing:\n",
    "    import matplotlib.pyplot as plt\n",
    "    import sys,os\n",
    "    ia898path = os.path.abspath('/etc/jupyterhub/ia898_1s2017/')\n",
    "    if ia898path not in sys.path:\n",
    "        sys.path.append(ia898path)    \n",
    "    import ia898.src as ia\n",
    "\n",
    "    plt.figure(1)\n",
    "    F = ramp([1,200,300], [0,10,0], [0,0,0,255,0,0])\n",
    "    plt.imshow(reshape((F), (F.shape[-2], F.shape[-1])), cmap='gray')\n",
    "\n",
    "    plt.figure(2)\n",
    "    F = ramp([200,300], 10, [0,255])\n",
    "    plt.imshow(F, cmap='gray')\n",
    "\n",
    "    plt.figure(3)\n",
    "    F = ramp([1,200,300], [10,0,0], [0,255,0,0,0,0])\n",
    "    plt.imshow(reshape((F), (F.shape[-2], F.shape[-1])), cmap='gray')\n",
    "    plt.show()"
   ]
  },
  {
   "cell_type": "markdown",
   "metadata": {
    "deletable": true,
    "editable": true
   },
   "source": [
    "- **Image example - 3D**"
   ]
  },
  {
   "cell_type": "code",
   "execution_count": 4,
   "metadata": {
    "collapsed": false,
    "deletable": true,
    "editable": true
   },
   "outputs": [
    {
     "data": {
      "image/png": "[encoded data removed]",
      "text/plain": [
       "<matplotlib.figure.Figure at 0x7f6eb88abf98>"
      ]
     },
     "metadata": {},
     "output_type": "display_data"
    },
    {
     "data": {
      "image/png": "[encoded data removed]",
      "text/plain": [
       "<matplotlib.figure.Figure at 0x7f6ebf8e1588>"
      ]
     },
     "metadata": {},
     "output_type": "display_data"
    },
    {
     "data": {
      "image/png": "[encoded data removed]",
      "text/plain": [
       "<matplotlib.figure.Figure at 0x7f6ebf8cbd30>"
      ]
     },
     "metadata": {},
     "output_type": "display_data"
    }
   ],
   "source": [
    "if testing:\n",
    "    import numpy as np\n",
    "    import scipy\n",
    "    import scipy.ndimage\n",
    "\n",
    "    def iamosaic(f,N,s=1.0):\n",
    "        f = np.asarray(f)\n",
    "        d,h,w = f.shape\n",
    "\n",
    "        nLines = (np.ceil(float(d)/N)).astype(np.uint8)\n",
    "        nCells = (nLines*N).astype(np.uint8)\n",
    "\n",
    "        # Add black slices to match the exact number of mosaic cells\n",
    "        fullf = np.resize(f, (nCells,h,w))\n",
    "        fullf[d:nCells,:,:] = 0\n",
    "\n",
    "        Y,X = np.indices((nLines*h,N*w))\n",
    "\n",
    "        Pts = np.array([\n",
    "            (np.floor(Y/h)*N + np.floor(X/w)).ravel(),\n",
    "            np.mod(Y,h).ravel(),\n",
    "            np.mod(X,w).ravel() ]).astype(int).reshape((3,nLines*h,N*w))\n",
    "        g = fullf[Pts[0],Pts[1],Pts[2]]\n",
    "        if (s != 1.0):\n",
    "            g = scipy.ndimage.interpolation.zoom(g,s,order=5)\n",
    "            #g = scipy.misc.imresize(g,s,interp='bilinear')\n",
    "        return g\n",
    "\n",
    "    plt.figure(1)\n",
    "    F = ramp([50,100,200], [20,10,0], [0,255,0,255,0,0])\n",
    "    plt.imshow(ia.normalize(iamosaic(F,10)), cmap='gray')\n",
    "\n",
    "    plt.figure(2)\n",
    "    F = ramp([50,100,200], [20,0,10], [0,255,0,0,0,255])\n",
    "    plt.imshow(ia.normalize(iamosaic(F,10)), cmap='gray')\n",
    "\n",
    "    plt.figure(3)\n",
    "    F = ramp([50,100,200], [0,10,20], [0,0,0,255,0,255])\n",
    "    plt.imshow(ia.normalize(iamosaic(F,10)), cmap='gray')\n",
    "\n",
    "    plt.show()"
   ]
  },
  {
   "cell_type": "markdown",
   "metadata": {
    "deletable": true,
    "editable": true
   },
   "source": [
    "- **Image example 2 - 3D**"
   ]
  },
  {
   "cell_type": "code",
   "execution_count": 5,
   "metadata": {
    "collapsed": false,
    "deletable": true,
    "editable": true
   },
   "outputs": [
    {
     "data": {
      "image/png": "[encoded data removed]",
      "text/plain": [
       "<matplotlib.figure.Figure at 0x7f6eb8816a90>"
      ]
     },
     "metadata": {},
     "output_type": "display_data"
    },
    {
     "data": {
      "image/png": "[encoded data removed]",
      "text/plain": [
       "<matplotlib.figure.Figure at 0x7f6e8f51a6d8>"
      ]
     },
     "metadata": {},
     "output_type": "display_data"
    },
    {
     "data": {
      "image/png": "[encoded data removed]",
      "text/plain": [
       "<matplotlib.figure.Figure at 0x7f6e8f5364a8>"
      ]
     },
     "metadata": {},
     "output_type": "display_data"
    }
   ],
   "source": [
    "if testing:\n",
    "    plt.figure(1)\n",
    "    F = ramp([10,20,30], [10,20,30], [0,255,0,255,0,255])\n",
    "    plt.imshow(ia.normalize(iamosaic(F, 10)), cmap='gray')\n",
    "\n",
    "    plt.figure(2)\n",
    "    F = ramp([10,20,30], [5,5,5], [0,255,0,255,0,255])\n",
    "    plt.imshow(ia.normalize(iamosaic(F, 10)), cmap='gray')\n",
    "\n",
    "    plt.figure(3)\n",
    "    F = ramp([10,20,30], [2,3,4], [0,255,0,255,0,255])\n",
    "    plt.imshow(ia.normalize(iamosaic(F, 10)), cmap='gray')\n",
    "\n",
    "    plt.show()"
   ]
  },
  {
   "cell_type": "markdown",
   "metadata": {
    "deletable": true,
    "editable": true
   },
   "source": [
    "## Equation\n",
    "\n",
    "$$ g(z,y,x) =  \\lfloor \\lfloor \\frac{n_z}{S} z \\rfloor \\frac{kz_{max}-kz_{min}}{n_z-1} \\rfloor + kz_{min} +\\lfloor \\lfloor \\frac{n_y}{H} y \\rfloor \\frac{ky_{max}-ky_{min}}{n_y-1} \\rfloor + ky_{min} + \\lfloor \\lfloor \\frac{n_x}{W} x \\rfloor \\frac{kx_{max}-kx_{min}}{n_x-1} \\rfloor + kx_{min} $$\n"
   ]
  },
  {
   "cell_type": "markdown",
   "metadata": {
    "deletable": true,
    "editable": true
   },
   "source": [
    "## Contributions\n",
    "\n",
    "Mariana Pinheiro, 1st semester 2011\n",
    "\n",
    "Lucas de Vasconcellos Teixeira, 1st semester 2017"
   ]
  }
 ],
 "metadata": {
  "kernelspec": {
   "display_name": "Python 3",
   "language": "python",
   "name": "python3"
  },
  "language_info": {
   "codemirror_mode": {
    "name": "ipython",
    "version": 3
   },
   "file_extension": ".py",
   "mimetype": "text/x-python",
   "name": "python",
   "nbconvert_exporter": "python",
   "pygments_lexer": "ipython3",
   "version": "3.6.0"
  },
  "toc": {
   "colors": {
    "hover_highlight": "#DAA520",
    "running_highlight": "#FF0000",
    "selected_highlight": "#FFD700"
   },
   "moveMenuLeft": true,
   "nav_menu": {
    "height": "12px",
    "width": "252px"
   },
   "navigate_menu": true,
   "number_sections": true,
   "sideBar": true,
   "threshold": 4,
   "toc_cell": false,
   "toc_section_display": "block",
   "toc_window_display": false
  }
 },
 "nbformat": 4,
 "nbformat_minor": 2
}
