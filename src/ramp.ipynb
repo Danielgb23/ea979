{
 "cells": [
  {
   "cell_type": "markdown",
   "metadata": {
    "deletable": true,
    "editable": true
   },
   "source": [
    "# Function ramp\n",
    "\n",
    "## Description\n",
    "\n",
    "Create an 1, 2 or 3-dimensional image with increasing gray value bands. The function receives the output dimension, the number of increasing bands, and the range of values variation in each direction.\n",
    "\n",
    "## Equation\n",
    "\n",
    "$$ g(z,y,x) =  \\lfloor \\lfloor \\frac{n_z}{S} z \\rfloor \\frac{kz_{max}-kz_{min}}{n_z-1} \\rfloor + kz_{min} +\\lfloor \\lfloor \\frac{n_y}{H} y \\rfloor \\frac{ky_{max}-ky_{min}}{n_y-1} \\rfloor + ky_{min} + \\lfloor \\lfloor \\frac{n_x}{W} x \\rfloor \\frac{kx_{max}-kx_{min}}{n_x-1} \\rfloor + kx_{min} $$\n",
    "\n",
    "## Synopse\n",
    "\n",
    "Creates a 1D/2D/3D gray scale image with dimensions given by s, with n increasing gray scale bands with values varying from the specified range\n",
    "\n",
    "\n",
    "- **g = ramp(s, n, range)**\n",
    "\n",
    "    - **g**:output: ramp image.\n",
    "    - **s**:input: [S H W]: slices, height and width output image dimensions.\n",
    "    - **n**:input: [nz ny nx]: number of bands.\n",
    "    - **range**:input: [kz_min, kz_max,ky_min,ky_max,kx_min,kx_max], minimum and maximum gray scale values on z,y and x dimension."
   ]
  },
  {
   "cell_type": "code",
   "execution_count": 97,
   "metadata": {
    "collapsed": false,
    "deletable": true,
    "editable": true
   },
   "outputs": [],
   "source": [
    "import numpy as np\n",
    "def ramp(s, n, range=[0,255]):\n",
    "    aux = np.array(n)\n",
    "    s_orig = s\n",
    "    \n",
    "    if len(aux.shape) == 0:\n",
    "        s = [1,s[0],s[1]]\n",
    "        n = [0,0,n]\n",
    "        range = [0,0,0,0,range[0],range[1]]\n",
    "\n",
    "    slices,rows, cols = s[0], s[1], s[2]\n",
    "    z,y,x = np.indices((slices,rows,cols))\n",
    "    gz = z*n[0]//slices * (range[1]-range[0]) // (n[0]-1) + range[0]\n",
    "    gy = y*n[1]//rows * (range[3]-range[2]) // (n[1]-1) + range[2]\n",
    "    gx = x*n[2]//cols * (range[5]-range[4]) // (n[2]-1) + range[4]\n",
    "    return (gz+gy+gx).reshape(s_orig)"
   ]
  },
  {
   "cell_type": "markdown",
   "metadata": {},
   "source": [
    "## Function mosaic\n",
    "\n",
    "This function puts the slices of a 3D image side-by-side on a mosaic (2D image). The objective is to provide basic 3D visualization.\n",
    "\n",
    "### Synopse\n",
    "\n",
    "Create a 2D visualization of a 3D image.\n",
    "\n",
    "- **g = mosaic(f,N,s)**\n",
    "\n",
    "    - **g**:output: Image. Mosaic of 2D images.\n",
    "    - **f**:input: Image. 3D image.\n",
    "    - **N**:input: Integer. Number of image columns in mosaic.\n",
    "    - **s**:input: Float. Default: 1.0. Scale factor.\n",
    "    \n"
   ]
  },
  {
   "cell_type": "code",
   "execution_count": 98,
   "metadata": {
    "collapsed": false
   },
   "outputs": [],
   "source": [
    "import numpy as np\n",
    "import scipy\n",
    "import scipy.ndimage\n",
    " \n",
    "def mosaic(f,N,s=1.0):\n",
    "    f = np.asarray(f)\n",
    "    d,h,w = f.shape\n",
    "\n",
    "    nLines = (np.ceil(float(d)/N)).astype(np.uint8)\n",
    "    nCells = (nLines*N).astype(np.uint8)\n",
    "\n",
    "    # Add black slices to match the exact number of mosaic cells\n",
    "    fullf = np.resize(f, (nCells,h,w))\n",
    "    fullf[d:nCells,:,:] = 0\n",
    "\n",
    "    Y,X = np.indices((nLines*h,N*w))\n",
    "\n",
    "    Pts = np.array([\n",
    "        (np.floor(Y/h)*N + np.floor(X/w)).ravel(),\n",
    "        np.mod(Y,h).ravel(),\n",
    "        np.mod(X,w).ravel() ]).astype(int).reshape((3,nLines*h,N*w))\n",
    "    g = fullf[Pts[0],Pts[1],Pts[2]]\n",
    "    if (s != 1.0):\n",
    "        g = scipy.ndimage.interpolation.zoom(g,s,order=5)\n",
    "        #g = scipy.misc.imresize(g,s,interp='bilinear')\n",
    "    return g"
   ]
  },
  {
   "cell_type": "markdown",
   "metadata": {
    "deletable": true,
    "editable": true
   },
   "source": [
    "## Numeric example"
   ]
  },
  {
   "cell_type": "code",
   "execution_count": 99,
   "metadata": {
    "collapsed": true,
    "deletable": true,
    "editable": true
   },
   "outputs": [],
   "source": [
    "testing = (__name__ == \"__main__\")"
   ]
  },
  {
   "cell_type": "code",
   "execution_count": 100,
   "metadata": {
    "collapsed": false,
    "deletable": true,
    "editable": true
   },
   "outputs": [
    {
     "name": "stdout",
     "output_type": "stream",
     "text": [
      "[[ 4  4  4  7  7 10 10]\n",
      " [ 4  4  4  7  7 10 10]\n",
      " [ 4  4  4  7  7 10 10]\n",
      " [ 4  4  4  7  7 10 10]\n",
      " [ 4  4  4  7  7 10 10]] \n",
      "\n",
      "[[[ 4  4  4  4  4  4  4]\n",
      "  [ 4  4  4  4  4  4  4]\n",
      "  [ 7  7  7  7  7  7  7]\n",
      "  [ 7  7  7  7  7  7  7]\n",
      "  [10 10 10 10 10 10 10]]] \n",
      "\n",
      "[[[4 4 4 4 4 4 4]\n",
      "  [4 4 4 4 4 4 4]\n",
      "  [4 4 4 4 4 4 4]\n",
      "  [4 4 4 4 4 4 4]\n",
      "  [4 4 4 4 4 4 4]]] \n",
      "\n"
     ]
    }
   ],
   "source": [
    "if testing:\n",
    "    f = ramp([5,7], 3, [4,10])\n",
    "    print(f,'\\n')\n",
    "    f = ramp((1,5,7),(0,3,0), [0,0,4,10,0,0])\n",
    "    print(f,'\\n')\n",
    "    f = ramp([1,5,7],[3,0,0], [4,10,0,0,0,0])\n",
    "    print(f,'\\n')"
   ]
  },
  {
   "cell_type": "markdown",
   "metadata": {
    "deletable": true,
    "editable": true
   },
   "source": [
    "## Image example"
   ]
  },
  {
   "cell_type": "code",
   "execution_count": 101,
   "metadata": {
    "collapsed": true
   },
   "outputs": [],
   "source": [
    "if testing:\n",
    "    import matplotlib.pyplot as plt\n",
    "    import matplotlib.image as mpimg\n",
    "    %matplotlib inline\n",
    "    import sys,os\n",
    "    ia898path = os.path.abspath('/etc/jupyterhub/ia898_1s2017/')\n",
    "    if ia898path not in sys.path:\n",
    "        sys.path.append(ia898path)\n",
    "    import ia898.src as ia"
   ]
  },
  {
   "cell_type": "code",
   "execution_count": 107,
   "metadata": {
    "collapsed": false
   },
   "outputs": [
    {
     "data": {
      "image/png": "[encoded data removed]",
      "text/plain": [
       "<matplotlib.figure.Figure at 0x7f9273442f60>"
      ]
     },
     "metadata": {},
     "output_type": "display_data"
    }
   ],
   "source": [
    "if testing:\n",
    "    plt.figure(1, figsize=(10,7))\n",
    "    \n",
    "    F = ramp([1,200,300], [0,10,0], [0,0,0,255,0,0])\n",
    "    Fv = ia.normalize(mosaic(F,1))\n",
    "    \n",
    "    plt.subplot(2,2,1)\n",
    "    plt.imshow(Fv, cmap=\"gray\")\n",
    "    \n",
    "    F = ramp([200,300], 10, [0,255])\n",
    "\n",
    "    plt.subplot(2,2,2)\n",
    "    plt.imshow(F, cmap=\"gray\")\n",
    "\n",
    "    F = ramp([1,200,300], [10,0,0], [0,255,0,0,0,0])\n",
    "    Fv = ia.normalize(mosaic(F,1))\n",
    "    plt.subplot(2,2,3)\n",
    "    plt.imshow(Fv, cmap=\"gray\")"
   ]
  },
  {
   "cell_type": "markdown",
   "metadata": {
    "deletable": true,
    "editable": true
   },
   "source": [
    "## Image example - 3D"
   ]
  },
  {
   "cell_type": "code",
   "execution_count": 103,
   "metadata": {
    "collapsed": false,
    "deletable": true,
    "editable": true
   },
   "outputs": [
    {
     "data": {
      "image/png": "[encoded data removed]",
      "text/plain": [
       "<matplotlib.figure.Figure at 0x7f9298ff04e0>"
      ]
     },
     "metadata": {},
     "output_type": "display_data"
    }
   ],
   "source": [
    "if testing:\n",
    "    plt.figure(1, figsize=(20,5))\n",
    "    F = ramp([50,100,200], [20,10,0], [0,255,0,255,0,0])\n",
    "    Fv = ia.normalize(mosaic(F,10))\n",
    "    \n",
    "    plt.subplot(2,2,1)\n",
    "    plt.imshow(Fv, cmap=\"gray\")\n",
    "\n",
    "    F = ramp([50,100,200], [20,0,10], [0,255,0,0,0,255])\n",
    "    Fv = ia.normalize(mosaic(F,10))\n",
    "    \n",
    "    plt.subplot(2,2,2)\n",
    "    plt.imshow(Fv, cmap=\"gray\")\n",
    "    \n",
    "    F = ramp([50,100,200], [0,10,20], [0,0,0,255,0,255])\n",
    "    Fv = ia.normalize(mosaic(F,10))\n",
    "    \n",
    "    plt.subplot(2,2,3)\n",
    "    plt.imshow(Fv, cmap=\"gray\")\n"
   ]
  },
  {
   "cell_type": "markdown",
   "metadata": {
    "deletable": true,
    "editable": true
   },
   "source": [
    "## Image example 2 - 3D"
   ]
  },
  {
   "cell_type": "code",
   "execution_count": 105,
   "metadata": {
    "collapsed": false,
    "deletable": true,
    "editable": true
   },
   "outputs": [
    {
     "data": {
      "image/png": "[encoded data removed]",
      "text/plain": [
       "<matplotlib.figure.Figure at 0x7f9273b7c320>"
      ]
     },
     "metadata": {},
     "output_type": "display_data"
    }
   ],
   "source": [
    "if testing:\n",
    "    plt.figure(1, figsize=(20,3))\n",
    "    \n",
    "    F = ramp([10,20,30], [10,20,30], [0,255,0,255,0,255])\n",
    "    Fv = ia.normalize(mosaic(F,10))\n",
    "    \n",
    "    plt.subplot(2,2,1)\n",
    "    plt.imshow(Fv, cmap=\"gray\")\n",
    "    \n",
    "    F = ramp([10,20,30], [5,5,5], [0,255,0,255,0,255])\n",
    "    Fv = ia.normalize(mosaic(F,10))\n",
    "    \n",
    "    plt.subplot(2,2,2)\n",
    "    plt.imshow(Fv, cmap=\"gray\")\n",
    "    \n",
    "    F = ramp([10,20,30], [2,3,4], [0,255,0,255,0,255])\n",
    "    Fv = ia.normalize(mosaic(F,10))\n",
    "    \n",
    "    plt.subplot(2,2,3)\n",
    "    plt.imshow(Fv, cmap=\"gray\")"
   ]
  },
  {
   "cell_type": "markdown",
   "metadata": {
    "deletable": true,
    "editable": true
   },
   "source": [
    "## Contributions\n",
    "\n",
    "Luis Antonio Prado, 1st semester 2017"
   ]
  }
 ],
 "metadata": {
  "kernelspec": {
   "display_name": "Python 3",
   "language": "python",
   "name": "python3"
  },
  "language_info": {
   "codemirror_mode": {
    "name": "ipython",
    "version": 3
   },
   "file_extension": ".py",
   "mimetype": "text/x-python",
   "name": "python",
   "nbconvert_exporter": "python",
   "pygments_lexer": "ipython3",
   "version": "3.6.0"
  }
 },
 "nbformat": 4,
 "nbformat_minor": 2
}
