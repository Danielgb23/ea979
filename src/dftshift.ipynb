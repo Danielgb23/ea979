{
 "cells": [
  {
   "cell_type": "markdown",
   "metadata": {},
   "source": [
    "# Function dftshift\n",
    "\n",
    "## Synopse\n",
    "\n",
    "Shifts zero-frequency component to center of spectrum.\n",
    "\n",
    "- **g = iafftshift(f)**\n",
    "    - **OUTPUT**\n",
    "        - **g**: Image.\n",
    "    - **INPUT**\n",
    "        - **f**: Image. n-dimensional.\n",
    "\n",
    "## Description\n",
    "\n",
    "The origin (0,0) of the DFT is normally at top-left corner of the image. For visualization\n",
    "purposes, it is common to periodically translate the origin to the image center. This is\n",
    "particularlly interesting because of the complex conjugate simmetry of the DFT of a real function.\n",
    "Note that as the image can have even or odd sizes, to translate back the DFT from the center to\n",
    "the corner, there is another correspondent function: `idftshift`."
   ]
  },
  {
   "cell_type": "code",
   "execution_count": 1,
   "metadata": {
    "ExecuteTime": {
     "end_time": "2017-05-10T23:30:13.259983",
     "start_time": "2017-05-10T23:30:12.841327"
    },
    "collapsed": true
   },
   "outputs": [],
   "source": [
    "import numpy as np\n",
    "\n",
    "def dftshift(f):\n",
    "    import ia898.src as ia\n",
    "    return ia.ptrans(f, np.array(f.shape)//2)"
   ]
  },
  {
   "cell_type": "markdown",
   "metadata": {},
   "source": [
    "## Examples"
   ]
  },
  {
   "cell_type": "code",
   "execution_count": 2,
   "metadata": {
    "ExecuteTime": {
     "end_time": "2017-05-10T23:30:13.297665",
     "start_time": "2017-05-10T23:30:13.262444"
    },
    "collapsed": true
   },
   "outputs": [],
   "source": [
    "testing = (__name__ == \"__main__\")\n",
    "\n",
    "if testing:\n",
    "    import numpy as np\n",
    "    import sys,os\n",
    "    ia898path = os.path.abspath('../../')\n",
    "    if ia898path not in sys.path:\n",
    "        sys.path.append(ia898path)\n",
    "    import ia898.src as ia"
   ]
  },
  {
   "cell_type": "markdown",
   "metadata": {},
   "source": [
    "### Example 1"
   ]
  },
  {
   "cell_type": "markdown",
   "metadata": {},
   "source": [
    "if testing:\n",
    "    \n",
    "    f = ia.iarectangle([120,150],[7,10],[60,75])\n",
    "    F = ia.dft(f)\n",
    "    Fs = ia.dftshift(F)\n",
    "    adshow(ia.dftview(F))\n",
    "    adshow(ia.dftview(Fs))"
   ]
  },
  {
   "cell_type": "code",
   "execution_count": 3,
   "metadata": {
    "ExecuteTime": {
     "end_time": "2017-05-10T23:30:13.310656",
     "start_time": "2017-05-10T23:30:13.299767"
    }
   },
   "outputs": [
    {
     "name": "stdout",
     "output_type": "stream",
     "text": [
      "Fs=\n",
      " [[ 60.+1.j  40.+3.j  50.+2.j]\n",
      " [ 30.+4.j  10.+6.j  20.+5.j]]\n"
     ]
    }
   ],
   "source": [
    "if testing:\n",
    "    \n",
    "    F = np.array([[10+6j,20+5j,30+4j],\n",
    "                  [40+3j,50+2j,60+1j]])\n",
    "    Fs = ia.dftshift(F)\n",
    "    print('Fs=\\n',Fs)"
   ]
  },
  {
   "cell_type": "markdown",
   "metadata": {},
   "source": [
    "## Equation\n",
    "\n",
    "$$ \\begin{matrix}\n",
    "    HS &=& H_{xo,yo} \\\\xo     &=& \\lfloor W/2 \\rfloor \\\\yo     &=& \\lfloor H/2 \\rfloor\n",
    "\\end{matrix} $$"
   ]
  },
  {
   "cell_type": "markdown",
   "metadata": {},
   "source": [
    "## See Also\n",
    "\n",
    "- `iaptrans iaptrans` - Periodic translation\n",
    "- `iaifftshift iaifftshift` - Undoes the translation of iafftshift"
   ]
  },
  {
   "cell_type": "code",
   "execution_count": 4,
   "metadata": {
    "ExecuteTime": {
     "end_time": "2017-05-10T23:30:13.327780",
     "start_time": "2017-05-10T23:30:13.312983"
    }
   },
   "outputs": [
    {
     "name": "stdout",
     "output_type": "stream",
     "text": [
      "testing dftshift\n",
      "True\n"
     ]
    }
   ],
   "source": [
    "if testing:\n",
    "    print('testing dftshift')\n",
    "    print(repr(ia.dftshift(np.array([[10+6j,20+5j,30+4j],\n",
    "                                     [40+3j,50+2j,60+1j]]))) == \n",
    "          repr(np.array([[ 60.+1.j,  40.+3.j,  50.+2.j],\n",
    "                         [ 30.+4.j,  10.+6.j,  20.+5.j]])))"
   ]
  },
  {
   "cell_type": "markdown",
   "metadata": {},
   "source": [
    "## Contributions\n",
    "\n",
    "- André Luis da Costa, 1st semester 2011"
   ]
  },
  {
   "cell_type": "code",
   "execution_count": null,
   "metadata": {
    "collapsed": true
   },
   "outputs": [],
   "source": []
  }
 ],
 "metadata": {
  "kernelspec": {
   "display_name": "Python 3",
   "language": "python",
   "name": "python3"
  },
  "language_info": {
   "codemirror_mode": {
    "name": "ipython",
    "version": 3
   },
   "file_extension": ".py",
   "mimetype": "text/x-python",
   "name": "python",
   "nbconvert_exporter": "python",
   "pygments_lexer": "ipython3",
   "version": "3.6.1"
  },
  "latex_envs": {
   "LaTeX_envs_menu_present": true,
   "autocomplete": true,
   "bibliofile": "biblio.bib",
   "cite_by": "apalike",
   "current_citInitial": 1,
   "eqLabelWithNumbers": true,
   "eqNumInitial": 1,
   "hotkeys": {
    "equation": "Ctrl-E",
    "itemize": "Ctrl-I"
   },
   "labels_anchors": false,
   "latex_user_defs": false,
   "report_style_numbering": false,
   "user_envs_cfg": false
  },
  "toc": {
   "colors": {
    "hover_highlight": "#DAA520",
    "navigate_num": "#000000",
    "navigate_text": "#333333",
    "running_highlight": "#FF0000",
    "selected_highlight": "#FFD700",
    "sidebar_border": "#EEEEEE",
    "wrapper_background": "#FFFFFF"
   },
   "moveMenuLeft": true,
   "nav_menu": {
    "height": "30px",
    "width": "252px"
   },
   "navigate_menu": true,
   "number_sections": true,
   "sideBar": true,
   "threshold": 4,
   "toc_cell": false,
   "toc_section_display": "block",
   "toc_window_display": false,
   "widenNotebook": false
  }
 },
 "nbformat": 4,
 "nbformat_minor": 2
}
