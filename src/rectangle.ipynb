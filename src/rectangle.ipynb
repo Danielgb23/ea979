{
 "cells": [
  {
   "cell_type": "markdown",
   "metadata": {
    "deletable": true,
    "editable": true
   },
   "source": [
    "# Function rectangle"
   ]
  },
  {
   "cell_type": "markdown",
   "metadata": {
    "deletable": true,
    "editable": true
   },
   "source": [
    "## Synopse\n",
    "Create a binary rectangle image.\n",
    "\n",
    "- **g = rectangle(s, r, c) **\n",
    "\n",
    "    - **g**: Image.\n",
    "    - **s**: Image. [rows cols], output image dimensions.\n",
    "    - **r**: Double. [rrows ccols], rectangle image dimensions.\n",
    "    - **c**: Image. [row0 col0], center of the rectangle."
   ]
  },
  {
   "cell_type": "code",
   "execution_count": 1,
   "metadata": {
    "collapsed": false,
    "deletable": true,
    "editable": true
   },
   "outputs": [],
   "source": [
    "from numpy import *\n",
    "%matplotlib inline\n",
    "\n",
    "def rectangle(s, r, c):\n",
    "\n",
    "    rows,  cols  = s[0], s[1]\n",
    "    rrows, rcols = r[0], r[1]\n",
    "    rr0,   cc0   = c[0], c[1]\n",
    "    rr, cc = meshgrid(range(rows), range(cols), indexing='ij')\n",
    "\n",
    "    min_row, max_row = rr0-rrows/2.0, rr0+rrows/2.0\n",
    "    min_col, max_col = cc0-rcols/2.0, cc0+rcols/2.0\n",
    "\n",
    "    g1 = (min_row <= rr) & (max_row > rr)\n",
    "    g2 = (min_col <= cc) & (max_col > cc)\n",
    "\n",
    "    g = g1 & g2\n",
    "    return g.astype(uint8)"
   ]
  },
  {
   "cell_type": "markdown",
   "metadata": {
    "deletable": true,
    "editable": true
   },
   "source": [
    "## Description\n",
    "Creates a binary image with dimensions given by s, rectangle dimensions given by r and center given by c. The pixels inside the rectangle are one and outside zero."
   ]
  },
  {
   "cell_type": "markdown",
   "metadata": {
    "deletable": true,
    "editable": true
   },
   "source": [
    "## Examples\n",
    "- **Example 1**"
   ]
  },
  {
   "cell_type": "code",
   "execution_count": 2,
   "metadata": {
    "collapsed": false,
    "deletable": true,
    "editable": true
   },
   "outputs": [
    {
     "name": "stdout",
     "output_type": "stream",
     "text": [
      "[[0 0 0 0 0 0 0 0 0]\n",
      " [0 0 0 0 0 0 0 0 0]\n",
      " [0 0 0 1 1 0 0 0 0]\n",
      " [0 0 0 1 1 0 0 0 0]\n",
      " [0 0 0 1 1 0 0 0 0]\n",
      " [0 0 0 0 0 0 0 0 0]\n",
      " [0 0 0 0 0 0 0 0 0]]\n"
     ]
    }
   ],
   "source": [
    "testing = (__name__ == \"__main__\")\n",
    "if testing:\n",
    "    F = rectangle([7,9], [3,2], [3,4])\n",
    "    print(F)"
   ]
  },
  {
   "cell_type": "markdown",
   "metadata": {
    "deletable": true,
    "editable": true
   },
   "source": [
    "- **Example 2**"
   ]
  },
  {
   "cell_type": "code",
   "execution_count": 3,
   "metadata": {
    "collapsed": false,
    "deletable": true,
    "editable": true
   },
   "outputs": [
    {
     "data": {
      "text/html": [
       "<head><style>        table, th, td { border: 0px solid black;        text-align: center;border-collapse: collapse;}</style></head>        <body><table border=\"0\"><td>            <table><tr><td><img src='data:image/png;base64,iVBORw0KGgoAAAANSUhEUgAAASwAAADICAAAAAB3tIOJAAAA/klEQVR4nO3Q0QmAQAwFwdP+e9YWXHIiwsx/yGPXAgAAAAAAAOCxY3J87VoRjUYPnB/9/SWxArECsQKxArECsQKxArECsQKxArECsQKxArECsQKxArECsQKxArECsQKxArECsQKxArECsQKxArECsQKxArECsQKxArECsQKxArECsQKxArECsQKxArECsQKxArECsQKxArECsQKxArECsQKxArECsQKxArECsQKxArECsQKxArECsQKxArECsQKxArECsQKxArECsQKxArECsQKxArECsQKxArECsQKxArECsQKxAAAAAAAAAAAAAAAAAAAAAAAAAAAAAAAAgHfcmF4BtA92Y8kAAAAASUVORK5CYII='/></td></tr>            <tr><td align='center'></td></tr></table></td><tr></tr></table></body>"
      ],
      "text/plain": [
       "<IPython.core.display.HTML object>"
      ]
     },
     "metadata": {},
     "output_type": "display_data"
    }
   ],
   "source": [
    "if testing:\n",
    "    import sys,os\n",
    "    ia898path = os.path.abspath('/etc/jupyterhub/ia898_1s2017/')\n",
    "    if ia898path not in sys.path:\n",
    "        sys.path.append(ia898path)    \n",
    "    import ia898.src as ia\n",
    "\n",
    "    F = rectangle([200,300], [90,120], [70,120])\n",
    "    ia.adshow(ia.normalize(F))"
   ]
  },
  {
   "cell_type": "markdown",
   "metadata": {
    "deletable": true,
    "editable": true
   },
   "source": [
    "## Equation\n",
    "\n",
    "\\begin{equation}\n",
    "  g(x,y)=\\begin{cases}\n",
    "    1, & \\text{if } x_\\text{min} \\leq x < x_\\text{max} \\text{ and } y_\\text{min} \\leq y < y_\\text{max}.\\\\\n",
    "    0, & \\text{otherwise}.\n",
    "  \\end{cases}\n",
    "\\end{equation}"
   ]
  },
  {
   "cell_type": "markdown",
   "metadata": {
    "deletable": true,
    "editable": true
   },
   "source": [
    "## Contributions\n",
    "\n",
    "Lucas de Vasconcellos Teixeira, 1st semester 2017"
   ]
  }
 ],
 "metadata": {
  "kernelspec": {
   "display_name": "Python 3",
   "language": "python",
   "name": "python3"
  },
  "language_info": {
   "codemirror_mode": {
    "name": "ipython",
    "version": 3
   },
   "file_extension": ".py",
   "mimetype": "text/x-python",
   "name": "python",
   "nbconvert_exporter": "python",
   "pygments_lexer": "ipython3",
   "version": "3.6.0"
  },
  "toc": {
   "colors": {
    "hover_highlight": "#DAA520",
    "running_highlight": "#FF0000",
    "selected_highlight": "#FFD700"
   },
   "moveMenuLeft": true,
   "nav_menu": {
    "height": "12px",
    "width": "252px"
   },
   "navigate_menu": true,
   "number_sections": true,
   "sideBar": true,
   "threshold": 4,
   "toc_cell": false,
   "toc_section_display": "block",
   "toc_window_display": false
  }
 },
 "nbformat": 4,
 "nbformat_minor": 2
}
