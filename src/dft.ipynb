{
 "cells": [
  {
   "cell_type": "markdown",
   "metadata": {},
   "source": [
    "# dft\n",
    "\n",
    "## Synopse\n",
    "\n",
    "Discrete 1D/2D/3D Fourier Transform.\n",
    "\n",
    "- **F = iadft(f)**\n",
    "\n",
    "  - **F**: Output Image. \n",
    "  - **f**: Original Image. \n",
    "\n",
    "## Function Code"
   ]
  },
  {
   "cell_type": "code",
   "execution_count": null,
   "metadata": {
    "collapsed": true
   },
   "outputs": [],
   "source": [
    "import numpy as np\n",
    "\n",
    "def iadft(f):\n",
    "    from ia636 import iadftmatrix\n",
    "    f = np.asarray(f).astype(np.float64)\n",
    "    if (len(f.shape) == 1):\n",
    "        m = len(f)\n",
    "        A = ia.dftmatrix(f.shape[0])\n",
    "        F = np.sqrt(m) * A.dot(f)\n",
    "    elif (len(f.shape) == 2):\n",
    "        (m, n) = f.shape\n",
    "        A = ia.dftmatrix(m)\n",
    "        B = ia.dftmatrix(n)\n",
    "        F = np.sqrt(m * n) * (A.dot(f)).dot(B)\n",
    "    else:\n",
    "        (p,m,n) = f.shape\n",
    "        A = ia.dftmatrix(m)\n",
    "        B = ia.dftmatrix(n)\n",
    "        C = ia.dftmatrix(p)\n",
    "        Faux = A.dot(f)\n",
    "        Faux = Faux.dot(B)\n",
    "        F = np.sqrt(p)*np.sqrt(m)*np.sqrt(n)*C.dot(Faux)   \n",
    "    return F"
   ]
  },
  {
   "cell_type": "markdown",
   "metadata": {},
   "source": [
    "## Examples\n",
    "\n",
    "### Numeric Example: comparing proposed with numpy function"
   ]
  },
  {
   "cell_type": "markdown",
   "metadata": {},
   "source": [
    "    from ia636 import *\n",
    "    from numpy import *\n",
    "    \n",
    "    f = arange(24).reshape(2,3,4) # original image with generic axis\n",
    "    F = iadft(f)   # proposed dft\n",
    "    F1 = fft.fftn(f) # numpy dft\n",
    "    \n",
    "    print 'ia636.iadft:','\\n',F.round(2),'\\n'\n",
    "    print 'fft.fftn:','\\n',F1.round(2),'\\n'\n",
    "    print 'Equal Results? (max error)',abs(F1-F).max()"
   ]
  },
  {
   "cell_type": "markdown",
   "metadata": {},
   "source": [
    "### Image example: 2d circle"
   ]
  },
  {
   "cell_type": "markdown",
   "metadata": {},
   "source": [
    "    from ia636 import *\n",
    "    from numpy import *\n",
    "    \n",
    "    f = 255 * iacircle([256,256], 10, [129,129])   \n",
    "    adshow(f)\n",
    "    F = iadft(f)\n",
    "    Fv = iadftview(F)\n",
    "    adshow(Fv)"
   ]
  },
  {
   "cell_type": "markdown",
   "metadata": {},
   "source": [
    "### Image example: 3d square "
   ]
  },
  {
   "cell_type": "markdown",
   "metadata": {},
   "source": [
    "    from ia636 import *\n",
    "    \n",
    "    f = zeros((25,30,40))\n",
    "    f[10:15,20:26,21:27] = 1\n",
    "    F = iadft(f)\n",
    "    adshow(ianormalize(iamosaic(f,5)),'Original Image')\n",
    "    adshow(iamosaic(iadftview(F),5),'Fourier Transformation')"
   ]
  },
  {
   "cell_type": "markdown",
   "metadata": {},
   "source": [
    "### Comparison with other implementations"
   ]
  },
  {
   "cell_type": "markdown",
   "metadata": {},
   "source": [
    "   import numpy as np\n",
    "   import time\n",
    "   import ia636 as ia\n",
    "      \n",
    "   f = adread('cameraman.tif')\n",
    "   t = time.time()\n",
    "   F1 = ia.iadft(f)\n",
    "   t1 = time.time() - t\n",
    "   t = time.time()\n",
    "   F2 = np.fft.fft2(f)\n",
    "   t2 = time.time() - t\n",
    "   print 'Max difference is:', np.abs(F1-F2).max()\n",
    "   print 'iadft: %d ms' % (int(t1*1000),)\n",
    "   print 'fft2: %d ms' % (int(t2*1000),)"
   ]
  },
  {
   "cell_type": "markdown",
   "metadata": {},
   "source": [
    "## Equation\n",
    "\n",
    "### 1D transformation\n",
    "\n",
    "$$ \\begin{matrix}\n",
    "    F(u) &=& \\sum_{x=0}^{N-1}f(x)\\exp(-j2\\pi\\frac{ux}{N}) \\\\ \n",
    "    & & 0 \\leq x < N, 0 \\leq u < N \\\\ \n",
    "    \\mathbf{F} &=& \\sqrt{N} A_N \\mathbf{f} \n",
    "\\end{matrix} $$"
   ]
  },
  {
   "cell_type": "markdown",
   "metadata": {},
   "source": [
    "### 2D transformation\n",
    "\n",
    "$$ \\begin{matrix}\n",
    "    F(u,v) &=& \\sum_{x=0}^{N-1}\\sum_{y=0}^{M-1}f(x,y)\\exp(-j2\\pi(\\frac{ux}{N} + \\frac{vy}{M})) \\\\\n",
    "     & & (0,0) \\leq (x,y) < (N,M), (0,0) \\leq (u,v) < (N,M) \\\\ \n",
    "    \\mathbf{F} &=& \\sqrt{NM} A_N \\mathbf{f} A_M\n",
    "\\end{matrix} $$"
   ]
  },
  {
   "cell_type": "markdown",
   "metadata": {},
   "source": [
    "### 3D transformation\n",
    "\n",
    "$$ \\begin{matrix}\n",
    "    F(w,u,v) &=& \\sum_{z=0}^{P-1}\\sum_{y=0}^{M-1}\\sum_{x=0}^{N-1}f(z,y,x)\\exp(-j2\\pi(\\frac{wz}{P} + \\frac{uy}{M} + \\frac{vx}{N}))\\\\\n",
    "     & & (0,0,0) \\leq (z,y,x) < (P,M,N), (0,0,0) \\leq (w,u,v) < (P,M,N) \\\\ \n",
    "    \\mathbf{F} &=& \\sqrt{PMN}   (A_P((A_M \\mathbf{f})A_N)) \n",
    "\\end{matrix} $$"
   ]
  },
  {
   "cell_type": "markdown",
   "metadata": {},
   "source": [
    "## See Also\n",
    "\n",
    "* `iadftmatrix iadftmatrix`  -- Kernel matrix for the DFT Transform.\n",
    "* `iaidft iaidft` -- Inverse Discrete Fourier Transform.\n",
    "* `iadftview iadftview` -- Discrete Fourier Transform Visualization.\n",
    "\n",
    "## References\n",
    "\n",
    "- http://en.wikipedia.org/wiki/Discrete_Fourier_transform\n",
    "\n",
    "## Contributions\n",
    "\n",
    "- Mariana Pinheiro, 1st semester 2011"
   ]
  }
 ],
 "metadata": {
  "kernelspec": {
   "display_name": "Python 3",
   "language": "python",
   "name": "python3"
  },
  "language_info": {
   "codemirror_mode": {
    "name": "ipython",
    "version": 3
   },
   "file_extension": ".py",
   "mimetype": "text/x-python",
   "name": "python",
   "nbconvert_exporter": "python",
   "pygments_lexer": "ipython3",
   "version": "3.6.0"
  },
  "toc": {
   "colors": {
    "hover_highlight": "#DAA520",
    "running_highlight": "#FF0000",
    "selected_highlight": "#FFD700"
   },
   "moveMenuLeft": true,
   "nav_menu": {
    "height": "84px",
    "width": "252px"
   },
   "navigate_menu": true,
   "number_sections": true,
   "sideBar": true,
   "threshold": 4,
   "toc_cell": false,
   "toc_section_display": "block",
   "toc_window_display": false
  }
 },
 "nbformat": 4,
 "nbformat_minor": 2
}
