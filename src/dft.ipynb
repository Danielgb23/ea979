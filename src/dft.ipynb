{
 "cells": [
  {
   "cell_type": "markdown",
   "metadata": {},
   "source": [
    "# dft\n",
    "\n",
    "## Synopse\n",
    "\n",
    "Discrete 1D/2D/3D Fourier Transform.\n",
    "\n",
    "- **F = dft(f)**\n",
    "\n",
    "  - **F**: Output Image. \n",
    "  - **f**: Original Image. \n",
    "\n",
    "## Function Code"
   ]
  },
  {
   "cell_type": "code",
   "execution_count": 3,
   "metadata": {
    "ExecuteTime": {
     "end_time": "2017-05-10T23:40:30.150996",
     "start_time": "2017-05-10T23:40:30.132074"
    },
    "collapsed": true
   },
   "outputs": [],
   "source": [
    "import numpy as np\n",
    "\n",
    "def dft(f):\n",
    "    import ia898.src as ia\n",
    "    f = np.asarray(f).astype(np.float64)\n",
    "    if (len(f.shape) == 1):\n",
    "        m = len(f)\n",
    "        A = ia.dftmatrix(f.shape[0])\n",
    "        F = np.sqrt(m) * A.dot(f)\n",
    "    elif (len(f.shape) == 2):\n",
    "        (m, n) = f.shape\n",
    "        A = ia.dftmatrix(m)\n",
    "        B = ia.dftmatrix(n)\n",
    "        F = np.sqrt(m * n) * (A.dot(f)).dot(B)\n",
    "    else:\n",
    "        (p,m,n) = f.shape\n",
    "        A = ia.dftmatrix(m)\n",
    "        B = ia.dftmatrix(n)\n",
    "        C = ia.dftmatrix(p)\n",
    "        Faux = A.dot(f)\n",
    "        Faux = Faux.dot(B)\n",
    "        F = np.sqrt(p)*np.sqrt(m)*np.sqrt(n)*C.dot(Faux)   \n",
    "    return F"
   ]
  },
  {
   "cell_type": "markdown",
   "metadata": {},
   "source": [
    "## Examples"
   ]
  },
  {
   "cell_type": "code",
   "execution_count": 4,
   "metadata": {
    "ExecuteTime": {
     "end_time": "2017-05-10T23:40:31.519265",
     "start_time": "2017-05-10T23:40:31.508131"
    }
   },
   "outputs": [],
   "source": [
    "testing = (__name__ == \"__main__\")\n",
    "\n",
    "if testing:\n",
    "    import numpy as np\n",
    "    import sys,os\n",
    "    ia898path = os.path.abspath('../../')\n",
    "    if ia898path not in sys.path:\n",
    "        sys.path.append(ia898path)\n",
    "    import ia898.src as ia"
   ]
  },
  {
   "cell_type": "markdown",
   "metadata": {},
   "source": [
    "### Numeric Example: comparing proposed with numpy function"
   ]
  },
  {
   "cell_type": "code",
   "execution_count": 5,
   "metadata": {
    "ExecuteTime": {
     "end_time": "2017-05-10T23:40:33.548367",
     "start_time": "2017-05-10T23:40:33.509423"
    }
   },
   "outputs": [
    {
     "name": "stdout",
     "output_type": "stream",
     "text": [
      "ia.dft: \n",
      " [[[ 276. +0.j    -12.+12.j    -12. -0.j    -12.-12.j  ]\n",
      "  [ -48.+27.71j    0. -0.j      0. +0.j     -0. +0.j  ]\n",
      "  [ -48.-27.71j    0. +0.j     -0. +0.j     -0. +0.j  ]]\n",
      "\n",
      " [[-144. -0.j      0. +0.j     -0. +0.j     -0. +0.j  ]\n",
      "  [   0. +0.j     -0. +0.j      0. -0.j     -0. +0.j  ]\n",
      "  [  -0. +0.j     -0. +0.j     -0. -0.j     -0. -0.j  ]]] \n",
      "\n",
      "fft.fftn: \n",
      " [[[ 276. +0.j    -12.+12.j    -12. +0.j    -12.-12.j  ]\n",
      "  [ -48.+27.71j    0. +0.j      0. +0.j      0. +0.j  ]\n",
      "  [ -48.-27.71j    0. +0.j      0. +0.j      0. +0.j  ]]\n",
      "\n",
      " [[-144. +0.j      0. +0.j      0. +0.j      0. +0.j  ]\n",
      "  [   0. +0.j      0. +0.j      0. +0.j      0. +0.j  ]\n",
      "  [   0. +0.j      0. +0.j      0. +0.j      0. +0.j  ]]] \n",
      "\n",
      "Equal Results? (max error) 1.20844499575e-13\n"
     ]
    }
   ],
   "source": [
    "if testing:\n",
    "    \n",
    "    f = np.arange(24).reshape(2,3,4) # original image with generic axis\n",
    "    F = dft(f)   # proposed dft\n",
    "    F1 = np.fft.fftn(f) # numpy dft\n",
    "    \n",
    "    print('ia.dft:','\\n',F.round(2),'\\n')\n",
    "    print('fft.fftn:','\\n',F1.round(2),'\\n')\n",
    "    print('Equal Results? (max error)',abs(F1-F).max())"
   ]
  },
  {
   "cell_type": "markdown",
   "metadata": {},
   "source": [
    "### Image example: 2d circle"
   ]
  },
  {
   "cell_type": "code",
   "execution_count": 6,
   "metadata": {
    "ExecuteTime": {
     "end_time": "2017-05-10T23:40:36.421842",
     "start_time": "2017-05-10T23:40:36.408369"
    }
   },
   "outputs": [
    {
     "ename": "AttributeError",
     "evalue": "module 'ia898.src' has no attribute 'circle'",
     "output_type": "error",
     "traceback": [
      "\u001b[0;31m---------------------------------------------------------------------------\u001b[0m",
      "\u001b[0;31mAttributeError\u001b[0m                            Traceback (most recent call last)",
      "\u001b[0;32m<ipython-input-6-d2791a5e614e>\u001b[0m in \u001b[0;36m<module>\u001b[0;34m()\u001b[0m\n\u001b[1;32m      1\u001b[0m \u001b[0;32mif\u001b[0m \u001b[0mtesting\u001b[0m\u001b[0;34m:\u001b[0m\u001b[0;34m\u001b[0m\u001b[0m\n\u001b[1;32m      2\u001b[0m \u001b[0;34m\u001b[0m\u001b[0m\n\u001b[0;32m----> 3\u001b[0;31m     \u001b[0mf\u001b[0m \u001b[0;34m=\u001b[0m \u001b[0;36m255\u001b[0m \u001b[0;34m*\u001b[0m \u001b[0mia\u001b[0m\u001b[0;34m.\u001b[0m\u001b[0mcircle\u001b[0m\u001b[0;34m(\u001b[0m\u001b[0;34m[\u001b[0m\u001b[0;36m256\u001b[0m\u001b[0;34m,\u001b[0m\u001b[0;36m256\u001b[0m\u001b[0;34m]\u001b[0m\u001b[0;34m,\u001b[0m \u001b[0;36m10\u001b[0m\u001b[0;34m,\u001b[0m \u001b[0;34m[\u001b[0m\u001b[0;36m129\u001b[0m\u001b[0;34m,\u001b[0m\u001b[0;36m129\u001b[0m\u001b[0;34m]\u001b[0m\u001b[0;34m)\u001b[0m\u001b[0;34m\u001b[0m\u001b[0m\n\u001b[0m\u001b[1;32m      4\u001b[0m     \u001b[0mia\u001b[0m\u001b[0;34m.\u001b[0m\u001b[0madshow\u001b[0m\u001b[0;34m(\u001b[0m\u001b[0mf\u001b[0m\u001b[0;34m)\u001b[0m\u001b[0;34m\u001b[0m\u001b[0m\n\u001b[1;32m      5\u001b[0m     \u001b[0mF\u001b[0m \u001b[0;34m=\u001b[0m \u001b[0mdft\u001b[0m\u001b[0;34m(\u001b[0m\u001b[0mf\u001b[0m\u001b[0;34m)\u001b[0m\u001b[0;34m\u001b[0m\u001b[0m\n",
      "\u001b[0;31mAttributeError\u001b[0m: module 'ia898.src' has no attribute 'circle'"
     ]
    }
   ],
   "source": [
    "if testing:\n",
    "    \n",
    "    f = 255 * ia.circle([256,256], 10, [129,129])   \n",
    "    ia.adshow(f)\n",
    "    F = dft(f)\n",
    "    Fv = ia.dftview(F)\n",
    "    ia.adshow(Fv)"
   ]
  },
  {
   "cell_type": "markdown",
   "metadata": {},
   "source": [
    "### Image example: 3d square "
   ]
  },
  {
   "cell_type": "code",
   "execution_count": 7,
   "metadata": {
    "ExecuteTime": {
     "end_time": "2017-05-10T23:40:46.282988",
     "start_time": "2017-05-10T23:40:46.261301"
    }
   },
   "outputs": [
    {
     "ename": "AttributeError",
     "evalue": "module 'ia898.src' has no attribute 'mosaic'",
     "output_type": "error",
     "traceback": [
      "\u001b[0;31m---------------------------------------------------------------------------\u001b[0m",
      "\u001b[0;31mAttributeError\u001b[0m                            Traceback (most recent call last)",
      "\u001b[0;32m<ipython-input-7-755626fb5c01>\u001b[0m in \u001b[0;36m<module>\u001b[0;34m()\u001b[0m\n\u001b[1;32m      4\u001b[0m     \u001b[0mf\u001b[0m\u001b[0;34m[\u001b[0m\u001b[0;36m10\u001b[0m\u001b[0;34m:\u001b[0m\u001b[0;36m15\u001b[0m\u001b[0;34m,\u001b[0m\u001b[0;36m20\u001b[0m\u001b[0;34m:\u001b[0m\u001b[0;36m26\u001b[0m\u001b[0;34m,\u001b[0m\u001b[0;36m21\u001b[0m\u001b[0;34m:\u001b[0m\u001b[0;36m27\u001b[0m\u001b[0;34m]\u001b[0m \u001b[0;34m=\u001b[0m \u001b[0;36m1\u001b[0m\u001b[0;34m\u001b[0m\u001b[0m\n\u001b[1;32m      5\u001b[0m     \u001b[0mF\u001b[0m \u001b[0;34m=\u001b[0m \u001b[0mdft\u001b[0m\u001b[0;34m(\u001b[0m\u001b[0mf\u001b[0m\u001b[0;34m)\u001b[0m\u001b[0;34m\u001b[0m\u001b[0m\n\u001b[0;32m----> 6\u001b[0;31m     \u001b[0mia\u001b[0m\u001b[0;34m.\u001b[0m\u001b[0madshow\u001b[0m\u001b[0;34m(\u001b[0m\u001b[0mia\u001b[0m\u001b[0;34m.\u001b[0m\u001b[0mnormalize\u001b[0m\u001b[0;34m(\u001b[0m\u001b[0mia\u001b[0m\u001b[0;34m.\u001b[0m\u001b[0mmosaic\u001b[0m\u001b[0;34m(\u001b[0m\u001b[0mf\u001b[0m\u001b[0;34m,\u001b[0m\u001b[0;36m5\u001b[0m\u001b[0;34m)\u001b[0m\u001b[0;34m)\u001b[0m\u001b[0;34m,\u001b[0m\u001b[0;34m'Original Image'\u001b[0m\u001b[0;34m)\u001b[0m\u001b[0;34m\u001b[0m\u001b[0m\n\u001b[0m\u001b[1;32m      7\u001b[0m     \u001b[0mia\u001b[0m\u001b[0;34m.\u001b[0m\u001b[0madshow\u001b[0m\u001b[0;34m(\u001b[0m\u001b[0mia\u001b[0m\u001b[0;34m.\u001b[0m\u001b[0mmosaic\u001b[0m\u001b[0;34m(\u001b[0m\u001b[0mia\u001b[0m\u001b[0;34m.\u001b[0m\u001b[0mdftview\u001b[0m\u001b[0;34m(\u001b[0m\u001b[0mF\u001b[0m\u001b[0;34m)\u001b[0m\u001b[0;34m,\u001b[0m\u001b[0;36m5\u001b[0m\u001b[0;34m)\u001b[0m\u001b[0;34m,\u001b[0m\u001b[0;34m'Fourier Transformation'\u001b[0m\u001b[0;34m)\u001b[0m\u001b[0;34m\u001b[0m\u001b[0m\n",
      "\u001b[0;31mAttributeError\u001b[0m: module 'ia898.src' has no attribute 'mosaic'"
     ]
    }
   ],
   "source": [
    "if testing:\n",
    "    \n",
    "    f = np.zeros((25,30,40))\n",
    "    f[10:15,20:26,21:27] = 1\n",
    "    F = dft(f)\n",
    "    ia.adshow(ia.normalize(ia.mosaic(f,5)),'Original Image')\n",
    "    ia.adshow(ia.mosaic(ia.dftview(F),5),'Fourier Transformation')"
   ]
  },
  {
   "cell_type": "markdown",
   "metadata": {},
   "source": [
    "### Comparison with other implementations"
   ]
  },
  {
   "cell_type": "code",
   "execution_count": 8,
   "metadata": {
    "ExecuteTime": {
     "end_time": "2017-05-10T23:40:52.951430",
     "start_time": "2017-05-10T23:40:52.687722"
    }
   },
   "outputs": [
    {
     "name": "stdout",
     "output_type": "stream",
     "text": [
      "CPU times: user 33 ms, sys: 4.75 ms, total: 37.8 ms\n",
      "Wall time: 34.9 ms\n",
      "CPU times: user 6.76 ms, sys: 168 µs, total: 6.92 ms\n",
      "Wall time: 3.36 ms\n",
      "Max difference is: 4.95793675189e-06\n"
     ]
    }
   ],
   "source": [
    "if testing:\n",
    "    import matplotlib.image as mpimg\n",
    "   \n",
    "    f = mpimg.imread('../data/cameraman.tif')\n",
    "    %time F1 = dft(f)\n",
    "    %time F2 = np.fft.fft2(f)\n",
    "    print('Max difference is:', np.abs(F1-F2).max())"
   ]
  },
  {
   "cell_type": "markdown",
   "metadata": {},
   "source": [
    "## Equation\n",
    "\n",
    "### 1D transformation\n",
    "\n",
    "$$ \\begin{matrix}\n",
    "    F(u) &=& \\sum_{x=0}^{N-1}f(x)\\exp(-j2\\pi\\frac{ux}{N}) \\\\ \n",
    "    & & 0 \\leq x < N, 0 \\leq u < N \\\\ \n",
    "    \\mathbf{F} &=& \\sqrt{N} A_N \\mathbf{f} \n",
    "\\end{matrix} $$"
   ]
  },
  {
   "cell_type": "markdown",
   "metadata": {},
   "source": [
    "### 2D transformation\n",
    "\n",
    "$$ \\begin{matrix}\n",
    "    F(u,v) &=& \\sum_{x=0}^{N-1}\\sum_{y=0}^{M-1}f(x,y)\\exp(-j2\\pi(\\frac{ux}{N} + \\frac{vy}{M})) \\\\\n",
    "     & & (0,0) \\leq (x,y) < (N,M), (0,0) \\leq (u,v) < (N,M) \\\\ \n",
    "    \\mathbf{F} &=& \\sqrt{NM} A_N \\mathbf{f} A_M\n",
    "\\end{matrix} $$"
   ]
  },
  {
   "cell_type": "markdown",
   "metadata": {},
   "source": [
    "### 3D transformation\n",
    "\n",
    "$$ \\begin{matrix}\n",
    "    F(w,u,v) &=& \\sum_{z=0}^{P-1}\\sum_{y=0}^{M-1}\\sum_{x=0}^{N-1}f(z,y,x)\\exp(-j2\\pi(\\frac{wz}{P} + \\frac{uy}{M} + \\frac{vx}{N}))\\\\\n",
    "     & & (0,0,0) \\leq (z,y,x) < (P,M,N), (0,0,0) \\leq (w,u,v) < (P,M,N) \\\\ \n",
    "    \\mathbf{F} &=& \\sqrt{PMN}   (A_P((A_M \\mathbf{f})A_N)) \n",
    "\\end{matrix} $$"
   ]
  },
  {
   "cell_type": "markdown",
   "metadata": {},
   "source": [
    "## See Also\n",
    "\n",
    "* `dftmatrix dftmatrix`  -- Kernel matrix for the DFT Transform.\n",
    "* `iaidft iaidft` -- Inverse Discrete Fourier Transform.\n",
    "* `dftview dftview` -- Discrete Fourier Transform Visualization.\n",
    "\n",
    "## References\n",
    "\n",
    "- http://en.wikipedia.org/wiki/Discrete_Fourier_transform\n",
    "\n",
    "## Contributions\n",
    "\n",
    "- Mariana Pinheiro, 1st semester 2011"
   ]
  },
  {
   "cell_type": "code",
   "execution_count": null,
   "metadata": {
    "collapsed": true
   },
   "outputs": [],
   "source": []
  }
 ],
 "metadata": {
  "kernelspec": {
   "display_name": "Python 3",
   "language": "python",
   "name": "python3"
  },
  "language_info": {
   "codemirror_mode": {
    "name": "ipython",
    "version": 3
   },
   "file_extension": ".py",
   "mimetype": "text/x-python",
   "name": "python",
   "nbconvert_exporter": "python",
   "pygments_lexer": "ipython3",
   "version": "3.6.1"
  },
  "latex_envs": {
   "LaTeX_envs_menu_present": true,
   "autocomplete": true,
   "bibliofile": "biblio.bib",
   "cite_by": "apalike",
   "current_citInitial": 1,
   "eqLabelWithNumbers": true,
   "eqNumInitial": 1,
   "hotkeys": {
    "equation": "Ctrl-E",
    "itemize": "Ctrl-I"
   },
   "labels_anchors": false,
   "latex_user_defs": false,
   "report_style_numbering": false,
   "user_envs_cfg": false
  },
  "toc": {
   "colors": {
    "hover_highlight": "#DAA520",
    "navigate_num": "#000000",
    "navigate_text": "#333333",
    "running_highlight": "#FF0000",
    "selected_highlight": "#FFD700",
    "sidebar_border": "#EEEEEE",
    "wrapper_background": "#FFFFFF"
   },
   "moveMenuLeft": true,
   "nav_menu": {
    "height": "84px",
    "width": "252px"
   },
   "navigate_menu": true,
   "number_sections": true,
   "sideBar": true,
   "threshold": 4,
   "toc_cell": false,
   "toc_section_display": "block",
   "toc_window_display": false,
   "widenNotebook": false
  }
 },
 "nbformat": 4,
 "nbformat_minor": 2
}
