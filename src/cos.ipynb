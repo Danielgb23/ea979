{
 "cells": [
  {
   "cell_type": "markdown",
   "metadata": {
    "deletable": true,
    "editable": true
   },
   "source": [
    "# Function cos\n",
    "\n",
    "## Synopse\n",
    "\n",
    "Create a cosine wave image.\n",
    "\n",
    "- **f = iacos(s, t, theta, phi)**\n",
    "\n",
    "  - **f**: Image. \n",
    "\n",
    "\n",
    "  - **s**: Image. size: [rows cols].\n",
    "  - **t**: Image. Period: in pixels.\n",
    "  - **theta**: Double. spatial direction of the wave, in radians. 0 is a wave on the horizontal direction.\n",
    "  - **phi**: Double. Phase"
   ]
  },
  {
   "cell_type": "code",
   "execution_count": null,
   "metadata": {
    "collapsed": true,
    "deletable": true,
    "editable": true
   },
   "outputs": [],
   "source": [
    "import numpy as np\n",
    "\n",
    "def iacos(s, t, theta, phi):\n",
    "    r, c = np.indices(s)\n",
    "    tc = t / np.cos(theta)\n",
    "    tr = t / np.sin(theta)\n",
    "    f = np.cos(2*np.pi*(r/tr + c/tc) + phi)\n",
    "    return f"
   ]
  },
  {
   "cell_type": "markdown",
   "metadata": {
    "deletable": true,
    "editable": true
   },
   "source": [
    "## Description\n",
    "\n",
    "Generate a cosine wave image of size s with amplitude 1, period T, phase phi and wave direction of theta. The output image is a double array.\n",
    "\n",
    "## Examples\n",
    "\n",
    "\n",
    "### Example 1"
   ]
  },
  {
   "cell_type": "markdown",
   "metadata": {
    "deletable": true,
    "editable": true
   },
   "source": [
    "    from ia636 import iacos, ianormalize\n",
    "\n",
    "    f = iacos([128,256], 100, pi/3, 0)\n",
    "    adshow(ianormalize(f, [0,255]))"
   ]
  },
  {
   "cell_type": "markdown",
   "metadata": {
    "deletable": true,
    "editable": true
   },
   "source": [
    "## Equation\n",
    "\n",
    "$$ \\begin{matrix}\n",
    "    f(r,c) & = & cos( 2\\pi (\\frac{1}{T_r}r + \\frac{1}{T_c}c) + \\phi) \\\\\n",
    "    f(r,c) & = & cos( 2\\pi (\\frac{v}{H}r + \\frac{u}{W}c) + \\phi) \\\\\n",
    "    T_r    & = & \\frac{T}{sin(\\theta)} \\\\\n",
    "    T_c    & = & \\frac{T}{cos(\\theta)} \\\\\n",
    "    u   & = & \\frac{W}{T_c} \\\\\n",
    "    v   & = & \\frac{H}{T_r}\n",
    "\\end{matrix} $$\n",
    "\n",
    "- $\\theta$ is the direction of the cosine wave.\n",
    "- $T$ is the wave period, in number of pixels.\n",
    "- $T_r$ and $T_c$ are the period or wave length in the vertical and horizontal directions, respectively, in number of pixels.\n",
    "- $H$ and $W$ are the number of image rows and columns, respectively. \n",
    "- $v$ and $u$ are the normalized frequency in the horizontal and vertical directions, respectively, in cycles per image dimension."
   ]
  },
  {
   "cell_type": "markdown",
   "metadata": {
    "deletable": true,
    "editable": true
   },
   "source": [
    "## See Also\n",
    "\n",
    "- `iacosdemo iacosdemo` -- Illustrate discrete cosine wave and its DFT showing its periodic nature."
   ]
  },
  {
   "cell_type": "markdown",
   "metadata": {
    "deletable": true,
    "editable": true
   },
   "source": [
    "    print 'testing iacos'\n",
    "    print `floor(0.5 + 127*(iacos([7,10], 3, pi/4, 0)+1))` == `array(\n",
    "          [[ 254.,  138.,    2.,   93.,  246.,  182.,   18.,   52.,  223.,  219.],\n",
    "           [ 138.,    2.,   93.,  246.,  182.,   18.,   52.,  223.,  219.,   48.],\n",
    "           [   2.,   93.,  246.,  182.,   18.,   52.,  223.,  219.,   48.,   21.],\n",
    "           [  93.,  246.,  182.,   18.,   52.,  223.,  219.,   48.,   21.,  187.],\n",
    "           [ 246.,  182.,   18.,   52.,  223.,  219.,   48.,   21.,  187.,  244.],\n",
    "           [ 182.,   18.,   52.,  223.,  219.,   48.,   21.,  187.,  244.,   88.],\n",
    "           [  18.,   52.,  223.,  219.,   48.,   21.,  187.,  244.,   88.,    3.]])`"
   ]
  }
 ],
 "metadata": {
  "kernelspec": {
   "display_name": "Python 3",
   "language": "python",
   "name": "python3"
  },
  "language_info": {
   "codemirror_mode": {
    "name": "ipython",
    "version": 3
   },
   "file_extension": ".py",
   "mimetype": "text/x-python",
   "name": "python",
   "nbconvert_exporter": "python",
   "pygments_lexer": "ipython3",
   "version": "3.6.0"
  },
  "toc": {
   "colors": {
    "hover_highlight": "#DAA520",
    "running_highlight": "#FF0000",
    "selected_highlight": "#FFD700"
   },
   "moveMenuLeft": true,
   "nav_menu": {
    "height": "30px",
    "width": "252px"
   },
   "navigate_menu": true,
   "number_sections": true,
   "sideBar": true,
   "threshold": 4,
   "toc_cell": false,
   "toc_section_display": "block",
   "toc_window_display": false
  }
 },
 "nbformat": 4,
 "nbformat_minor": 2
}
