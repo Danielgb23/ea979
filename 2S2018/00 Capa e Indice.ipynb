{
 "cells": [
  {
   "cell_type": "markdown",
   "metadata": {},
   "source": [
    "# IA898 - Processamento de Imagens Digitais\n",
    "## Segundo semestre de 2018\n",
    "*Leticia Rittner*\n"
   ]
  },
  {
   "cell_type": "markdown",
   "metadata": {},
   "source": [
    "## Conteúdo\n",
    "\n",
    "### Introdução ao Processamento de Imagens\n",
    "\n",
    "1. [Overview](01 Processamento Imagens.ipynb)\n",
    "\n",
    "### Introdução às Imagens digitais\n",
    "    \n",
    "1. [Introdução ao NumPy](02 Aprendendo Numpy.ipynb) \n",
    "2. Manipulando imagens: abrir, salvar, visualizar, criar\n",
    "3. Resolução espacial e radiométrica\t\n",
    "\n",
    "### Transformações radiométricas (ponto-a-ponto)\n",
    "\n",
    "1. Estatísticas da imagem, histograma\n",
    "2. Transformações baseadas em histograma\n",
    "3. Transformações em cores \n",
    "\n",
    "### Transformações espaciais (vizinhança)\n",
    "\n",
    "1. Convolução\n",
    "2. Filtros espaciais\n",
    "3. Tratamento de bordas\n",
    "\n",
    "### Transformada de Fourier\n",
    "\n",
    "1. Transformada de Fourier (FFT)\n",
    "2. Entendendo a FFT\n",
    "3. Visualizando a FFT\n",
    "4. Filtros em frequência\n",
    "5. Correlação de fase\n",
    "\n",
    "### Segmentação\n",
    "\n",
    "1. Otsu\n",
    "2. Watershed\n"
   ]
  },
  {
   "cell_type": "markdown",
   "metadata": {},
   "source": [
    "## Enunciados dos exercícios\n",
    "\n",
    "- [Exercício 1](Ex01 Aprendendo Numpy.ipynb)"
   ]
  },
  {
   "cell_type": "markdown",
   "metadata": {},
   "source": [
    "## Links úteis\n",
    "\n",
    "- [Jupyter Notebook - documentação](http://jupyter-notebook.readthedocs.io/en/latest/notebook.html)\n",
    "- [Jupyter notebook - tips and tricks](https://www.dataquest.io/blog/jupyter-notebook-tips-tricks-shortcuts/)\n",
    "- [Tutorial breve - Python](../deliver/tutorial-python.ipynb)\n",
    "- [Tutorial breve - NumPy](../deliver/tutorial-numpy.ipynb)"
   ]
  }
 ],
 "metadata": {
  "anaconda-cloud": {},
  "kernelspec": {
   "display_name": "Python 3",
   "language": "python",
   "name": "python3"
  },
  "language_info": {
   "codemirror_mode": {
    "name": "ipython",
    "version": 3
   },
   "file_extension": ".py",
   "mimetype": "text/x-python",
   "name": "python",
   "nbconvert_exporter": "python",
   "pygments_lexer": "ipython3",
   "version": "3.6.1"
  }
 },
 "nbformat": 4,
 "nbformat_minor": 1
}
