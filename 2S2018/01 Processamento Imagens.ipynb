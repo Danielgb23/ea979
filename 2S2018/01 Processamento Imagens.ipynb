{
 "cells": [
  {
   "attachments": {},
   "cell_type": "markdown",
   "metadata": {},
   "source": [
    "# Processamento Digital de Imagens\n",
    "\n",
    "Processar imagens digitais é realizar operações matemáticas ou lógicas utilizando os valores que representam cada um dos pixels.\n",
    "\n",
    "Objetivos do processamento:\n",
    "\n",
    "- Melhoramento de Imagens (Image enhancement)\n",
    "- Restauração de imagens \n",
    "- Segmentação de Imagens\n",
    "\n",
    "## Tipos de processamento\n",
    "\n",
    "### Transformação em intensidade (radiométrica)\n",
    "\n",
    "- em níveis de cinza\n",
    "- em cores\n",
    "\n",
    "### Transformação espacial (vizinhança)\n",
    "\n",
    "- filtragem no domínio espacial\n",
    "- filtragem no domínio da frequência\n",
    "\n",
    "### Operações aritméticas e lógicas\n",
    "\n",
    "- adição\n",
    "- subtração\n",
    "\n",
    "### Segmentação\n",
    "\n",
    "- detecção de bordas\n"
   ]
  }
 ],
 "metadata": {
  "kernelspec": {
   "display_name": "Python 3",
   "language": "python",
   "name": "python3"
  },
  "language_info": {
   "codemirror_mode": {
    "name": "ipython",
    "version": 3
   },
   "file_extension": ".py",
   "mimetype": "text/x-python",
   "name": "python",
   "nbconvert_exporter": "python",
   "pygments_lexer": "ipython3",
   "version": "3.6.1"
  }
 },
 "nbformat": 4,
 "nbformat_minor": 2
}
