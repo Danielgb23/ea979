{
 "cells": [
  {
   "cell_type": "markdown",
   "metadata": {
    "deletable": true,
    "editable": true
   },
   "source": [
    "# Aula 13  PCA"
   ]
  },
  {
   "cell_type": "code",
   "execution_count": 2,
   "metadata": {
    "ExecuteTime": {
     "end_time": "2017-06-08T08:17:57.773961",
     "start_time": "2017-06-08T08:17:55.879890"
    },
    "collapsed": true,
    "deletable": true,
    "editable": true
   },
   "outputs": [],
   "source": [
    "import numpy as np\n",
    "import sys,os\n",
    "import matplotlib.image as mpimg\n",
    "ia898path = os.path.abspath('../../')\n",
    "if ia898path not in sys.path:\n",
    "    sys.path.append(ia898path)\n",
    "import ia898.src as ia"
   ]
  },
  {
   "cell_type": "markdown",
   "metadata": {
    "deletable": true,
    "editable": true
   },
   "source": [
    "## Discussão dos exercícios entregues"
   ]
  },
  {
   "cell_type": "markdown",
   "metadata": {},
   "source": [
    "### Fingerprint"
   ]
  },
  {
   "cell_type": "markdown",
   "metadata": {},
   "source": [
    "1. A limpeza da imagem original é fundamental, tirando as linhas pretas que ficam nas bordas da imagem.\n",
    "2. A retirada de linhas e colunas centrais do espectro é importante pois é comum que o espectro tenha linhas\n",
    "   centrais marcantes que irão atrapalhar a estimativa do ângulo de rotação\n",
    "3. A escolha da resolução da imagem polar e escolha da faixa a ser utilizada para a correção é crucial. Deve existir\n",
    "   uma faixa ótima para se fazer este recorte\n",
    "   "
   ]
  },
  {
   "cell_type": "markdown",
   "metadata": {},
   "source": [
    "### Média móvel"
   ]
  },
  {
   "cell_type": "markdown",
   "metadata": {},
   "source": [
    "- Método extremamente veloz\n",
    "- A escolha das fatias não é trivial para fazer a soma das partes"
   ]
  },
  {
   "cell_type": "markdown",
   "metadata": {},
   "source": [
    "### Fast Normalized Cross Correlation"
   ]
  },
  {
   "cell_type": "markdown",
   "metadata": {
    "ExecuteTime": {
     "end_time": "2017-06-08T09:30:05.195906",
     "start_time": "2017-06-08T09:30:05.189232"
    }
   },
   "source": [
    "- o uso do denominador com a média móvel anterior e o numerador por fft tornam o método muito mais\n",
    "  rápido"
   ]
  },
  {
   "cell_type": "markdown",
   "metadata": {},
   "source": [
    "## PCA Principal Component Analysis"
   ]
  },
  {
   "cell_type": "markdown",
   "metadata": {
    "ExecuteTime": {
     "end_time": "2017-06-08T08:14:39.479493",
     "start_time": "2017-06-08T08:14:39.471513"
    }
   },
   "source": [
    "- [Demo_hotelling](https://t-adessowiki.fee.unicamp.br/user/lotufo/notebooks/ia898_1s2017/lotufo/ia898/master/Demo_hotelling.ipynb)\n",
    "- [ia898-PCA](https://t-adessowiki.fee.unicamp.br/user/lotufo/notebooks/ia898_1s2017/lotufo/ia898/src/pca.ipynb)"
   ]
  },
  {
   "cell_type": "markdown",
   "metadata": {
    "collapsed": true,
    "deletable": true,
    "editable": true
   },
   "source": [
    "## Exercícios para a próxima aula"
   ]
  },
  {
   "cell_type": "code",
   "execution_count": null,
   "metadata": {
    "collapsed": true
   },
   "outputs": [],
   "source": []
  }
 ],
 "metadata": {
  "kernelspec": {
   "display_name": "Python 3",
   "language": "python",
   "name": "python3"
  },
  "language_info": {
   "codemirror_mode": {
    "name": "ipython",
    "version": 3
   },
   "file_extension": ".py",
   "mimetype": "text/x-python",
   "name": "python",
   "nbconvert_exporter": "python",
   "pygments_lexer": "ipython3",
   "version": "3.6.0"
  },
  "toc": {
   "colors": {
    "hover_highlight": "#DAA520",
    "running_highlight": "#FF0000",
    "selected_highlight": "#FFD700"
   },
   "moveMenuLeft": true,
   "nav_menu": {
    "height": "30px",
    "width": "252px"
   },
   "navigate_menu": true,
   "number_sections": true,
   "sideBar": true,
   "threshold": 4,
   "toc_cell": false,
   "toc_section_display": "block",
   "toc_window_display": false
  }
 },
 "nbformat": 4,
 "nbformat_minor": 2
}
