{
 "cells": [
  {
   "cell_type": "markdown",
   "metadata": {
    "deletable": true,
    "editable": true
   },
   "source": [
    "# Aula 11  Correlação de fase"
   ]
  },
  {
   "cell_type": "markdown",
   "metadata": {
    "deletable": true,
    "editable": true
   },
   "source": [
    "## Exercícios"
   ]
  },
  {
   "cell_type": "markdown",
   "metadata": {
    "deletable": true,
    "editable": true
   },
   "source": [
    "## imresize\n",
    "\n",
    "- Processar a ampliação ou redução no domínio da frequência é menos eficiente do ponto de vista de rapidez computacional, pois a fft apesar de rápida pode ser mais lenta que métodos de interpolação no domínio espacial\n",
    "- A ampliação ou redução com o método de frequência pode gerar espectro não simétrico conjugado dependendo das dimensões serem pares ou ímpares. Uma solução é desconsiderar ou replicar simetricamente a coluna ou linha de maior frequência. Outra opção é desconsiderar completamente esta questão e pegar apenas a parte real. Todas estas soluções são soluções aproximadas.\n",
    "- A grande vantagem desse método é a qualidade da interpolação que pode ser conseguida. No exemplo passado, uma melhoria importante seria suavizar o espectro nas nos limites da frequência, para evitar a ondulação na imagem processada."
   ]
  },
  {
   "cell_type": "markdown",
   "metadata": {
    "deletable": true,
    "editable": true
   },
   "source": [
    "## pconvfft\n",
    "\n",
    "- Deve existir um número de elementos não zeros que vai depender da implementação do pconv espacial e o computador que está processado. O ideal seria chamar uma função de calibração para descobrir qual o melhor fator de número de elementos não zero para decidir qual método usar.\n",
    "\n",
    "- As duas imagens f e h, podem ter dimensões tais que seja necessário conseguir uma dimensão que\n",
    "seja o máximo das duas dimensões e não de apenas uma imagem.\n",
    "\n",
    "- A função implementada dessa forma é muito melhor do que a convolução apenas espacial.\n",
    "\n"
   ]
  },
  {
   "cell_type": "code",
   "execution_count": 1,
   "metadata": {
    "ExecuteTime": {
     "end_time": "2017-05-18T07:29:25.024955",
     "start_time": "2017-05-18T07:29:24.426068"
    },
    "collapsed": true,
    "deletable": true,
    "editable": true
   },
   "outputs": [],
   "source": [
    "import numpy as np\n",
    "import sys,os\n",
    "import matplotlib.image as mpimg\n",
    "ia898path = os.path.abspath('../../')\n",
    "if ia898path not in sys.path:\n",
    "    sys.path.append(ia898path)\n",
    "import ia898.src as ia"
   ]
  },
  {
   "cell_type": "markdown",
   "metadata": {
    "deletable": true,
    "editable": true
   },
   "source": [
    "## Exercícios para a próxima aula\n",
    "\n",
    "   "
   ]
  },
  {
   "cell_type": "markdown",
   "metadata": {
    "deletable": true,
    "editable": true
   },
   "source": [
    "### Casamento entre duas imagens de fingerprint\n",
    "\n",
    "Utilize o modelo do aluno:\n",
    "\n",
    "- [fg_match.ipynb](/home/aluno/Aula_11/fp_match.ipynb)\n",
    "\n",
    "Para fazer o exercício para a próxima semana."
   ]
  },
  {
   "cell_type": "markdown",
   "metadata": {
    "deletable": true,
    "editable": true
   },
   "source": [
    "## Correlação de fase\n",
    "\n"
   ]
  },
  {
   "cell_type": "markdown",
   "metadata": {
    "deletable": true,
    "editable": true
   },
   "source": [
    "- [polar.ipynb](../src/polar.ipynb)\n",
    "- [phasecorr](../src/phasecorr.ipynb)\n",
    "- [DemoPhaseCorrelation](../master/DemoPhaseCorrelation.ipynb)"
   ]
  }
 ],
 "metadata": {
  "kernelspec": {
   "display_name": "Python 3",
   "language": "python",
   "name": "python3"
  },
  "language_info": {
   "codemirror_mode": {
    "name": "ipython",
    "version": 3
   },
   "file_extension": ".py",
   "mimetype": "text/x-python",
   "name": "python",
   "nbconvert_exporter": "python",
   "pygments_lexer": "ipython3",
   "version": "3.6.0"
  },
  "toc": {
   "colors": {
    "hover_highlight": "#DAA520",
    "running_highlight": "#FF0000",
    "selected_highlight": "#FFD700"
   },
   "moveMenuLeft": true,
   "nav_menu": {
    "height": "30px",
    "width": "252px"
   },
   "navigate_menu": true,
   "number_sections": true,
   "sideBar": true,
   "threshold": 4,
   "toc_cell": false,
   "toc_section_display": "block",
   "toc_window_display": false
  }
 },
 "nbformat": 4,
 "nbformat_minor": 2
}
