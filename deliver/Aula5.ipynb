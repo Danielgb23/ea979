{
 "cells": [
  {
   "cell_type": "markdown",
   "metadata": {
    "deletable": true,
    "editable": true
   },
   "source": [
    "# Aula 5\n",
    "\n",
    "- Transformação Intensidade:\n",
    "    - [Correção dos exercícios entregues](../../Lista Alunos e Entregas.ipynb)\n",
    "    - Normalização com percentil\n",
    "    - [Ajuste Interativo de Contraste](../master/tutorial_contraste_iterativo_2.ipynb)\n",
    "    - [Widgets interativos no Jupyter](../dev/widgets_Using Interact.ipynb) - em inglês\n",
    "- Transformação Geométrica:"
   ]
  },
  {
   "cell_type": "markdown",
   "metadata": {
    "deletable": true,
    "editable": true
   },
   "source": [
    "- iaprofiledemo\n",
    "- iaramp\n",
    "- iait\n",
    "- iagshow\n",
    "- iagaussian\n",
    "- iacos\n",
    "- iaisolines\n",
    "- iagenimages\n",
    "- iagengauss (difícil)"
   ]
  }
 ],
 "metadata": {
  "kernelspec": {
   "display_name": "Python 3",
   "language": "python",
   "name": "python3"
  },
  "language_info": {
   "codemirror_mode": {
    "name": "ipython",
    "version": 3
   },
   "file_extension": ".py",
   "mimetype": "text/x-python",
   "name": "python",
   "nbconvert_exporter": "python",
   "pygments_lexer": "ipython3",
   "version": "3.6.0"
  },
  "toc": {
   "colors": {
    "hover_highlight": "#DAA520",
    "running_highlight": "#FF0000",
    "selected_highlight": "#FFD700"
   },
   "moveMenuLeft": true,
   "nav_menu": {
    "height": "30px",
    "width": "252px"
   },
   "navigate_menu": true,
   "number_sections": true,
   "sideBar": true,
   "threshold": 4,
   "toc_cell": false,
   "toc_section_display": "block",
   "toc_window_display": false
  }
 },
 "nbformat": 4,
 "nbformat_minor": 2
}
