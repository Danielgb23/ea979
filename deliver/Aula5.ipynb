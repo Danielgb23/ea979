{
 "cells": [
  {
   "cell_type": "markdown",
   "metadata": {},
   "source": [
    "# Aula 5\n",
    "\n",
    "- Transformação Intensidade:\n",
    "    - [Discussão sobre os exercícios para serem entregues](../../Lista Alunos e Entregas.ipynb)\n",
    "    - [Normalização com percentil](../deliver/Normalizacao_com_percentil.ipynb)\n",
    "    - [Ajuste Interativo de Contraste](../master/tutorial_contraste_iterativo_2.ipynb)\n",
    "    - [Widgets interativos no Jupyter](../dev/widgets_Using Interact.ipynb) - em inglês\n",
    "    \n",
    "- Exercícios para a próxima aula:\n",
    "    - Implementar uma widget interativa do ajuste de contraste utilizando o Window e Level\n",
    "    - Implementar a função g = normperc(f, perc), onde f é a imagem de entrada e perc é a porcentagem entre 0.0 e 1.0."
   ]
  },
  {
   "cell_type": "markdown",
   "metadata": {
    "deletable": true,
    "editable": true
   },
   "source": [
    "# Aula 6\n",
    "\n",
    "- Transformação Geométrica:\n",
    "    - [Aprendendo Transformação Afim](../deliver/Aprendendo_affine.ipynb)\n",
    "    \n",
    "- Operadores de Vizinhança\n",
    "    - [Translação periódica](../deliver/Atividade_4_1.ipynb)\n",
    "    - [Convolução discreta](../deliber/Atividade_4_2.ipynb)"
   ]
  },
  {
   "cell_type": "markdown",
   "metadata": {},
   "source": [
    "## Notebooks que precisam ser feitos\n",
    "\n",
    "- src/conv\n",
    "- src/affine\n",
    "- src/ptrans\n",
    "- src/text\n",
    "- src/gshow\n",
    "- src/nshow\n",
    "- master/tutorial_conv_3\n",
    "- master/tutorial_convprop_3"
   ]
  },
  {
   "cell_type": "markdown",
   "metadata": {
    "deletable": true,
    "editable": true
   },
   "source": [
    "## Como testar uma função ou programa\n",
    "\n",
    "- Função: protótipo\n",
    "- Como testar por exemplo a rgb_hsv?\n",
    "    - se existir uma função já pronto, pode ser comparada tanto com a colorsys como a do matplotlib\n",
    "        - rodar as duas funções em uma imagem e comparar os resultados\n",
    "            - comparação pode ser feita pegando o máximo erro absoluto da diferença entre os resultados\n",
    "        - como escolher o conjunto de dados a serem testados\n",
    "    - se não existir uma função equivalente:\n",
    "        - testar caso numérico bem pequeno, usar o print para interpretar os resultados\n",
    "- Vale a pena também comparar o tempo de execução"
   ]
  },
  {
   "cell_type": "markdown",
   "metadata": {
    "deletable": true,
    "editable": true
   },
   "source": [
    "- iaprofiledemo\n",
    "- iaramp\n",
    "- iait\n",
    "- iagshow\n",
    "- iagaussian\n",
    "- iacos\n",
    "- iaisolines\n",
    "- iagenimages\n",
    "- iagengauss (difícil)"
   ]
  }
 ],
 "metadata": {
  "kernelspec": {
   "display_name": "Python 3",
   "language": "python",
   "name": "python3"
  },
  "language_info": {
   "codemirror_mode": {
    "name": "ipython",
    "version": 3
   },
   "file_extension": ".py",
   "mimetype": "text/x-python",
   "name": "python",
   "nbconvert_exporter": "python",
   "pygments_lexer": "ipython3",
   "version": "3.6.0"
  },
  "toc": {
   "colors": {
    "hover_highlight": "#DAA520",
    "running_highlight": "#FF0000",
    "selected_highlight": "#FFD700"
   },
   "moveMenuLeft": true,
   "nav_menu": {
    "height": "30px",
    "width": "252px"
   },
   "navigate_menu": true,
   "number_sections": true,
   "sideBar": true,
   "threshold": 4,
   "toc_cell": false,
   "toc_section_display": "block",
   "toc_window_display": false
  }
 },
 "nbformat": 4,
 "nbformat_minor": 2
}
