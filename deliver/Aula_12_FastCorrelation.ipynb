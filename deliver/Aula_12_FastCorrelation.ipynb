{
 "cells": [
  {
   "cell_type": "markdown",
   "metadata": {
    "deletable": true,
    "editable": true
   },
   "source": [
    "# Aula 12  Correlação Cruzada Normalizada"
   ]
  },
  {
   "cell_type": "markdown",
   "metadata": {
    "deletable": true,
    "editable": true
   },
   "source": [
    "## Exercícios"
   ]
  },
  {
   "cell_type": "markdown",
   "metadata": {
    "deletable": true,
    "editable": true
   },
   "source": [
    "## fpmatch\n",
    "\n"
   ]
  },
  {
   "cell_type": "code",
   "execution_count": 3,
   "metadata": {
    "ExecuteTime": {
     "end_time": "2017-06-01T11:01:35.242049",
     "start_time": "2017-06-01T11:01:35.232286"
    },
    "collapsed": true,
    "deletable": true,
    "editable": true
   },
   "outputs": [],
   "source": [
    "import numpy as np\n",
    "import sys,os\n",
    "import matplotlib.image as mpimg\n",
    "ia898path = os.path.abspath('../../')\n",
    "if ia898path not in sys.path:\n",
    "    sys.path.append(ia898path)\n",
    "import ia898.src as ia"
   ]
  },
  {
   "cell_type": "markdown",
   "metadata": {},
   "source": [
    "## Motivação da aula"
   ]
  },
  {
   "cell_type": "markdown",
   "metadata": {},
   "source": [
    "-[Motivação: média eficiente - Demo interativo](http://adessowiki.fee.unicamp.br/adesso/wiki/courseIA8981S2015/function_iasat_examples_joaomarcos/view/?usecache=0)\n"
   ]
  },
  {
   "cell_type": "markdown",
   "metadata": {
    "deletable": true,
    "editable": true
   },
   "source": [
    "## Normalized Cross Correlation"
   ]
  },
  {
   "cell_type": "markdown",
   "metadata": {
    "ExecuteTime": {
     "end_time": "2017-05-31T23:57:30.434983",
     "start_time": "2017-05-31T23:57:30.429231"
    }
   },
   "source": [
    "- [Demo Correlação - Casamento de template](../master/corrdemo.ipynb)"
   ]
  },
  {
   "cell_type": "markdown",
   "metadata": {},
   "source": [
    "## Implementação eficiente do casamento de template"
   ]
  },
  {
   "cell_type": "markdown",
   "metadata": {
    "ExecuteTime": {
     "end_time": "2017-05-31T23:31:45.074032",
     "start_time": "2017-05-31T23:31:45.065803"
    }
   },
   "source": [
    "1. [J.P. Lewis - Fast Normalized Cross-Correlation - 1995](http://www.academia.edu/download/3607630/10.1.1.21.6062.pdf)\n",
    "2. [Template Matching using Fast NCC](http://i81pc23.itec.uni-karlsruhe.de/Publikationen/SPIE01_BriechleHanebeck_CrossCorr.pdf)"
   ]
  },
  {
   "cell_type": "markdown",
   "metadata": {},
   "source": [
    "## Estudo dirigido do primeiro artigo - Fast NCC:\n",
    "\n",
    "1. Seção 2: \n",
    "\n",
    "   - De onde vem a motivação para o cálculo da correlação cruzada?\n",
    "   \n",
    "   A Correlação Cruzada (entre 2 sinais) é uma técnica utilizada para detecção de características.\n",
    "   \n",
    "   - Qual é a diferença da equação 1 para a equação da convolução linear?\n",
    "   \n",
    "   - Qual é a melhoria introduzida pela normalização, para se chegar a NCC\n",
    "   \n",
    "   - Quais outros nomes da NCC\n",
    "   \n",
    "   Coeficiente de Correlação\n",
    "   \n",
    "2. Seção 3:\n",
    "\n",
    "   - Nesta seção outras técnicas de feature tracking são mostradas. Qual é a\n",
    "     conclusão do autor nesta seção?\n",
    "     \n",
    "3. Seção 4:\n",
    "\n",
    "   - Quais são as formas de implementação eficiente do numerador da NCC?\n",
    "   \n",
    "4. Seção 5: Esta é a seção da contribuição principal do artigo\n",
    "\n",
    "   - Qual é a proposta para implementar a normalização (denominador do NCC) de\n",
    "     forma eficiente?\n",
    "   - Como seria em NumPy usando a função `sat` da toolbox ia898?\n",
    "     "
   ]
  },
  {
   "cell_type": "markdown",
   "metadata": {},
   "source": [
    "## Estudo dirigido do segundo artigo - Template matching with Fast NCC:\n",
    "\n",
    "1. Seção 2:\n",
    "\n",
    "   - Qual é o tamanho da imagem e qual é o tamanho do template?\n",
    "   - Como se interpreta a equação 1? \n",
    "   \n",
    "     - Como é a varredura entre a imagem e o template?\n",
    "     - O que significam os índices (x,y) e (u,v)?\n",
    "   - O que se pode dizer sobre a equação 4 et(u,v)?\n",
    "   - Por que o NCC na equação 1 é caro para ser calculado?\n",
    "   - Qual é a proporcionalidade do número de operações  em função do tamanho da imagem e \n",
    "     tamanho do template?\n",
    "     \n",
    "2. Seção 3:\n",
    "\n",
    "   - Como funciona o cálculo da área de um retângulo usando a \"sum table\"?\n",
    "   - Como a equação 8 é simplificada para a equação 10?\n",
    "   - Como se implementa a equação 10 usando a imagem integral (summed area table)?\n",
    "   \n",
    "3. Seção 4:\n",
    "\n",
    "   - Como se simplifica o numerador para a equação 13?\n",
    "   - Qual é a ideia para a decomposição do template para se poder usar a summed area table?"
   ]
  },
  {
   "cell_type": "markdown",
   "metadata": {
    "ExecuteTime": {
     "end_time": "2017-05-31T23:42:19.720175",
     "start_time": "2017-05-31T23:42:19.714100"
    }
   },
   "source": [
    "- [sat](/home/lotufo/ia898/src/sat.ipynb)"
   ]
  },
  {
   "cell_type": "code",
   "execution_count": null,
   "metadata": {
    "collapsed": true
   },
   "outputs": [],
   "source": [
    " "
   ]
  },
  {
   "cell_type": "markdown",
   "metadata": {
    "deletable": true,
    "editable": true
   },
   "source": [
    "## Exercícios para a próxima aula\n",
    "\n",
    "   "
   ]
  },
  {
   "cell_type": "markdown",
   "metadata": {},
   "source": [
    "## Implementação da convolução rápida por uma média sob um retângulo de dimensões (H,W).\n",
    "\n",
    "- [conv_media](/home/aluno/Aula_12/conv_media.ipynb)"
   ]
  },
  {
   "cell_type": "markdown",
   "metadata": {
    "deletable": true,
    "editable": true
   },
   "source": [
    "## Implementação do template matching usando FNCC e sat\n",
    "\n",
    "Utilize o modelo do aluno:\n",
    "\n",
    "- [tm_fncc.ipynb](/home/aluno/Aula_12/tm_fncc.ipynb)\n",
    "\n",
    "A implementação deve usar o numerador pelo pconvfft e o denominador pelo conv_media. Medir os tempos comparando com a demonstração"
   ]
  },
  {
   "cell_type": "code",
   "execution_count": null,
   "metadata": {
    "collapsed": true
   },
   "outputs": [],
   "source": []
  }
 ],
 "metadata": {
  "kernelspec": {
   "display_name": "Python 3",
   "language": "python",
   "name": "python3"
  },
  "language_info": {
   "codemirror_mode": {
    "name": "ipython",
    "version": 3
   },
   "file_extension": ".py",
   "mimetype": "text/x-python",
   "name": "python",
   "nbconvert_exporter": "python",
   "pygments_lexer": "ipython3",
   "version": "3.6.0"
  },
  "toc": {
   "colors": {
    "hover_highlight": "#DAA520",
    "running_highlight": "#FF0000",
    "selected_highlight": "#FFD700"
   },
   "moveMenuLeft": true,
   "nav_menu": {
    "height": "30px",
    "width": "252px"
   },
   "navigate_menu": true,
   "number_sections": true,
   "sideBar": true,
   "threshold": 4,
   "toc_cell": false,
   "toc_section_display": "block",
   "toc_window_display": false
  }
 },
 "nbformat": 4,
 "nbformat_minor": 2
}
