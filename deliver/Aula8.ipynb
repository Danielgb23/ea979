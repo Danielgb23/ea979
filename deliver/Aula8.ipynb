{
 "cells": [
  {
   "cell_type": "markdown",
   "metadata": {
    "deletable": true,
    "editable": true
   },
   "source": [
    "# Aula8 - Continuação DFT"
   ]
  },
  {
   "cell_type": "markdown",
   "metadata": {
    "deletable": true,
    "editable": true
   },
   "source": [
    "## Correção dos Exercícios"
   ]
  },
  {
   "cell_type": "markdown",
   "metadata": {
    "deletable": true,
    "editable": true
   },
   "source": [
    "### DFT Decompose"
   ]
  },
  {
   "cell_type": "code",
   "execution_count": 24,
   "metadata": {
    "ExecuteTime": {
     "end_time": "2017-05-04T09:01:34.411963",
     "start_time": "2017-05-04T09:01:34.401132"
    },
    "collapsed": false
   },
   "outputs": [
    {
     "name": "stdout",
     "output_type": "stream",
     "text": [
      "[[200 200  50  50  50  50 200 200]\n",
      " [200 200  50  50  50  50 200 200]\n",
      " [200 200  50  50  50  50 200 200]\n",
      " [200 200  50  50  50  50 200 200]]\n"
     ]
    }
   ],
   "source": [
    "import numpy as np\n",
    "np.set_printoptions(suppress=True, precision=1)\n",
    "fw = np.array([200,200,50,50,50,50,200,200])\n",
    "f = np.array([fw,fw,fw,fw])\n",
    "print(f)"
   ]
  },
  {
   "cell_type": "code",
   "execution_count": 25,
   "metadata": {
    "ExecuteTime": {
     "end_time": "2017-05-04T09:01:35.331360",
     "start_time": "2017-05-04T09:01:35.320288"
    },
    "collapsed": false
   },
   "outputs": [
    {
     "name": "stdout",
     "output_type": "stream",
     "text": [
      "[[ 4000.0  +0.j  1448.5+600.j     0.0  +0.j  -248.5-600.j     0.0  +0.j\n",
      "   -248.5+600.j     0.0  +0.j  1448.5-600.j]\n",
      " [    0.0  +0.j     0.0  +0.j     0.0  +0.j     0.0  +0.j     0.0  +0.j\n",
      "      0.0  +0.j     0.0  +0.j     0.0  +0.j]\n",
      " [    0.0  +0.j     0.0  +0.j     0.0  +0.j     0.0  +0.j     0.0  +0.j\n",
      "      0.0  +0.j     0.0  +0.j     0.0  +0.j]\n",
      " [    0.0  +0.j     0.0  +0.j     0.0  +0.j     0.0  +0.j     0.0  +0.j\n",
      "      0.0  +0.j     0.0  +0.j     0.0  +0.j]]\n"
     ]
    }
   ],
   "source": [
    "F = np.fft.fft2(f)\n",
    "print(F)"
   ]
  },
  {
   "cell_type": "code",
   "execution_count": 26,
   "metadata": {
    "ExecuteTime": {
     "end_time": "2017-05-04T09:02:39.105809",
     "start_time": "2017-05-04T09:02:39.094160"
    },
    "collapsed": false
   },
   "outputs": [
    {
     "name": "stdout",
     "output_type": "stream",
     "text": [
      "[[ 200.+0.j  200.+0.j   50.+0.j   50.+0.j   50.+0.j   50.-0.j  200.-0.j\n",
      "   200.-0.j]\n",
      " [ 200.+0.j  200.+0.j   50.+0.j   50.+0.j   50.+0.j   50.-0.j  200.-0.j\n",
      "   200.-0.j]\n",
      " [ 200.+0.j  200.+0.j   50.+0.j   50.+0.j   50.+0.j   50.-0.j  200.-0.j\n",
      "   200.-0.j]\n",
      " [ 200.+0.j  200.+0.j   50.+0.j   50.+0.j   50.+0.j   50.-0.j  200.-0.j\n",
      "   200.-0.j]]\n"
     ]
    }
   ],
   "source": [
    "frestaurado = np.fft.ifft2(F)\n",
    "print(frestaurado)"
   ]
  },
  {
   "cell_type": "code",
   "execution_count": 36,
   "metadata": {
    "ExecuteTime": {
     "end_time": "2017-05-04T09:14:55.741091",
     "start_time": "2017-05-04T09:14:55.723635"
    },
    "collapsed": false,
    "deletable": true,
    "editable": true
   },
   "outputs": [
    {
     "name": "stdout",
     "output_type": "stream",
     "text": [
      "[[ 4000.+0.j     0.+0.j     0.+0.j     0.+0.j     0.+0.j     0.+0.j\n",
      "      0.+0.j     0.+0.j]\n",
      " [    0.+0.j     0.+0.j     0.+0.j     0.+0.j     0.+0.j     0.+0.j\n",
      "      0.+0.j     0.+0.j]\n",
      " [    0.+0.j     0.+0.j     0.+0.j     0.+0.j     0.+0.j     0.+0.j\n",
      "      0.+0.j     0.+0.j]\n",
      " [    0.+0.j     0.+0.j     0.+0.j     0.+0.j     0.+0.j     0.+0.j\n",
      "      0.+0.j     0.+0.j]]\n",
      "[[ 90.5  37.5 -37.5 -90.5 -90.5 -37.5  37.5  90.5]\n",
      " [ 90.5  37.5 -37.5 -90.5 -90.5 -37.5  37.5  90.5]\n",
      " [ 90.5  37.5 -37.5 -90.5 -90.5 -37.5  37.5  90.5]\n",
      " [ 90.5  37.5 -37.5 -90.5 -90.5 -37.5  37.5  90.5]]\n"
     ]
    }
   ],
   "source": [
    "Faux = np.zeros_like(F)\n",
    "Faux[0,0] = F[0,0]\n",
    "print(Faux)\n",
    "fr0 = np.fft.ifft2(Faux)\n",
    "print(fr1.real)"
   ]
  },
  {
   "cell_type": "code",
   "execution_count": 30,
   "metadata": {
    "ExecuteTime": {
     "end_time": "2017-05-04T09:04:34.056618",
     "start_time": "2017-05-04T09:04:34.038194"
    },
    "collapsed": false
   },
   "outputs": [
    {
     "name": "stdout",
     "output_type": "stream",
     "text": [
      "[[    0.0  +0.j  1448.5+600.j     0.0  +0.j     0.0  +0.j     0.0  +0.j\n",
      "      0.0  +0.j     0.0  +0.j  1448.5-600.j]\n",
      " [    0.0  +0.j     0.0  +0.j     0.0  +0.j     0.0  +0.j     0.0  +0.j\n",
      "      0.0  +0.j     0.0  +0.j     0.0  +0.j]\n",
      " [    0.0  +0.j     0.0  +0.j     0.0  +0.j     0.0  +0.j     0.0  +0.j\n",
      "      0.0  +0.j     0.0  +0.j     0.0  +0.j]\n",
      " [    0.0  +0.j     0.0  +0.j     0.0  +0.j     0.0  +0.j     0.0  +0.j\n",
      "      0.0  +0.j     0.0  +0.j     0.0  +0.j]]\n",
      "[[ 90.5  37.5 -37.5 -90.5 -90.5 -37.5  37.5  90.5]\n",
      " [ 90.5  37.5 -37.5 -90.5 -90.5 -37.5  37.5  90.5]\n",
      " [ 90.5  37.5 -37.5 -90.5 -90.5 -37.5  37.5  90.5]\n",
      " [ 90.5  37.5 -37.5 -90.5 -90.5 -37.5  37.5  90.5]]\n"
     ]
    }
   ],
   "source": [
    "Faux = np.zeros_like(F)\n",
    "Faux[0,1] = F[0,1]\n",
    "Faux[0,-1] = F[0,-1]\n",
    "print(Faux)\n",
    "fr1 = np.fft.ifft2(Faux)\n",
    "print(fr1.real)"
   ]
  },
  {
   "cell_type": "code",
   "execution_count": 32,
   "metadata": {
    "ExecuteTime": {
     "end_time": "2017-05-04T09:05:18.097714",
     "start_time": "2017-05-04T09:05:18.078852"
    },
    "collapsed": false,
    "deletable": true,
    "editable": true
   },
   "outputs": [
    {
     "name": "stdout",
     "output_type": "stream",
     "text": [
      "[[   0.0  +0.j    0.0  +0.j    0.0  +0.j -248.5-600.j    0.0  +0.j\n",
      "  -248.5+600.j    0.0  +0.j    0.0  +0.j]\n",
      " [   0.0  +0.j    0.0  +0.j    0.0  +0.j    0.0  +0.j    0.0  +0.j\n",
      "     0.0  +0.j    0.0  +0.j    0.0  +0.j]\n",
      " [   0.0  +0.j    0.0  +0.j    0.0  +0.j    0.0  +0.j    0.0  +0.j\n",
      "     0.0  +0.j    0.0  +0.j    0.0  +0.j]\n",
      " [   0.0  +0.j    0.0  +0.j    0.0  +0.j    0.0  +0.j    0.0  +0.j\n",
      "     0.0  +0.j    0.0  +0.j    0.0  +0.j]]\n",
      "[[-15.5  37.5 -37.5  15.5  15.5 -37.5  37.5 -15.5]\n",
      " [-15.5  37.5 -37.5  15.5  15.5 -37.5  37.5 -15.5]\n",
      " [-15.5  37.5 -37.5  15.5  15.5 -37.5  37.5 -15.5]\n",
      " [-15.5  37.5 -37.5  15.5  15.5 -37.5  37.5 -15.5]]\n"
     ]
    }
   ],
   "source": [
    "Faux = np.zeros_like(F)\n",
    "Faux[0,3] = F[0,3]\n",
    "Faux[0,-3] = F[0,-3]\n",
    "print(Faux)\n",
    "fr3 = np.fft.ifft2(Faux)\n",
    "print(fr3.real)"
   ]
  },
  {
   "cell_type": "code",
   "execution_count": 37,
   "metadata": {
    "ExecuteTime": {
     "end_time": "2017-05-04T09:15:27.498692",
     "start_time": "2017-05-04T09:15:27.486564"
    },
    "collapsed": false
   },
   "outputs": [
    {
     "name": "stdout",
     "output_type": "stream",
     "text": [
      "[[ 200.+0.j  200.+0.j   50.+0.j   50.+0.j   50.+0.j   50.-0.j  200.-0.j\n",
      "   200.-0.j]\n",
      " [ 200.+0.j  200.+0.j   50.+0.j   50.+0.j   50.+0.j   50.-0.j  200.-0.j\n",
      "   200.-0.j]\n",
      " [ 200.+0.j  200.+0.j   50.+0.j   50.+0.j   50.+0.j   50.-0.j  200.-0.j\n",
      "   200.-0.j]\n",
      " [ 200.+0.j  200.+0.j   50.+0.j   50.+0.j   50.+0.j   50.-0.j  200.-0.j\n",
      "   200.-0.j]]\n"
     ]
    }
   ],
   "source": [
    "fr = fr0 + fr1 + fr3\n",
    "print(fr)"
   ]
  },
  {
   "cell_type": "code",
   "execution_count": 33,
   "metadata": {
    "ExecuteTime": {
     "end_time": "2017-05-04T09:10:52.133455",
     "start_time": "2017-05-04T09:10:51.380562"
    },
    "collapsed": false
   },
   "outputs": [
    {
     "data": {
      "text/plain": [
       "[<matplotlib.lines.Line2D at 0x7f56dcca4d68>]"
      ]
     },
     "execution_count": 33,
     "metadata": {},
     "output_type": "execute_result"
    },
    {
     "data": {
      "image/png": "[encoded data removed]",
      "text/plain": [
       "<matplotlib.figure.Figure at 0x7f56df381630>"
      ]
     },
     "metadata": {},
     "output_type": "display_data"
    }
   ],
   "source": [
    "%matplotlib inline\n",
    "import matplotlib.pyplot as plt\n",
    "plt.plot(fr3.real[0])"
   ]
  },
  {
   "cell_type": "code",
   "execution_count": 35,
   "metadata": {
    "ExecuteTime": {
     "end_time": "2017-05-04T09:12:51.338134",
     "start_time": "2017-05-04T09:12:50.900437"
    },
    "collapsed": false
   },
   "outputs": [
    {
     "data": {
      "text/plain": [
       "[<matplotlib.lines.Line2D at 0x7f56dcba1908>]"
      ]
     },
     "execution_count": 35,
     "metadata": {},
     "output_type": "execute_result"
    },
    {
     "data": {
      "image/png": "[encoded data removed]",
      "text/plain": [
       "<matplotlib.figure.Figure at 0x7f56dcc08f98>"
      ]
     },
     "metadata": {},
     "output_type": "display_data"
    }
   ],
   "source": [
    "x = np.arange(80)\n",
    "y = np.cos(2*np.pi*x*3/80)\n",
    "plt.plot(y)"
   ]
  },
  {
   "cell_type": "markdown",
   "metadata": {},
   "source": [
    "## Aprendizados\n",
    "\n",
    "- Nunca tirar o valor absoluto do resultado do filtro, para eliminar do resíduo da parte imaginária. Como é esperado que o resultado do filtro seja uma imagem real, e pelo fato de erros de cálculo numérico, o resultado é complexo, com valores imaginários muito próximos a zero. A melhor forma de fazer este resultado ser real é apenas tirar a parte da real: `f.real` e nunca `np.abs(f)`.\n",
    "- Fazer caso numérico pequeno é sempre importante no aprendizado e para encontrar erros.\n",
    "- sempre que houver uma borda na imagem, ela dá origem a uma linha no espectro de Fourier e se esta imagem for filtrada de forma ideal, existe um efeito de *ring* (ondulação) na imagem. Não esquecer que a imagem é periódica e muitas vezes este degrau acontece na borda, por exemplo, a parte de baixo da imagem é branca e parte de cima é escura.\n",
    "- Na filtragem no domínio da frequência é sempre importante verificar se a transformada de Fourier resultante exibe a propriedade do simetria de complexo conjugado."
   ]
  },
  {
   "cell_type": "markdown",
   "metadata": {
    "deletable": true,
    "editable": true
   },
   "source": [
    "### Rotação"
   ]
  },
  {
   "cell_type": "markdown",
   "metadata": {
    "deletable": true,
    "editable": true
   },
   "source": [
    "### Escala"
   ]
  },
  {
   "cell_type": "markdown",
   "metadata": {
    "deletable": true,
    "editable": true
   },
   "source": [
    "## Implementando a DFT matricialmente"
   ]
  },
  {
   "cell_type": "markdown",
   "metadata": {
    "deletable": true,
    "editable": true
   },
   "source": [
    "## Filtros"
   ]
  },
  {
   "cell_type": "markdown",
   "metadata": {
    "deletable": true,
    "editable": true
   },
   "source": [
    "## Teorema da Convolução"
   ]
  }
 ],
 "metadata": {
  "kernelspec": {
   "display_name": "Python 3",
   "language": "python",
   "name": "python3"
  },
  "language_info": {
   "codemirror_mode": {
    "name": "ipython",
    "version": 3
   },
   "file_extension": ".py",
   "mimetype": "text/x-python",
   "name": "python",
   "nbconvert_exporter": "python",
   "pygments_lexer": "ipython3",
   "version": "3.6.0"
  },
  "toc": {
   "colors": {
    "hover_highlight": "#DAA520",
    "running_highlight": "#FF0000",
    "selected_highlight": "#FFD700"
   },
   "moveMenuLeft": true,
   "nav_menu": {
    "height": "154px",
    "width": "252px"
   },
   "navigate_menu": true,
   "number_sections": true,
   "sideBar": true,
   "threshold": 4,
   "toc_cell": false,
   "toc_section_display": "block",
   "toc_window_display": false
  }
 },
 "nbformat": 4,
 "nbformat_minor": 2
}
