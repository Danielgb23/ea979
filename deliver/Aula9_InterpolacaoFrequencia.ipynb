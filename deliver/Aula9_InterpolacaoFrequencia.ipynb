{
 "cells": [
  {
   "cell_type": "markdown",
   "metadata": {
    "deletable": true,
    "editable": true
   },
   "source": [
    "# Aula 9 - Interpolação Domínio da Frequência"
   ]
  },
  {
   "cell_type": "markdown",
   "metadata": {
    "deletable": true,
    "editable": true
   },
   "source": [
    "## Correção exercícios"
   ]
  },
  {
   "cell_type": "markdown",
   "metadata": {
    "deletable": true,
    "editable": true
   },
   "source": [
    "### isccsym\n",
    "\n",
    "Solução não é trivial. Precisamos também verificar se a função funciona com entrada de imagem complexa.\n",
    "\n",
    "Vamos refazer este exercício, fornecendo um conjunto de imagens de teste para todos verificarem se sua implementação funciona. O objetivo é conseguir uma implementação bem eficiente, utilizando fatiamento."
   ]
  },
  {
   "cell_type": "markdown",
   "metadata": {
    "deletable": true,
    "editable": true
   },
   "source": [
    "### filtroidealdemo"
   ]
  },
  {
   "cell_type": "markdown",
   "metadata": {
    "deletable": true,
    "editable": true
   },
   "source": [
    "### convteo\n",
    "\n",
    "Então sempre que existe um filtro utilizando a convolução periódic1, podemos implementá-lo usando a DFT e vice-versa, sempre que tivermos um filtro no domínio da frequência, podemos implementá-lo via convolução periódica.\n",
    "\n",
    "- Quando é melhor usar convolução:\n",
    "    - para máscaras com 4 a 10 elementos, é mais rápido executar pela convolução\n",
    "\n",
    "- Quando é melhor usa a DFT:\n",
    "    - é mais rápido para mascaras espaciais maiores que 20 elementos.\n",
    "    - é útil no projeto de vários filtros: ideal, filtro butterworth,\n",
    "      filtro sintonizado\n",
    "    - é muito útil para entender o que um filtro por convolução está\n",
    "      operando"
   ]
  },
  {
   "cell_type": "markdown",
   "metadata": {
    "deletable": true,
    "editable": true
   },
   "source": [
    "## Propriedade da Escala (expansão)\n",
    "\n",
    "Revisão da demonstração feita na aula anterior\n",
    "\n",
    "- [Propriedade escala](/home/lotufo/ia898/master/dftscaleproperty.ipynb)\n"
   ]
  },
  {
   "cell_type": "markdown",
   "metadata": {
    "deletable": true,
    "editable": true
   },
   "source": [
    "## Interpolação no domínio da frequência\n",
    "\n",
    "- [Magnify](../master/magnify.ipynb)\n",
    "\n",
    "O redimensionamento com interpolação de uma imagem é uma operação custosa de processamento e de difícil implementação eficiente.\n",
    "\n",
    "Algumas bibliotecas onde implementar este redimensionamento\n",
    "\n",
    "- scipy.misc.imresize (usa o PIL)\n",
    "- scipy.ndimage.zoom\n",
    "- skimage.transform.resize\n",
    "- opencv, cv2.resize"
   ]
  },
  {
   "cell_type": "code",
   "execution_count": 12,
   "metadata": {
    "ExecuteTime": {
     "end_time": "2017-05-11T11:37:31.001637",
     "start_time": "2017-05-11T11:37:30.997080"
    },
    "collapsed": false,
    "deletable": true,
    "editable": true
   },
   "outputs": [],
   "source": [
    "# import cv2"
   ]
  },
  {
   "cell_type": "markdown",
   "metadata": {
    "deletable": true,
    "editable": true
   },
   "source": [
    "## Exercícios para a próxima aula\n",
    "\n",
    "### isccsym\n",
    "\n",
    "isccsym usando fatiamento e o conjunto de testes no arquivo pickle ccsym.pkl\n",
    "\n"
   ]
  },
  {
   "cell_type": "code",
   "execution_count": 10,
   "metadata": {
    "ExecuteTime": {
     "end_time": "2017-05-11T10:41:37.618203",
     "start_time": "2017-05-11T10:41:37.523075"
    },
    "collapsed": false,
    "deletable": true,
    "editable": true
   },
   "outputs": [
    {
     "name": "stdout",
     "output_type": "stream",
     "text": [
      "2 1\n",
      "<class 'numpy.ndarray'>\n",
      "<class 'numpy.ndarray'>\n"
     ]
    }
   ],
   "source": [
    "import pickle\n",
    "\n",
    "try:\n",
    "    with open('/home/lotufo/ccsym.pkl','rb') as fhandle: \n",
    "        flist = pickle.load(fhandle)\n",
    "except:\n",
    "    print('arquivo não encontrado')\n",
    "    \n",
    "print(len(flist[0]),len(flist[1]))\n",
    "\n",
    "cclist_ok = flist[0]\n",
    "cclist_false = flist[1]\n",
    "\n",
    "for cok in cclist_ok:\n",
    "    print(type(cok))"
   ]
  },
  {
   "cell_type": "markdown",
   "metadata": {
    "deletable": true,
    "editable": true
   },
   "source": [
    "### Analisar as implementações de resize de vários pacotes\n",
    "\n",
    "Utilizar no mínimo os pacotes scipy (PIL e o zoom) e skimage para analisar:\n",
    "- ampliação com interpolação linear\n",
    "- redução com interpolação linear\n",
    "\n",
    "Medir a velocidade e o espectro das imagens originais e interpoladas.\n",
    "\n",
    "resize_comparison.ipynb\n",
    "\n"
   ]
  },
  {
   "cell_type": "markdown",
   "metadata": {
    "deletable": true,
    "editable": true
   },
   "source": [
    "### Fazer uma demonstração da diminuição da imagem\n",
    "\n",
    "Com base no exemplo magnify.ipynb que analise a interpolação no domínio da frequência na ampliação da imagem, fazer o mesmo para a redução da imagem. Use\n",
    "uma redução de 4x4:  g = f[::4,::4]\n"
   ]
  },
  {
   "cell_type": "code",
   "execution_count": null,
   "metadata": {
    "collapsed": true,
    "deletable": true,
    "editable": true
   },
   "outputs": [],
   "source": []
  }
 ],
 "metadata": {
  "kernelspec": {
   "display_name": "Python 3",
   "language": "python",
   "name": "python3"
  },
  "language_info": {
   "codemirror_mode": {
    "name": "ipython",
    "version": 3
   },
   "file_extension": ".py",
   "mimetype": "text/x-python",
   "name": "python",
   "nbconvert_exporter": "python",
   "pygments_lexer": "ipython3",
   "version": "3.6.0"
  },
  "toc": {
   "colors": {
    "hover_highlight": "#DAA520",
    "running_highlight": "#FF0000",
    "selected_highlight": "#FFD700"
   },
   "moveMenuLeft": true,
   "nav_menu": {
    "height": "12px",
    "width": "252px"
   },
   "navigate_menu": true,
   "number_sections": true,
   "sideBar": true,
   "threshold": 4,
   "toc_cell": false,
   "toc_section_display": "block",
   "toc_window_display": false
  }
 },
 "nbformat": 4,
 "nbformat_minor": 2
}
