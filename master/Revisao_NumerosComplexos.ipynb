{
 "cells": [
  {
   "cell_type": "markdown",
   "metadata": {},
   "source": [
    "# IA898 Revisão em números complexos\n",
    "\n",
    "Antes de começarmos a discutir a Transformada de Fourier, vamos fazer a revisão de alguns conceitos importantes,\n",
    "como por exemplo, os números complexos.\n",
    "\n",
    "O conceito de números complexos surgiu no século XIV basicamente para possibilitar a resolução raiz quadrada.\n",
    "No início, os números complexos não eram vistos como números, mas sim como um artifício algébrico útil para se resolver equações. \n",
    "Descartes, no século XVII, os chamou de números imaginários.\n",
    "\n",
    "A representação de números complexos se dá na forma cartesiana (parte real e parte imaginária) e a na forma\n",
    "polar (módulo e fase). A equação de Euler dá a uma representação da forma polar em cosseno (parte real) e seno\n",
    "(parte imaginária).\n",
    "A operação de soma de números complexos é mais fácil de ser realizada na forma cartesiana enquanto que as\n",
    "operações de produto e potenciação são mais facilmente realizadas na forma polar. A visualização de um sinal\n",
    "complexo também é mais fácil na forma polar (magnitude e fase)."
   ]
  },
  {
   "cell_type": "markdown",
   "metadata": {},
   "source": [
    "## Representação cartesiana\n",
    "\n",
    "A representação cartesiana do número complexo :eq:`c` é dada por:\n",
    "\n",
    ".. equation:: latex\n",
    "    :align: left\n",
    "\n",
    "    c = x + yj  \n",
    "\n",
    "onde :eq:`x` é denominada parte Real e :eq:`y` é denominada parte Imaginária. A maneira mais imediata de criar\n",
    "um número complexo usando NumPy e através da função *complex*, bastando para isso passar os valores das partes\n",
    "*real* e *imaginária* do número complexo, como mostra o exemplo abaixo. Veja que a variável *C* é do tipo *complex*."
   ]
  },
  {
   "cell_type": "markdown",
   "metadata": {},
   "source": [
    "    import numpy as np\n",
    "    \n",
    "    C = np.complex(3,4)\n",
    "    print 'C=', C\n",
    "    print type(C)"
   ]
  },
  {
   "cell_type": "markdown",
   "metadata": {},
   "source": [
    "Porém, como iremos trabalhar com números complexos em imagens, utilizaremos não apenas um\n",
    "número complexo, mas um *array* de números complexos. Podemos ver no exemplo a seguir, que\n",
    "a forma de se criar um *array* de números complexos é a mesma de se criar um *array* de números \n",
    "inteiros ou números reais (em ponto flutuante). Basta então utilizarmos a função *array* do\n",
    "NumPy e inserir cada elemento complexo, escrevendo-o da forma :eq:`x+yj`. Veja que agora a \n",
    "variável *c* é do tipo *numpy.ndarray*."
   ]
  },
  {
   "cell_type": "markdown",
   "metadata": {},
   "source": [
    "    c = np.array([3+4j])\n",
    "    print 'c=', c\n",
    "    print type(c)\n",
    "    print 'Parte real:', c.real\n",
    "    print 'Parte imaginária:', c.imag\n",
    "    print c.shape"
   ]
  },
  {
   "cell_type": "markdown",
   "metadata": {},
   "source": [
    "    \n",
    "O conjugado deste mesmo número complexo $c$ é dado por:\n",
    " \n",
    "\n",
    "$$    \\bar{c} = x - yj  $$\n",
    "\n",
    "Percebam que a parte real de um número complexo e de seu conjugado é a mesma ($x$), enquanto que a parte\n",
    "imaginária deles são opostas ($y$ e $-y$)"
   ]
  },
  {
   "cell_type": "code",
   "execution_count": null,
   "metadata": {
    "collapsed": true
   },
   "outputs": [],
   "source": [
    "   cc = np.conjugate(c)\n",
    "   print 'c=', c\n",
    "   print 'Complexo conjugado:', cc\n",
    "   print 'Parte real:', cc.real\n",
    "   print 'Parte imaginária:', cc.imag"
   ]
  },
  {
   "cell_type": "markdown",
   "metadata": {},
   "source": [
    "## Representação no plano complexo\n",
    "    \n",
    "Os números complexos são representados geometricamente no plano complexo. Nele, representa-se a parte real,\n",
    ":eq:`x`, no eixo horizontal e a parte imaginária, :eq:`y`, no eixo vertical. Se interpretarmos este número complexo no plano\n",
    "cartesiano como um vetor, podemos calcular sua magnitude (módulo) e sua fase (argumento)."
   ]
  },
  {
   "cell_type": "markdown",
   "metadata": {},
   "source": [
    "   c3 = np.array(2+2j)\n",
    "   print 'c3=', c3\n",
    "   print 'Módulo:', np.abs(c3)\n",
    "   print 'Argumento:', rad2deg(np.angle(c3))"
   ]
  },
  {
   "cell_type": "markdown",
   "metadata": {},
   "source": [
    "## Representação polar\n",
    "\n",
    "A representação polar de um número complexo, dada pela fórmula de Euler, é da forma: \n",
    "\n",
    "\n",
    "$$    c = \\rho (\\cos \\phi + j \\sin \\phi)  $$\n",
    "\n",
    "ou ainda\n",
    "\n",
    "$$    c = \\rho {e}^{j\\phi } $$\n",
    "    \n",
    "onde $\\rho$ é o módulo (magnitude) do número complexo e $\\phi$ é o argumento (fase) do número complexo.\n",
    "Também é fácil de ver que $rho \\cos \\phi$ é a parte real do número complexo e $\\rho \\sin \\phi$ é a\n",
    "parte imaginária do número complexo.\n",
    "    "
   ]
  },
  {
   "cell_type": "markdown",
   "metadata": {},
   "source": [
    "## Relação entre representação cartesiana e representação polar\n",
    "\n",
    "Todo número complexo pode ser representado por sua parte real e sua parte imaginária, ou por seu módulo e argumento.\n",
    "A partir de uma destas representações é possível obter a outra.\n",
    "Para converter um número complexo de sua representação cartesiana, para sua representação polar, basta fazermos:\n",
    "\n",
    "\n",
    "$$    \\rho = \\left|z \\right| = \\sqrt{{x}^{2}+{y}^{2}} $$\n",
    "     \n",
    "$$    \\phi = \\arctan \\left(\\frac{y}{x} \\right) $$\n",
    "    \n",
    "Já a conversão do número complexo em sua forma polar para a forma cartesiana é dada por:\n",
    "\n",
    "$$    x = \\rho\\cos(\\phi) $$\n",
    "    \n",
    "$$    y = \\rho\\sin(\\phi) $$\n",
    "\n",
    "Para conversão de um número complexo de suas coordenadas cartesianas para polares, basta usar\n",
    "as funções *abs* e *angle* oferecidas pelo NumPy. Já para a conversão inversa (de polar para\n",
    "cartesiana), não função específica do NumPy e é preciso, portanto, realizar o cálculo como \n",
    "descrito acima. É importante também ficar atento ao uso do ângulo em radianos ou em graus.\n",
    "\n",
    "## Array de números complexos\n",
    "\n",
    "Até agora, vimos os conceitos relacionados aos números complexos e as principais funções do NumPy\n",
    "para manipular estes números. Percebam que desde o começo operamos em uma array de um único elemento.\n",
    "Mas, no caso das imagens e da transformada de Fourier, ao invés de um único número complexo estaremos\n",
    "manipulando um array de números complexos."
   ]
  },
  {
   "cell_type": "markdown",
   "metadata": {},
   "source": [
    "   C_array = np.array([[3+4j, 2+2j],[1-2j, -2+2j]])\n",
    "   print 'C_array=\\n', C_array\n",
    "   print 'Módulo:\\n', np.abs(C_array)\n",
    "   print 'Argumento:\\n', rad2deg(np.angle(C_array))\n",
    "   print C_array.shape"
   ]
  }
 ],
 "metadata": {
  "kernelspec": {
   "display_name": "Python 3",
   "language": "python",
   "name": "python3"
  },
  "language_info": {
   "codemirror_mode": {
    "name": "ipython",
    "version": 3
   },
   "file_extension": ".py",
   "mimetype": "text/x-python",
   "name": "python",
   "nbconvert_exporter": "python",
   "pygments_lexer": "ipython3",
   "version": "3.6.0"
  },
  "toc": {
   "colors": {
    "hover_highlight": "#DAA520",
    "running_highlight": "#FF0000",
    "selected_highlight": "#FFD700"
   },
   "moveMenuLeft": true,
   "nav_menu": {
    "height": "30px",
    "width": "252px"
   },
   "navigate_menu": true,
   "number_sections": true,
   "sideBar": true,
   "threshold": 4,
   "toc_cell": false,
   "toc_section_display": "block",
   "toc_window_display": false
  }
 },
 "nbformat": 4,
 "nbformat_minor": 2
}
