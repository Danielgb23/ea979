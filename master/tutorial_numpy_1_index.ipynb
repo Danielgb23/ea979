{
 "cells": [
  {
   "cell_type": "markdown",
   "metadata": {
    "collapsed": true,
    "deletable": true,
    "editable": true
   },
   "source": [
    "# Tutoriais de apoio para a disciplina ia898\n",
    "\n",
    "Este diretório é composto de uma série de pequenos tutoriais básicos do Python e principalmente do NumPy, com aplicação à processamento de imagens."
   ]
  },
  {
   "cell_type": "markdown",
   "metadata": {
    "deletable": true,
    "editable": true
   },
   "source": [
    "- [Chessboard](chess.ipynb) - Motivação\n",
    "\n",
    "- [Edição HTML](Ferramentas de Edicao HTML.ipynb)\n",
    "\n",
    "- [Python I - Tipos de variáveis](tutorial_python_1_1.ipynb)\n",
    "- [Python III - Declaração de funções](tutorial_python_1_3.ipynb)\n",
    "   \n",
    "  \n",
    "- [NumPy - Introdução ao ndarray](tutorial_numpy_1_1.ipynb)   \n",
    "- [Imagens - Representação, Leitura e Visualização](tutorial_img_ds.ipynb) \n",
    "- [Matplotlib](tutorial_matplotlib.ipynb)    \n",
    "- [NumPy - Formatando array para impressão](tutorial_numpy_1_11.ipynb) \n",
    "- [NumPy - Fatiamento array unidimensional](tutorial_numpy_1_2.ipynb)\n",
    "- [NumPy - Fatiamento em duas dimensões](tutorial_numpy_1_3.ipynb)\n",
    "- [Proc Imagens com Fatiamento](tutorial_1_imagens.ipynb)     \n",
    "- [NumPy - Cópia Rasa e Profunda](tutorial_numpy_1_4.ipynb)\n",
    "- [NumPy - Array Strides](Array-strides.ipynb)\n",
    "- [NumPy - Redução de eixo](tutorial_numpy_1_5a.ipynb)\n",
    "- [NumPy - Indices e meshgrid para gerar imagens sintéticas](tutorial_numpy_1_7.ipynb)"
   ]
  },
  {
   "cell_type": "markdown",
   "metadata": {
    "deletable": true,
    "editable": true
   },
   "source": [
    "- [Histograma e Estatística](tutorial_hist__stat_2.ipynb) \n",
    "- [Transformação de Intensidade](tutorial_ti_2.ipynb)\n",
    "- [Equalização de histograma](tutorial_hist_eq_2.ipynb)\n",
    "- [Equalização por ordenação dos pixels](tutorial_pehist_1.ipynb)\n",
    "- [Especificação de histograma por ordenação dos pixels](tutorial_pehist_2.ipynb)\n",
    "- [Ajuste interativo de contraste](tutorial_contraste_iterativo_2.ipynb)"
   ]
  },
  {
   "cell_type": "markdown",
   "metadata": {
    "deletable": true,
    "editable": true
   },
   "source": [
    "- [NumPy - Uso do tile](tutorial_numpy_1_8.ipynb)\n",
    "- [NumPy - Uso do resize](tutorial_numpy_1_9.ipynb)\n",
    "- [NumPy - Uso do clip](tutorial_numpy_1_10.ipynb) "
   ]
  },
  {
   "cell_type": "code",
   "execution_count": null,
   "metadata": {
    "collapsed": true,
    "deletable": true,
    "editable": true
   },
   "outputs": [],
   "source": []
  }
 ],
 "metadata": {
  "anaconda-cloud": {},
  "kernelspec": {
   "display_name": "Python 3",
   "language": "python",
   "name": "python3"
  },
  "language_info": {
   "codemirror_mode": {
    "name": "ipython",
    "version": 3
   },
   "file_extension": ".py",
   "mimetype": "text/x-python",
   "name": "python",
   "nbconvert_exporter": "python",
   "pygments_lexer": "ipython3",
   "version": "3.6.0"
  },
  "latex_envs": {
   "LaTeX_envs_menu_present": true,
   "bibliofile": "biblio.bib",
   "cite_by": "apalike",
   "current_citInitial": 1,
   "eqLabelWithNumbers": true,
   "eqNumInitial": 1,
   "hotkeys": {
    "equation": "Ctrl-E",
    "itemize": "Ctrl-I"
   },
   "labels_anchors": false,
   "latex_user_defs": false,
   "report_style_numbering": false,
   "user_envs_cfg": false
  },
  "toc": {
   "colors": {
    "hover_highlight": "#DAA520",
    "running_highlight": "#FF0000",
    "selected_highlight": "#FFD700"
   },
   "moveMenuLeft": true,
   "nav_menu": {
    "height": "45px",
    "width": "252px"
   },
   "navigate_menu": true,
   "number_sections": true,
   "sideBar": true,
   "threshold": 4,
   "toc_cell": false,
   "toc_section_display": "block",
   "toc_window_display": false
  }
 },
 "nbformat": 4,
 "nbformat_minor": 1
}
