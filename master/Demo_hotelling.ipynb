{
 "cells": [
  {
   "cell_type": "markdown",
   "metadata": {},
   "source": [
    "# Demo hotelling"
   ]
  },
  {
   "cell_type": "markdown",
   "metadata": {},
   "source": [
    "Illustrate the Hotelling Transform"
   ]
  },
  {
   "cell_type": "markdown",
   "metadata": {},
   "source": [
    "## Image creation\n",
    "\n",
    "A binary image with an ellipse"
   ]
  },
  {
   "cell_type": "code",
   "execution_count": 4,
   "metadata": {
    "ExecuteTime": {
     "end_time": "2017-06-08T07:09:07.179147",
     "start_time": "2017-06-08T07:09:07.151227"
    },
    "collapsed": false
   },
   "outputs": [],
   "source": [
    "%matplotlib inline\n",
    "import matplotlib.pyplot as plt\n",
    "import matplotlib.image as mpimg\n",
    "import numpy as np\n",
    "import numpy.linalg as LA\n",
    "import sys,os\n",
    "ia898path = '../../'\n",
    "if ia898path not in sys.path:\n",
    "    sys.path.append(ia898path)\n",
    "import ia898.src as ia"
   ]
  },
  {
   "cell_type": "code",
   "execution_count": 3,
   "metadata": {
    "ExecuteTime": {
     "end_time": "2017-06-07T20:26:01.229087",
     "start_time": "2017-06-07T20:26:00.983378"
    },
    "collapsed": false
   },
   "outputs": [
    {
     "ename": "AttributeError",
     "evalue": "module 'ia898.src' has no attribute 'gaussian'",
     "output_type": "error",
     "traceback": [
      "\u001b[0;31m---------------------------------------------------------------------------\u001b[0m",
      "\u001b[0;31mAttributeError\u001b[0m                            Traceback (most recent call last)",
      "\u001b[0;32m<ipython-input-3-34617d3ad725>\u001b[0m in \u001b[0;36m<module>\u001b[0;34m()\u001b[0m\n\u001b[0;32m----> 1\u001b[0;31m \u001b[0mf\u001b[0m \u001b[0;34m=\u001b[0m \u001b[0mia\u001b[0m\u001b[0;34m.\u001b[0m\u001b[0mgaussian\u001b[0m\u001b[0;34m(\u001b[0m\u001b[0;34m(\u001b[0m\u001b[0;36m100\u001b[0m\u001b[0;34m,\u001b[0m\u001b[0;36m100\u001b[0m\u001b[0;34m)\u001b[0m\u001b[0;34m,\u001b[0m \u001b[0mnp\u001b[0m\u001b[0;34m.\u001b[0m\u001b[0marray\u001b[0m\u001b[0;34m(\u001b[0m\u001b[0;34m[\u001b[0m\u001b[0;34m[\u001b[0m\u001b[0;36m45\u001b[0m\u001b[0;34m,\u001b[0m\u001b[0;36m50\u001b[0m\u001b[0;34m]\u001b[0m\u001b[0;34m]\u001b[0m\u001b[0;34m)\u001b[0m\u001b[0;34m.\u001b[0m\u001b[0mT\u001b[0m\u001b[0;34m,\u001b[0m \u001b[0;34m[\u001b[0m\u001b[0;34m[\u001b[0m\u001b[0;36m40\u001b[0m\u001b[0;34m*\u001b[0m\u001b[0;36m40\u001b[0m\u001b[0;34m,\u001b[0m\u001b[0;36m10\u001b[0m\u001b[0;34m*\u001b[0m\u001b[0;36m10\u001b[0m\u001b[0;34m]\u001b[0m\u001b[0;34m,\u001b[0m\u001b[0;34m[\u001b[0m\u001b[0;36m10\u001b[0m\u001b[0;34m*\u001b[0m\u001b[0;36m10\u001b[0m\u001b[0;34m,\u001b[0m\u001b[0;36m20\u001b[0m\u001b[0;34m*\u001b[0m\u001b[0;36m20\u001b[0m\u001b[0;34m]\u001b[0m\u001b[0;34m]\u001b[0m\u001b[0;34m)\u001b[0m\u001b[0;34m\u001b[0m\u001b[0m\n\u001b[0m\u001b[1;32m      2\u001b[0m \u001b[0mf\u001b[0m \u001b[0;34m=\u001b[0m \u001b[0mf\u001b[0m \u001b[0;34m>\u001b[0m \u001b[0;34m(\u001b[0m\u001b[0mf\u001b[0m\u001b[0;34m.\u001b[0m\u001b[0mmax\u001b[0m\u001b[0;34m(\u001b[0m\u001b[0;34m)\u001b[0m \u001b[0;34m*\u001b[0m \u001b[0mnp\u001b[0m\u001b[0;34m.\u001b[0m\u001b[0mexp\u001b[0m\u001b[0;34m(\u001b[0m\u001b[0;34m-\u001b[0m\u001b[0;36m1.\u001b[0m\u001b[0;34m/\u001b[0m\u001b[0;36m2\u001b[0m\u001b[0;34m)\u001b[0m\u001b[0;34m)\u001b[0m\u001b[0;34m\u001b[0m\u001b[0m\n\u001b[1;32m      3\u001b[0m \u001b[0mia\u001b[0m\u001b[0;34m.\u001b[0m\u001b[0madshow\u001b[0m\u001b[0;34m(\u001b[0m\u001b[0mf\u001b[0m\u001b[0;34m,\u001b[0m \u001b[0mtitle\u001b[0m\u001b[0;34m=\u001b[0m\u001b[0;34m'Ellipse'\u001b[0m\u001b[0;34m)\u001b[0m\u001b[0;34m\u001b[0m\u001b[0m\n",
      "\u001b[0;31mAttributeError\u001b[0m: module 'ia898.src' has no attribute 'gaussian'"
     ]
    }
   ],
   "source": [
    "f = ia.gaussian((100,100), np.array([[45,50]]).T, [[40*40,10*10],[10*10,20*20]])\n",
    "f = f > (f.max() * np.exp(-1./2))\n",
    "ia.adshow(f, title='Ellipse')     "
   ]
  },
  {
   "cell_type": "markdown",
   "metadata": {},
   "source": [
    "## Feature vector"
   ]
  },
  {
   "cell_type": "markdown",
   "metadata": {},
   "source": [
    "The coordinates of each 1 pixel are the features: cols and rows coordinates. "
   ]
  },
  {
   "cell_type": "code",
   "execution_count": null,
   "metadata": {
    "collapsed": true
   },
   "outputs": [],
   "source": [
    "X = np.nonzero(f)\n",
    "X = np.array(X).T\n",
    "n,m = X.shape\n",
    "print('Number of samples (n):', n)\n",
    "print('Number of attributes (m):', m)\n",
    "print('X=\\n', end=' ')\n",
    "print(X)"
   ]
  },
  {
   "cell_type": "markdown",
   "metadata": {},
   "source": [
    "## Mean vector"
   ]
  },
  {
   "cell_type": "markdown",
   "metadata": {},
   "source": [
    "The mean value is the centroid.\n",
    "\n",
    "$$   \\overline{X} = \\frac{1}{n} [ \\sum_{i = 0}^{n-1} X_{i1}   \\sum_{i = 0}^{n-1} X_{i2}   \\cdots  \n",
    "   \\sum_{i = 0}^{n-1} X_{im} ]\n",
    "$$"
   ]
  },
  {
   "cell_type": "code",
   "execution_count": null,
   "metadata": {
    "collapsed": true
   },
   "outputs": [],
   "source": [
    "mu = X.mean(axis=0)\n",
    "print('Centroid = ',mu)"
   ]
  },
  {
   "cell_type": "markdown",
   "metadata": {},
   "source": [
    "## Computing the covariance matrix"
   ]
  },
  {
   "cell_type": "markdown",
   "metadata": {},
   "source": [
    "The covariance matrix is given by:\n",
    "\n",
    "$$\n",
    "   \\Sigma = \\frac{1}{n-1}(X - \\overline{X})^T(X - \\overline{X})\n",
    "$$\n",
    "\n",
    "It can be computed by the numpy function cov or directly from the equation:"
   ]
  },
  {
   "cell_type": "code",
   "execution_count": null,
   "metadata": {
    "collapsed": true
   },
   "outputs": [],
   "source": [
    "C = np.cov(X-mu, rowvar=False)\n",
    "C1 = ((X-mu).T).dot(X-mu)/(n-1)\n",
    "print('Covariance matrix computed usint np.cov\\n',C.round(2))\n",
    "print('Covariance matrix computed from the definition\\n',C1.round(2))"
   ]
  },
  {
   "cell_type": "markdown",
   "metadata": {},
   "source": [
    "## Computing eigenvalues and eigenvectors"
   ]
  },
  {
   "cell_type": "markdown",
   "metadata": {},
   "source": [
    "The eigenvalues and eigenvectors are computed from the covariance matrix. \n",
    "The eigenvalues are sorted in decrescent order"
   ]
  },
  {
   "cell_type": "code",
   "execution_count": null,
   "metadata": {
    "collapsed": true
   },
   "outputs": [],
   "source": [
    "[e,V] = LA.eigh(C)\n",
    "print('e:',e.round(2))\n",
    "print('V:\\n',V.round(2))\n",
    "index = np.argsort(e)[::-1]\n",
    "V = V[:,index]\n",
    "e = e[index]\n",
    "print('\\nEigenvalues vector\\n')\n",
    "print(e.round(2))\n",
    "print('\\nEigenvectors matrix\\n')\n",
    "print(V.round(2))\n",
    "print('\\nInverse is transpose\\n', end=' ')\n",
    "print(LA.inv(V).round(2))"
   ]
  },
  {
   "cell_type": "markdown",
   "metadata": {},
   "source": [
    "## Measure the angle of inclination"
   ]
  },
  {
   "cell_type": "markdown",
   "metadata": {},
   "source": [
    "The direction of the eigenvector of the largest eigenvalue gives the inclination of the elongated figure"
   ]
  },
  {
   "cell_type": "code",
   "execution_count": null,
   "metadata": {
    "collapsed": true
   },
   "outputs": [],
   "source": [
    "#sigma = np.sqrt(e)\n",
    "theta = arctan(V[0,0]/V[1,0])*180./np.pi\n",
    "print('The inclination angle is', theta.round(3),' degrees')"
   ]
  },
  {
   "cell_type": "markdown",
   "metadata": {},
   "source": [
    "## Plot the eigenvectors and centroid"
   ]
  },
  {
   "cell_type": "markdown",
   "metadata": {},
   "source": [
    "The eigenvectors are placed at the centroid and scaled by the square root of its correspondent eigenvalue"
   ]
  },
  {
   "cell_type": "code",
   "execution_count": null,
   "metadata": {
    "collapsed": true
   },
   "outputs": [],
   "source": [
    "ia.adshow(f, title='Ellipse')"
   ]
  },
  {
   "cell_type": "markdown",
   "metadata": {},
   "source": [
    "## Compute the Hotelling transform"
   ]
  },
  {
   "cell_type": "markdown",
   "metadata": {},
   "source": [
    "The Hotelling transform, also called Karhunen-Loeve (K-L) transform, or the method of principal components, is computed below"
   ]
  },
  {
   "cell_type": "code",
   "execution_count": null,
   "metadata": {
    "collapsed": true
   },
   "outputs": [],
   "source": [
    "Xnew = (X-mu).dot(V)\n",
    "Xnew_mu = Xnew.mean(axis=0)\n",
    "print('Mean value of the transform\\n')\n",
    "print(Xnew_mu.round(2))\n",
    "C_Xnew = np.cov(Xnew,rowvar=False)\n",
    "print('\\nCovariance matrix of the transform\\n')\n",
    "print(C_Xnew.round(2))\n",
    "C_Xnew = np.where(C_Xnew <1e-10, 0, C_Xnew)\n",
    "print('\\nStandard deviation matrix of the transformed data\\n')\n",
    "print(np.sqrt(C_Xnew).round(2))"
   ]
  },
  {
   "cell_type": "markdown",
   "metadata": {},
   "source": [
    "## Display the transformed data"
   ]
  },
  {
   "cell_type": "markdown",
   "metadata": {},
   "source": [
    "The centroid of the transformed data is zero (0,0). To visualize it as an image, the features are \n",
    "translated by the centroid of the original data, so that only the rotation effect of the Hotelling \n",
    "transform is visualized.\n",
    "\n",
    "The black dots in the transformed image is due to the direct geometric transform."
   ]
  },
  {
   "cell_type": "code",
   "execution_count": null,
   "metadata": {
    "collapsed": true
   },
   "outputs": [],
   "source": [
    "Xnew = np.rint(Xnew + mu).astype(int)\n",
    "g = np.zeros(f.shape, np.bool)\n",
    "g[Xnew[:,1],Xnew[:,0]] = True\n",
    "ia.adshow(g, title='Ellipse w/ straightened axes')"
   ]
  },
  {
   "cell_type": "markdown",
   "metadata": {},
   "source": [
    "## Image read and display"
   ]
  },
  {
   "cell_type": "markdown",
   "metadata": {},
   "source": [
    "The RGB color image is read and displayed"
   ]
  },
  {
   "cell_type": "code",
   "execution_count": null,
   "metadata": {
    "collapsed": true
   },
   "outputs": [],
   "source": [
    "f = adread('boat.ppm')\n",
    "adshow(f,title='Original RGB image')"
   ]
  },
  {
   "cell_type": "markdown",
   "metadata": {},
   "source": [
    "## Extracting and display RGB components"
   ]
  },
  {
   "cell_type": "markdown",
   "metadata": {},
   "source": [
    "The color components are stored in the third dimension of the image array"
   ]
  },
  {
   "cell_type": "code",
   "execution_count": null,
   "metadata": {
    "collapsed": true
   },
   "outputs": [],
   "source": [
    "r = f[0,:,:]\n",
    "g = f[1,:,:]\n",
    "b = f[2,:,:]\n",
    "ia.adshow(r,title='Red component')\n",
    "ia.adshow(g,title='Green component')\n",
    "ia.adshow(b,title='Blue component')"
   ]
  },
  {
   "cell_type": "markdown",
   "metadata": {},
   "source": [
    "## Feature vector: R, G and B values"
   ]
  },
  {
   "cell_type": "markdown",
   "metadata": {},
   "source": [
    "The features are the red, green and blue components. The mean vector is the average color in the image. The eigenvalues and eigenvectors are computed. The dimension of the covariance matrix is 3x3 as there are 3 features in use"
   ]
  },
  {
   "cell_type": "code",
   "execution_count": null,
   "metadata": {
    "collapsed": true
   },
   "outputs": [],
   "source": [
    "X = np.array([r.ravel(),g.ravel(),b.ravel()]).T\n",
    "print(X.shape)\n",
    "V,e,mu = ia.iapca(X)\n",
    "print('Mean value of each channel (R,G,B)\\n')\n",
    "print(mu.round(2))\n",
    "Cx = np.cov(X,rowvar=False)\n",
    "print('\\nCovariance matrix\\n')\n",
    "print(Cx.round(2))\n",
    "print('\\nEigenvalues matrix\\n')\n",
    "print(e.round(2))\n",
    "print('\\nEigenvectors matrix\\n')\n",
    "print(V.round(2))"
   ]
  },
  {
   "cell_type": "markdown",
   "metadata": {},
   "source": [
    "## Hotelling transform"
   ]
  },
  {
   "cell_type": "markdown",
   "metadata": {},
   "source": [
    "The K-L transform is computed. The mean vector is zero and the covariance matrix is decorrelated. We can see the values of the standard deviation of the first, second and third components"
   ]
  },
  {
   "cell_type": "code",
   "execution_count": null,
   "metadata": {
    "collapsed": true
   },
   "outputs": [],
   "source": [
    "y = (X-mu).dot(V)\n",
    "my = mean(y,axis=0)\n",
    "print('Mean value of the transform\\n')\n",
    "print(my.round(3))\n",
    "Cy = np.cov(y,rowvar=False)\n",
    "print('\\nCovariance matrix of the transform\\n')\n",
    "print(Cy.round(2))\n",
    "Cy = np.where(Cy <1e-10, 0, Cy)\n",
    "print('\\nStandard deviation matrix of the transformed data\\n')\n",
    "print(np.sqrt(Cy).round(2))"
   ]
  },
  {
   "cell_type": "markdown",
   "metadata": {},
   "source": [
    "## Displaying each component of the transformed image"
   ]
  },
  {
   "cell_type": "markdown",
   "metadata": {},
   "source": [
    "The transformed features are put back in three different images with the g1 with the first component (larger variance) and g3 with the smaller variance"
   ]
  },
  {
   "cell_type": "code",
   "execution_count": null,
   "metadata": {
    "collapsed": true
   },
   "outputs": [],
   "source": [
    "g1 = y[:,0].reshape(r.shape)\n",
    "g2 = y[:,1].reshape(r.shape)\n",
    "g3 = y[:,2].reshape(r.shape)\n",
    "ia.adshow(255-ia.ianormalize(g1),title='Variance:%f' % (Cy[0,0],))\n",
    "ia.adshow(ia.ianormalize(g2),title='Variance:%f' % (Cy[1,1],))\n",
    "ia.adshow(ia.ianormalize(g3),title='Variance:%f' % (Cy[2,2],))\n",
    "    "
   ]
  },
  {
   "cell_type": "markdown",
   "metadata": {},
   "source": [
    "## Full reconstruction"
   ]
  },
  {
   "cell_type": "markdown",
   "metadata": {},
   "source": [
    "One can reconstruct the image by multiplying the transformed image by the transpose of eigenvector matrix  \n",
    "and adding the mean value of the image."
   ]
  },
  {
   "cell_type": "markdown",
   "metadata": {},
   "source": [
    "$$ \\begin{matrix}\n",
    "   Y &=& (X - \\bar{X}) V \\\\\n",
    "   X &=& \\bar{X} + Y V^{T}\n",
    "   \\end{matrix}\n",
    "   $$\n",
    "   "
   ]
  },
  {
   "cell_type": "code",
   "execution_count": null,
   "metadata": {
    "collapsed": true
   },
   "outputs": [],
   "source": [
    "y1=y.copy()\n",
    "X1 = y1.dot(V.T) + mu\n",
    "f1=np.zeros_like(f)            \n",
    "for i in range(3):\n",
    "    f1[i,:,:]=reshape(X1[:,i],r.shape)\n",
    "print('Mean square error = ',np.mean((f1-f)**2).round(2))\n",
    "print('Max square error = ',np.max((f1-f)**2).round(2))\n",
    "adshow(f,title='original')\n",
    "adshow(f1,title='Recomposed image')"
   ]
  },
  {
   "cell_type": "markdown",
   "metadata": {},
   "source": [
    "## Partial reconstruction"
   ]
  },
  {
   "cell_type": "markdown",
   "metadata": {},
   "source": [
    "The component corresponding to the smallest variance is erased from the transformed image.\n",
    "It is noticeable that the mean square error is the smallest eigenvalue."
   ]
  },
  {
   "cell_type": "code",
   "execution_count": null,
   "metadata": {
    "collapsed": true
   },
   "outputs": [],
   "source": [
    "y1=y.copy()\n",
    "y1[:,2]=0\n",
    "X1 = y1.dot(V.T) + mu\n",
    "print('iaimginfo(X1):', ia.iaimginfo(X1))\n",
    "X1n = ia.ianormalize(X1).astype('uint8')\n",
    "f1=np.zeros_like(f)            \n",
    "for i in range(3):\n",
    "    f1[i,:,:]=reshape(X1n[:,i],r.shape)\n",
    "print('Mean square error = ',np.mean((1.*f1-f)**2).round(2))\n",
    "print('Max square error = ',np.max((1.*f1-f)**2).round(2))\n",
    "adshow(f,title='original')\n",
    "adshow(f1,title='Recomposed image')\n",
    "adshow(ia.ianormalize(np.abs(1*f1-f)),'normalized absolute error')"
   ]
  },
  {
   "cell_type": "markdown",
   "metadata": {},
   "source": [
    "## References"
   ]
  },
  {
   "cell_type": "markdown",
   "metadata": {},
   "source": [
    "- `http://en.wikipedia.org/wiki/Karhunen%E2%80%93Lo%C3%A8ve_theorem Karhunen Loeve Transform` - Wikipedia\n",
    "- `http://www.visiondummy.com/2014/04/geometric-interpretation-covariance-matrix/ Computer Vision for Dummies`: Geometric\n",
    "   interpretation of the covariance matrix"
   ]
  },
  {
   "cell_type": "markdown",
   "metadata": {},
   "source": [
    "## See Also"
   ]
  },
  {
   "cell_type": "markdown",
   "metadata": {},
   "source": [
    "- `iapca` - Principal Component Analysis\n",
    "- `iagaussian` - Gaussian image"
   ]
  },
  {
   "cell_type": "code",
   "execution_count": null,
   "metadata": {
    "collapsed": true
   },
   "outputs": [],
   "source": []
  }
 ],
 "metadata": {
  "kernelspec": {
   "display_name": "Python 3",
   "language": "python",
   "name": "python3"
  },
  "language_info": {
   "codemirror_mode": {
    "name": "ipython",
    "version": 3
   },
   "file_extension": ".py",
   "mimetype": "text/x-python",
   "name": "python",
   "nbconvert_exporter": "python",
   "pygments_lexer": "ipython3",
   "version": "3.6.0"
  },
  "toc": {
   "colors": {
    "hover_highlight": "#DAA520",
    "running_highlight": "#FF0000",
    "selected_highlight": "#FFD700"
   },
   "moveMenuLeft": true,
   "nav_menu": {
    "height": "66px",
    "width": "252px"
   },
   "navigate_menu": true,
   "number_sections": true,
   "sideBar": true,
   "threshold": 4,
   "toc_cell": false,
   "toc_section_display": "block",
   "toc_window_display": false
  }
 },
 "nbformat": 4,
 "nbformat_minor": 2
}
