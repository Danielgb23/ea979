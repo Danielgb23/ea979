{
 "cells": [
  {
   "cell_type": "markdown",
   "metadata": {
    "toc": "true"
   },
   "source": [
    "# Table of Contents\n",
    " <p><div class=\"lev1 toc-item\"><a href=\"#Ilustração-da-convolução-como-uma-média-ponderada-de-translações-da-imagem-de-entrada\" data-toc-modified-id=\"Ilustração-da-convolução-como-uma-média-ponderada-de-translações-da-imagem-de-entrada-1\"><span class=\"toc-item-num\">1&nbsp;&nbsp;</span>Ilustração da convolução como uma média ponderada de translações da imagem de entrada</a></div><div class=\"lev2 toc-item\"><a href=\"#Equação\" data-toc-modified-id=\"Equação-11\"><span class=\"toc-item-num\">1.1&nbsp;&nbsp;</span>Equação</a></div><div class=\"lev2 toc-item\"><a href=\"#Ilustração-da-convolução-1D\" data-toc-modified-id=\"Ilustração-da-convolução-1D-12\"><span class=\"toc-item-num\">1.2&nbsp;&nbsp;</span>Ilustração da convolução 1D</a></div><div class=\"lev2 toc-item\"><a href=\"#Ilustração-da-convolução-2D\" data-toc-modified-id=\"Ilustração-da-convolução-2D-13\"><span class=\"toc-item-num\">1.3&nbsp;&nbsp;</span>Ilustração da convolução 2D</a></div><div class=\"lev2 toc-item\"><a href=\"#Veja-também\" data-toc-modified-id=\"Veja-também-14\"><span class=\"toc-item-num\">1.4&nbsp;&nbsp;</span>Veja também</a></div><div class=\"lev2 toc-item\"><a href=\"#Páginas-Interessantes\" data-toc-modified-id=\"Páginas-Interessantes-15\"><span class=\"toc-item-num\">1.5&nbsp;&nbsp;</span>Páginas Interessantes</a></div>"
   ]
  },
  {
   "cell_type": "markdown",
   "metadata": {},
   "source": [
    "# Ilustração da convolução como uma média ponderada de translações da imagem de entrada\n",
    "\n",
    "O objetivo desta demonstração é ilustrar a implementação da convolução discreta linear utilizando\n",
    "o algoritmo da média ponderada das translações da imagem. Esta implementação é apropriada para o\n",
    "NumPy pois as translações são implementadas na forma de fatiamento"
   ]
  },
  {
   "cell_type": "code",
   "execution_count": null,
   "metadata": {
    "collapsed": true
   },
   "outputs": [],
   "source": [
    "import numpy as np\n",
    "import ia636 as ia\n",
    "def iaconvdemo(f, h):\n",
    "    f = f.astype(float)\n",
    "    h = h.astype(float)\n",
    "\n",
    "    # If the arrays are 1D, convert them to 2D for generality purposes\n",
    "    if len(f.shape) == 1: f = f[np.newaxis,:]\n",
    "    if len(h.shape) == 1: h = h[np.newaxis,:]\n",
    "    #if f.size < h.size:  f, h = h, f # Always iterate over the smaller image\n",
    "    g = np.zeros(np.array(f.shape) + np.array(h.shape) - 1) # Allocating memory to store the convolution result\n",
    "\n",
    "\n",
    "    adshow(ia.ianshow(h), 'h')\n",
    "    adshow(ia.ianshow(f), 'f')\n",
    "    adshow(ia.ianshow(g), 'g = np.zeros(np.array(f.shape) + np.array(h.shape) - 1)')\n",
    "\n",
    "\n",
    "    mask_h = zeros(h.shape,dtype = bool)\n",
    "    mask_g = zeros(g.shape,dtype = bool)\n",
    "\n",
    "\n",
    "    for i in xrange(h.shape[0]):\n",
    "       for j in xrange(h.shape[1]):\n",
    "          g[i:i+f.shape[0], j:j+f.shape[1]] += h[i,j] * f\n",
    "          mask_h[i,j] = True\n",
    "          mask_g[i:i+f.shape[0], j:j+f.shape[1]] = True\n",
    "          adshow(ia.ianshow(h,mask_h), 'h[%d.%d]' %(i,j))\n",
    "          adshow(ia.ianshow(h[i,j] * f), 'h[%d.%d]*f' %(i,j))\n",
    "          adshow(ia.ianshow(g,mask_g), 'g[%d:%d, %d:%d] += h[%d,%d] * f' %(i,i+f.shape[0],j,j+f.shape[1],i,j))\n",
    "          mask_h[i,j] = False\n",
    "          mask_g[i:i+f.shape[0], j:j+f.shape[1]] = False\n",
    "\n",
    "    return g"
   ]
  },
  {
   "cell_type": "markdown",
   "metadata": {},
   "source": [
    "Na convolução linear, ambas as imagens são infinitas com valores zeros fora da área da matriz. As dimensões da imagem resultante\n",
    "será a soma das dimensões de cada imagem menos 1.\n",
    "\n",
    "## Equação\n",
    "\n",
    "$$ \\begin{matrix}\n",
    "    (f \\ast h)(x,y) &=&  \\sum_{i=0}^{N-1} \\sum_{j=0}^{M-1} f_{e}(x-i,y-j) h_{e}(i, j) \\\\\n",
    "    f_{e}(x,y) &=& \\left\\{ \\begin{array}{llcl} f(x,y), & 0 \\leq x \\leq A-1 & and & 0 \\leq y \\leq B-1  \\\\\n",
    "                                                          0, & A \\leq x \\leq N-1 & or & B \\leq y \\leq M-1 \\end{array}\\right.\\\\\n",
    "    h_{e}(x,y) &=& \\left\\{ \\begin{array}{llcl} h(x,y), & 0 \\leq x \\leq C-1 & and & 0 \\leq y \\leq D-1  \\\\\n",
    "                                                          0, & C \\leq x \\leq N-1 & or & D \\leq y \\leq M-1 \\end{array}\\right.\\\\\n",
    "    N & \\geq & A + C - 1 \\\\\n",
    "    M & \\geq & B + D - 1\n",
    "   \\end{matrix} $$"
   ]
  },
  {
   "cell_type": "markdown",
   "metadata": {},
   "source": [
    "## Ilustração da convolução 1D\n",
    "\n",
    "Esta primeira ilustração, temos uma imagem unidimensional com 6 elementos e o núcleo da convolução com 3 elementos. O resultado\n",
    "da convolução terá 8 elementos. Acompanhe o passo a passo da execução do algoritmo. O algoritmo original é o `ia636:iaconv` que foi\n",
    "trazido para esta página e incorporado visualizações ilustrativas durante a sua execução."
   ]
  },
  {
   "cell_type": "code",
   "execution_count": null,
   "metadata": {
    "collapsed": true
   },
   "outputs": [],
   "source": [
    "f = array([0,1,2,3,4,5])\n",
    "h = array([-1,0,1])\n",
    "\n",
    "print('f =\\n', f)\n",
    "print('\\nh = \\n', h)\n",
    "print('\\n f*h = \\n',iaconvdemo(f, h))"
   ]
  },
  {
   "cell_type": "markdown",
   "metadata": {},
   "source": [
    "## Ilustração da convolução 2D\n",
    "\n",
    "Temos o caso de imagem bidimensional sendo processada por uma máscara Sobel de cálculo de gradiente horizontal. Acompanhe o passo-a-passo:"
   ]
  },
  {
   "cell_type": "code",
   "execution_count": null,
   "metadata": {
    "collapsed": true
   },
   "outputs": [],
   "source": [
    "f = array([[1,1,1,1,1],\n",
    "          [2,2,2,2,2],\n",
    "          [3,3,3,3,3],\n",
    "          [4,4,4,4,4],\n",
    "          [5,5,5,5,5]])\n",
    "h = array([[-1,0,1],\n",
    "          [-2,0,2],\n",
    "          [-1,0,1]])\n",
    "\n",
    "print('f =\\n', f)\n",
    "print('\\nh = \\n', h)\n",
    "print('\\n f*h = \\n',iaconvdemo(f, h))"
   ]
  },
  {
   "cell_type": "markdown",
   "metadata": {},
   "source": [
    "## Veja também\n",
    "\n",
    "- [ia898:conv](../src/conv.ipynb)\n",
    "\n",
    "## Páginas Interessantes\n",
    "\n",
    "- [Wikipedia - Convolution](http://en.wikipedia.org/wiki/Convolution)\n"
   ]
  }
 ],
 "metadata": {
  "kernelspec": {
   "display_name": "Python 3",
   "language": "python",
   "name": "python3"
  },
  "language_info": {
   "codemirror_mode": {
    "name": "ipython",
    "version": 3
   },
   "file_extension": ".py",
   "mimetype": "text/x-python",
   "name": "python",
   "nbconvert_exporter": "python",
   "pygments_lexer": "ipython3",
   "version": "3.6.0"
  },
  "toc": {
   "colors": {
    "hover_highlight": "#DAA520",
    "running_highlight": "#FF0000",
    "selected_highlight": "#FFD700"
   },
   "moveMenuLeft": true,
   "nav_menu": {
    "height": "135px",
    "width": "252px"
   },
   "navigate_menu": true,
   "number_sections": true,
   "sideBar": true,
   "threshold": 4,
   "toc_cell": true,
   "toc_section_display": "block",
   "toc_window_display": false
  }
 },
 "nbformat": 4,
 "nbformat_minor": 2
}
