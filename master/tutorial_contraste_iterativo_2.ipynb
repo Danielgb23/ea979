{
 "cells": [
  {
   "cell_type": "markdown",
   "metadata": {
    "toc": "true"
   },
   "source": [
    "# Table of Contents\n",
    " <p><div class=\"lev1 toc-item\"><a href=\"#Realce-de-Contraste-Interativo-utilizando-Janela-e-Nível\" data-toc-modified-id=\"Realce-de-Contraste-Interativo-utilizando-Janela-e-Nível-1\"><span class=\"toc-item-num\">1&nbsp;&nbsp;</span>Realce de Contraste Interativo utilizando Janela e Nível</a></div><div class=\"lev2 toc-item\"><a href=\"#Equação-da-função-de-realce-de-contraste\" data-toc-modified-id=\"Equação-da-função-de-realce-de-contraste-11\"><span class=\"toc-item-num\">1.1&nbsp;&nbsp;</span>Equação da função de realce de contraste</a></div><div class=\"lev2 toc-item\"><a href=\"#Implementação-da-Função-de-contraste-Window-&amp;-Level\" data-toc-modified-id=\"Implementação-da-Função-de-contraste-Window-&amp;-Level-12\"><span class=\"toc-item-num\">1.2&nbsp;&nbsp;</span>Implementação da Função de contraste Window &amp; Level</a></div><div class=\"lev2 toc-item\"><a href=\"#Imagem-original-e-seu-histograma\" data-toc-modified-id=\"Imagem-original-e-seu-histograma-13\"><span class=\"toc-item-num\">1.3&nbsp;&nbsp;</span>Imagem original e seu histograma</a></div><div class=\"lev2 toc-item\"><a href=\"#Calculando-e-visualizando-a-Transforma-de-Contraste-Window-&amp;-Level\" data-toc-modified-id=\"Calculando-e-visualizando-a-Transforma-de-Contraste-Window-&amp;-Level-14\"><span class=\"toc-item-num\">1.4&nbsp;&nbsp;</span>Calculando e visualizando a Transforma de Contraste Window &amp; Level</a></div><div class=\"lev2 toc-item\"><a href=\"#Aplicando-a-Transformação-de-Contraste\" data-toc-modified-id=\"Aplicando-a-Transformação-de-Contraste-15\"><span class=\"toc-item-num\">1.5&nbsp;&nbsp;</span>Aplicando a Transformação de Contraste</a></div><div class=\"lev2 toc-item\"><a href=\"#Visualizando-o-histograma-da-imagem-com-realce-de-contraste\" data-toc-modified-id=\"Visualizando-o-histograma-da-imagem-com-realce-de-contraste-16\"><span class=\"toc-item-num\">1.6&nbsp;&nbsp;</span>Visualizando o histograma da imagem com realce de contraste</a></div><div class=\"lev2 toc-item\"><a href=\"#Links-Interessantes\" data-toc-modified-id=\"Links-Interessantes-17\"><span class=\"toc-item-num\">1.7&nbsp;&nbsp;</span>Links Interessantes</a></div>"
   ]
  },
  {
   "cell_type": "markdown",
   "metadata": {
    "deletable": true,
    "editable": true
   },
   "source": [
    "# Realce de Contraste Interativo utilizando Janela e Nível\n",
    "\n",
    "\n",
    "Em equipamentos interativos de visualização de imagens, é usual ter uma opção interativa\n",
    "denominada \"Window & Level contrast enhancement\" que permite com auxílio do mouse mudar\n",
    "o contraste da imagem de forma seletiva. A transformação de intensidade que é utilizada\n",
    "é uma transformação linear aplicada na faixa de valores mínimo e máximo de nível de cinza\n",
    "em que se deseja aumentar o contraste. Entretanto, em vez de alterar este dois parâmetros,\n",
    "os dois parâmetros alterados são: *Window* que é a faixa entre o mínimo e máximo e o *Level*\n",
    "que é o nível de cinza do centro da faixa. A vantagem desta forma de parametrizar é que\n",
    "é possível por exemplo deixar uma janela fixa e alterar o nível de cinza do centro, dando um\n",
    "maior controle ao usuário.\n",
    "\n",
    "Uma demonstração interativa pode ser vista em\n",
    "\n",
    "- [adessowiki:ws_demo2](http://adessowiki.fee.unicamp.br/adesso/wiki/Demo/ws_demo2/view/?usecache=0) \n",
    "\n",
    "que foi feita\n",
    "em javascript pelo Luis Tavares durante o seu mestrado na FEEC-Unicamp. Experimente\n",
    "esta ferramenta interativa e coloque a Janela em 5 e varie o Nível para a parte mais escura\n",
    "e verifique que é possível verificar a distribuição dos pixels do ar, que está ao redor do\n",
    "sujeito.\n",
    "\n",
    "A demonstração a seguir é feita neste notebook, porém não de forma não interativa."
   ]
  },
  {
   "cell_type": "markdown",
   "metadata": {
    "deletable": true,
    "editable": true
   },
   "source": [
    "## Equação da função de realce de contraste\n",
    "\n",
    "A equação da Transformação de contraste Window & Level é dada pela seguinte equação:\n",
    "\n",
    "$$      T(p) &=& \\lfloor\\frac{255 (p - P_{min})}{P_{max} - P_{min}}\\rfloor\\\\\n",
    "        \\text{onde}& &\\\\\n",
    "        P_{min} &=& \\max(0, L - \\lfloor\\frac{W}{2}\\rfloor)\\\\\n",
    "        P_{max} &=& \\min(L + \\lfloor\\frac{W}{2}\\rfloor, 255) \n",
    "$$        "
   ]
  },
  {
   "cell_type": "markdown",
   "metadata": {
    "deletable": true,
    "editable": true
   },
   "source": [
    "## Implementação da Função de contraste Window & Level\n",
    "\n",
    "Como todo problema, existem inúmeras maneiras de se implementar em NumPy a função de contraste Janela e Nível.\n",
    "A implementação a seguir faz uso da função ``linspace`` que gera a parte linear da função:"
   ]
  },
  {
   "cell_type": "code",
   "execution_count": 3,
   "metadata": {
    "collapsed": true,
    "deletable": true,
    "editable": true
   },
   "outputs": [],
   "source": [
    "import numpy as np\n",
    "   \n",
    "def TWL(L,W):\n",
    "    Pmin = max(0,L-W//2)\n",
    "    Pmax = min(255,L+W//2)\n",
    "\n",
    "    T = np.zeros(256, np.uint8)\n",
    "    T[Pmin:Pmax+1] = np.floor(np.linspace(0, 255, num=(Pmax - Pmin + 1)))\n",
    "    T[Pmax:] = 255\n",
    "    return T\n",
    "\n",
    "def WL(f,L,W):\n",
    "    T = TWL(L,W)\n",
    "    return T[f]"
   ]
  },
  {
   "cell_type": "markdown",
   "metadata": {
    "deletable": true,
    "editable": true
   },
   "source": [
    "## Imagem original e seu histograma\n",
    "    "
   ]
  },
  {
   "cell_type": "code",
   "execution_count": 2,
   "metadata": {
    "collapsed": false,
    "deletable": true,
    "editable": true
   },
   "outputs": [
    {
     "ename": "NameError",
     "evalue": "name 'adreadgray' is not defined",
     "output_type": "error",
     "traceback": [
      "\u001b[0;31m---------------------------------------------------------------------------\u001b[0m",
      "\u001b[0;31mNameError\u001b[0m                                 Traceback (most recent call last)",
      "\u001b[0;32m<ipython-input-2-4a64802c4b83>\u001b[0m in \u001b[0;36m<module>\u001b[0;34m()\u001b[0m\n\u001b[1;32m      1\u001b[0m \u001b[0;31m# Imagem original\u001b[0m\u001b[0;34m\u001b[0m\u001b[0;34m\u001b[0m\u001b[0m\n\u001b[0;32m----> 2\u001b[0;31m \u001b[0mf\u001b[0m \u001b[0;34m=\u001b[0m \u001b[0madreadgray\u001b[0m\u001b[0;34m(\u001b[0m\u001b[0;34m'cameraman.tif'\u001b[0m\u001b[0;34m)\u001b[0m\u001b[0;34m\u001b[0m\u001b[0m\n\u001b[0m\u001b[1;32m      3\u001b[0m \u001b[0madshow\u001b[0m\u001b[0;34m(\u001b[0m\u001b[0mf\u001b[0m\u001b[0;34m,\u001b[0m\u001b[0;34m'Imagem Original'\u001b[0m\u001b[0;34m)\u001b[0m\u001b[0;34m\u001b[0m\u001b[0m\n\u001b[1;32m      4\u001b[0m \u001b[0;34m\u001b[0m\u001b[0m\n\u001b[1;32m      5\u001b[0m \u001b[0mh\u001b[0m \u001b[0;34m=\u001b[0m \u001b[0mia\u001b[0m\u001b[0;34m.\u001b[0m\u001b[0miahistogram\u001b[0m\u001b[0;34m(\u001b[0m\u001b[0mf\u001b[0m\u001b[0;34m)\u001b[0m\u001b[0;34m\u001b[0m\u001b[0m\n",
      "\u001b[0;31mNameError\u001b[0m: name 'adreadgray' is not defined"
     ]
    }
   ],
   "source": [
    "    # Imagem original\n",
    "    f = adreadgray('cameraman.tif')\n",
    "    adshow(f,'Imagem Original')\n",
    "    \n",
    "    h = ia.iahistogram(f)\n",
    "    adshow(ia.iaplot(h), 'Histograma da Imagem Original')"
   ]
  },
  {
   "cell_type": "markdown",
   "metadata": {
    "deletable": true,
    "editable": true
   },
   "source": [
    "## Calculando e visualizando a Transforma de Contraste Window & Level"
   ]
  },
  {
   "cell_type": "markdown",
   "metadata": {
    "deletable": true,
    "editable": true
   },
   "source": [
    "    from tutorial_contraste_iterativo_2 import WL, TWL\n",
    "    \n",
    "    W = 30\n",
    "    L = 15\n",
    "    Tw = TWL(L,W)\n",
    "    adshow(ia.iaplot(Tw,ylabel='Output intensity',xlabel='Input intensity'),'Transformada de intensidade W=%d L=%d' % (W,L))"
   ]
  },
  {
   "cell_type": "markdown",
   "metadata": {
    "deletable": true,
    "editable": true
   },
   "source": [
    "## Aplicando a Transformação de Contraste\n",
    "\n",
    "Observe que esta transformação amplia o contraste ao redor do nível de\n",
    "cinza 15, tornando os detalhes do paletó do \"cameraman\" bem visíveis:"
   ]
  },
  {
   "cell_type": "markdown",
   "metadata": {
    "deletable": true,
    "editable": true
   },
   "source": [
    "    g = WL(f,L,W)\n",
    "    adshow(g, 'Imagem com contraste ajustado, L = %d, W = %d' %(L,W))"
   ]
  },
  {
   "cell_type": "markdown",
   "metadata": {
    "deletable": true,
    "editable": true
   },
   "source": [
    "## Visualizando o histograma da imagem com realce de contraste\n",
    "\n",
    "Observe que quanto menor a largura da janela, mais pixels terão valores 0 e 255.\n",
    "Quando de visualiza seu histograma, aparecerá um grande pico nestes dois valores\n",
    "que são o extremo do histograma. Para evitar que estes valores entrem no plot,\n",
    "faz-se um fatiamento do histograma do segundo pixel ao penúltimo: h[1:-1]. A\n",
    "seguir mostramos o histograma contendo os valores 0 e 255 e depois não\n",
    "utilizando estes valores:"
   ]
  },
  {
   "cell_type": "markdown",
   "metadata": {
    "deletable": true,
    "editable": true
   },
   "source": [
    "    hg = ia.histogram(g)\n",
    "    adshow(ia.iaplot(hg),'Histograma da Imagens realçada')\n",
    "    adshow(ia.iaplot(hg[1:-1]),'Idem, porém sem valores 0 e 255')"
   ]
  },
  {
   "cell_type": "markdown",
   "metadata": {
    "deletable": true,
    "editable": true
   },
   "source": [
    "## Links Interessantes\n",
    "\n",
    "- [Demonstração interativa](http://adessowiki.fee.unicamp.br/adesso/wiki/Demo/ws_demo2/view/?usecache=0)\n"
   ]
  }
 ],
 "metadata": {
  "kernelspec": {
   "display_name": "Python 3",
   "language": "python",
   "name": "python3"
  },
  "language_info": {
   "codemirror_mode": {
    "name": "ipython",
    "version": 3
   },
   "file_extension": ".py",
   "mimetype": "text/x-python",
   "name": "python",
   "nbconvert_exporter": "python",
   "pygments_lexer": "ipython3",
   "version": "3.6.0"
  },
  "toc": {
   "colors": {
    "hover_highlight": "#DAA520",
    "running_highlight": "#FF0000",
    "selected_highlight": "#FFD700"
   },
   "moveMenuLeft": true,
   "nav_menu": {
    "height": "84px",
    "width": "252px"
   },
   "navigate_menu": true,
   "number_sections": true,
   "sideBar": true,
   "threshold": 4,
   "toc_cell": true,
   "toc_section_display": "block",
   "toc_window_display": false
  }
 },
 "nbformat": 4,
 "nbformat_minor": 2
}
