{
 "cells": [
  {
   "cell_type": "markdown",
   "metadata": {
    "toc": "true"
   },
   "source": [
    "# Table of Contents\n",
    " <p><div class=\"lev1 toc-item\"><a href=\"#Propriedades-da-Convolução\" data-toc-modified-id=\"Propriedades-da-Convolução-1\"><span class=\"toc-item-num\">1&nbsp;&nbsp;</span>Propriedades da Convolução</a></div><div class=\"lev2 toc-item\"><a href=\"#Translação-por-um-impulso\" data-toc-modified-id=\"Translação-por-um-impulso-11\"><span class=\"toc-item-num\">1.1&nbsp;&nbsp;</span>Translação por um impulso</a></div><div class=\"lev2 toc-item\"><a href=\"#Resposta-ao-impulso\" data-toc-modified-id=\"Resposta-ao-impulso-12\"><span class=\"toc-item-num\">1.2&nbsp;&nbsp;</span>Resposta ao impulso</a></div><div class=\"lev2 toc-item\"><a href=\"#Decomposição\" data-toc-modified-id=\"Decomposição-13\"><span class=\"toc-item-num\">1.3&nbsp;&nbsp;</span>Decomposição</a></div><div class=\"lev2 toc-item\"><a href=\"#Referências\" data-toc-modified-id=\"Referências-14\"><span class=\"toc-item-num\">1.4&nbsp;&nbsp;</span>Referências</a></div>"
   ]
  },
  {
   "cell_type": "markdown",
   "metadata": {},
   "source": [
    "# Propriedades da Convolução\n",
    "\n",
    "A convolução possui várias propriedades que são úteis tanto para o melhor entendimento\n",
    "do seu funcionamento como de uso prático. Aqui são ilustradas três propriedades: translação\n",
    "por impulso, resposta ao impulso e decomposição do núcleo da convolução."
   ]
  },
  {
   "cell_type": "markdown",
   "metadata": {},
   "source": [
    "## Translação por um impulso\n",
    "\n",
    "Quando o núcleo da composição é composto de apenas um único valor um e os demais zeros, a\n",
    "imagem resultante será a translação da imagem original pelas coordenadas do valor não zero do núcleo.\n",
    "No exemplo a seguir, o núcleo da convolução consiste do valor 1 na coordenada (19,59). Assim, a imagem\n",
    "resultante ficara deslocada de 19 pixels para baixo e 59 para a direita. Observe que como estamos\n",
    "tratando as imagens como infinitas com valores zeros fora do retângulo da imagem, esta translação faz\n",
    "com que o retângulo da imagem aumente e vários valores iguais a zero sejam agora visíveis."
   ]
  },
  {
   "cell_type": "code",
   "execution_count": null,
   "metadata": {
    "collapsed": true
   },
   "outputs": [],
   "source": [
    "import ia636 as ia\n",
    "\n",
    "f = adreadgray('cameraman.tif')\n",
    "h = zeros((20,60))\n",
    "h[19,59] = 1\n",
    "adshow(f,'entrada')\n",
    "g = ia.iaconv(f,h)\n",
    "adshow(g,'entrada translada de (20,60)')"
   ]
  },
  {
   "cell_type": "markdown",
   "metadata": {},
   "source": [
    "## Resposta ao impulso\n",
    "\n",
    "Quando a imagem é formada por um único pixel de valor 1, o resultado da convolução é o núcleo da convolução.\n",
    "Esta propriedade permite que se visualize o núcleo da convolução. Se você souber que existe algum software que\n",
    "possui um filtro linear invariante à translação e você não sabe qual é o seu núcleo, basta aplicá-lo numa imagem\n",
    "com um único pixel igual a 1. O resultado do filtro revelará o seu núcleo. Na ilustração a seguir, uma imagem\n",
    "com vários impulsos é criada utilizando a função `ia636:iacomb`. É possível visualizar o núcleo sendo repetido\n",
    "em cada lugar do impulso. O núcleo da convolução utilizado aqui é o Laplaciano da Gaussiana (LoG) `ia636:ialog`."
   ]
  },
  {
   "cell_type": "code",
   "execution_count": null,
   "metadata": {
    "collapsed": true
   },
   "outputs": [],
   "source": [
    "c = ia.iacomb((200,300), (45,45), (0,0))\n",
    "hL = ia.ialog((30,30), [15,15], (7))\n",
    "cL = ia.iaconv(c,hL)\n",
    "adshow(ia.ianormalize(c),'imagem com impulsos')\n",
    "adshow(ia.ianormalize(cL),'visualização do núcleo')"
   ]
  },
  {
   "cell_type": "markdown",
   "metadata": {},
   "source": [
    "O núcleo da LoG visualizado acima é aplicado numa imagem real para ilustrar o seu comportamento:"
   ]
  },
  {
   "cell_type": "code",
   "execution_count": null,
   "metadata": {
    "collapsed": true
   },
   "outputs": [],
   "source": [
    "gL = ia.iaconv(f,hL)\n",
    "adshow(ia.ianormalize(gL), 'filtragem pelo LoG')"
   ]
  },
  {
   "cell_type": "markdown",
   "metadata": {},
   "source": [
    "## Decomposição\n",
    "\n",
    "A propriedade da associatividade da convolução é dada por:\n",
    "\n",
    "$$   f * h_{eq} = f * (h1 * h2) = (f * h1) * h2 $$\n",
    "\n",
    "Se conseguirmos decompor um núcleo de modo que ele seja o resultado da convolução de dois núcleos mais simples, esta propriedade\n",
    "permite um ganho computacional se a convolução for aplicada por cada núcleo separadamente. A seguir é ilustrado o caso do núcleo\n",
    "que faz a soma dos pixels numa janela quadrada de 10 pixels de lado. Se a convolução for feita com o quadrado 10 x 10, serão 100\n",
    "operações feitas na convolução. Se o núcleo for decomposto em dois núcleos uma linha e uma coluna de 10 pixels cada, cada convolução\n",
    "precisará de 10 operações, totalizando 20 operações ao todo. Observe a diferença no tempo de processamento destes dois casos."
   ]
  },
  {
   "cell_type": "code",
   "execution_count": null,
   "metadata": {
    "collapsed": true
   },
   "outputs": [],
   "source": [
    "f = adreadgray('cameraman.tif')\n",
    "h1 = ones((1,10))\n",
    "h2 = ones((10,1))\n",
    "\n",
    "h = ia.iaconv(h1,h2)\n",
    "print('h=\\n',h)\n",
    "\n",
    "t = time.time()\n",
    "f1 = ia.iaconv(f,h)\n",
    "print('Tempo de processamento 10 x 10:', floor((time.time() - t)*1000), 'ms')\n",
    "\n",
    "t = time.time()\n",
    "f2 = ia.iaconv(f,h1)\n",
    "f3 = ia.iaconv(f2,h2)\n",
    "print('Tempo de processamento 10 horizontal e 10 vertical:', floor((time.time() - t)*1000), 'ms')\n",
    "\n",
    "adshow(ia.ianormalize(f1), 'filtragem pela soma na janela 10x10')\n",
    "print('f1 é igual f3?', abs(f1-f3).max() < 10E-4)"
   ]
  },
  {
   "cell_type": "markdown",
   "metadata": {},
   "source": [
    "## Referências\n",
    "\n",
    "- `ia636:iacomp ia636:iacomb Comb impulses`\n",
    "- `ia636:ialog ia636:ialog Laplacian of a Gaussian`"
   ]
  },
  {
   "cell_type": "code",
   "execution_count": null,
   "metadata": {
    "collapsed": true
   },
   "outputs": [],
   "source": []
  }
 ],
 "metadata": {
  "kernelspec": {
   "display_name": "Python 3",
   "language": "python",
   "name": "python3"
  },
  "language_info": {
   "codemirror_mode": {
    "name": "ipython",
    "version": 3
   },
   "file_extension": ".py",
   "mimetype": "text/x-python",
   "name": "python",
   "nbconvert_exporter": "python",
   "pygments_lexer": "ipython3",
   "version": "3.6.0"
  },
  "toc": {
   "colors": {
    "hover_highlight": "#DAA520",
    "running_highlight": "#FF0000",
    "selected_highlight": "#FFD700"
   },
   "moveMenuLeft": true,
   "nav_menu": {
    "height": "102px",
    "width": "252px"
   },
   "navigate_menu": true,
   "number_sections": true,
   "sideBar": true,
   "threshold": 4,
   "toc_cell": true,
   "toc_section_display": "block",
   "toc_window_display": false
  }
 },
 "nbformat": 4,
 "nbformat_minor": 2
}
