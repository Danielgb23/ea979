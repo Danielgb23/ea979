{
 "cells": [
  {
   "cell_type": "markdown",
   "metadata": {
    "toc": "true"
   },
   "source": [
    "# Table of Contents\n",
    " <p><div class=\"lev1 toc-item\"><a href=\"#Introdução-à-Transformação-Geométrica\" data-toc-modified-id=\"Introdução-à-Transformação-Geométrica-1\"><span class=\"toc-item-num\">1&nbsp;&nbsp;</span>Introdução à Transformação Geométrica</a></div><div class=\"lev2 toc-item\"><a href=\"#Mapeamento-Direto-e-Inverso\" data-toc-modified-id=\"Mapeamento-Direto-e-Inverso-11\"><span class=\"toc-item-num\">1.1&nbsp;&nbsp;</span>Mapeamento Direto e Inverso</a></div><div class=\"lev3 toc-item\"><a href=\"#Mapeamento-Direto\" data-toc-modified-id=\"Mapeamento-Direto-111\"><span class=\"toc-item-num\">1.1.1&nbsp;&nbsp;</span>Mapeamento Direto</a></div><div class=\"lev3 toc-item\"><a href=\"#Mapeamento-Inverso\" data-toc-modified-id=\"Mapeamento-Inverso-112\"><span class=\"toc-item-num\">1.1.2&nbsp;&nbsp;</span>Mapeamento Inverso</a></div><div class=\"lev2 toc-item\"><a href=\"#Principais-dificuldades\" data-toc-modified-id=\"Principais-dificuldades-12\"><span class=\"toc-item-num\">1.2&nbsp;&nbsp;</span>Principais dificuldades</a></div><div class=\"lev2 toc-item\"><a href=\"#Interpolação\" data-toc-modified-id=\"Interpolação-13\"><span class=\"toc-item-num\">1.3&nbsp;&nbsp;</span>Interpolação</a></div>"
   ]
  },
  {
   "cell_type": "markdown",
   "metadata": {},
   "source": [
    "# Introdução à Transformação Geométrica\n",
    "\n",
    "As transformações geométricas em imagens bidimensionais fazem um mapeamento entre as coordenadas\n",
    "da imagem original e as coordenadas da imagem transformada.\n",
    "\n",
    "Iremos explicar as transformações geométricas com o auxílio de equações matemáticas, por ser\n",
    "uma representação mais precisa do que apenas explicar em linguagem natural. Entretanto, vamos\n",
    "procurar ser bastante consistentes entre as equações, nomes de variáveis usadas de modo que\n",
    "as equações que estamos colocando aqui sejam correspondências diretas nos programas Python/NumPy\n",
    "que estaremos exercitando.\n",
    "\n",
    "As transformações geométricas são da forma a seguir. Temos\n",
    "a imagem de entrada **f**, com coordenadas (r,c) utilizando a notação do NumPy de (linha, coluna).\n",
    "O valor de f(r,c) deve ser mapeado para a nova imagem **g** na coordenada (r',c'):\n",
    "\n",
    "\n",
    "$$    g(r',c') = f(r,c), \\ \\ (r,c) \\in [0,H-1] \\times [0,W-1] $$\n",
    "                                          \n",
    "As coordenadas (r',c') são dadas pela transformação geométrica T. Utilizando a representação em\n",
    "coordenadas homogêneas, é possível fazer rotações, cisalhamentos e também deslocamento com apenas\n",
    "multiplicação da matriz T. Assim\n",
    "temos:\n",
    "\n",
    "$$   \\begin{matrix}\n",
    "     \\left[\\begin{array}{c}\n",
    "     r' \\\\\n",
    "     c' \\\\ \n",
    "     1 \\end{array}\\right]  &=&  T \\left[\\begin{array}{c}\n",
    "                r \\\\ \n",
    "                c \\\\ \n",
    "                1 \\end{array}\\right] \n",
    "     \\end{matrix}$$\n",
    "\n",
    "A matriz T é denominada de matriz de transformação geométrica e possui 6 elementos não nulos:\n",
    "                                     \n",
    "$$    \\begin{matrix}\n",
    "         T &=& \\left[\\begin{array}{ccc}\n",
    "           t_{r,r} & t_{c,r} & t_{r}\\\\ \n",
    "           t_{r,c} & t_{c,c} & t_{c}\\\\ \n",
    "           0       &   0     & 1 \\end{array} \\right] \\\\ \n",
    "      \\end{matrix} $$"
   ]
  },
  {
   "cell_type": "markdown",
   "metadata": {},
   "source": [
    "## Mapeamento Direto e Inverso\n",
    "\n",
    "Existem duas formas principais de se implementar a transformação geométrica: Mapeamento direto e\n",
    "mapeamento inverso.\n",
    "\n",
    "### Mapeamento Direto\n",
    "\n",
    "No mapeamento direto, varre-se os pixels da imagem **f** e mapeia-os na imagem **g**:\n",
    "\n",
    " $$    g(T(r,c))  =  f((r,c)), \\ \\ (r,c) \\in [0,H-1] \\times [0,W-1] $$\n",
    "\n",
    "A desvantagem neste caso, é que, dependendo da transformação, pode existir pixels de **g** que \n",
    "não são preenchidos.\n",
    "\n",
    "### Mapeamento Inverso\n",
    "\n",
    "No mapeamento inverso, varre-se os pixels da imagem **g** e busca-os na imagem **f**:\n",
    "\n",
    "\n",
    "$$     g(r',c')  =  f(T^{-1}(r',c')),\\ \\  (r',c') \\in [0,H'-1] \\times [0,W'-1] $$\n",
    "\n",
    "Este é o método que usaremos nos nossos experimentos."
   ]
  },
  {
   "cell_type": "markdown",
   "metadata": {},
   "source": [
    "## Principais dificuldades\n",
    "\n",
    "Apesar da teoria de transformação geométrica mostrada acima ser simples, ela possui várias considerações\n",
    "práticas que tornam sua implementação bastante complexa.\n",
    "\n",
    "As principais dificuldades práticas no processamento de transformações geométrica são:\n",
    "\n",
    "1. A dificuldade intuitiva de operações nas coordenadas. Há necessidade de uso de operações trigonométricas\n",
    "   e operações matriciais\n",
    "2. Domínio da imagem de saída geralmente não é o mesmo da imagem de entrada e não sabemos o que preencher nos\n",
    "   lugares faltantes. Por exemplo seja uma operação simples de deslocamento horizontal da imagem por 20 pixels\n",
    "   para a esquerda. O pixel de coordenada (0,0) deverá ser mapeado no pixel de coordenada (0,-20), mas não temos\n",
    "   como representar estas coordenadas. Outro exemplo é a rotação, se rotacionarmos a imagem de 30 graus por exemplo,\n",
    "   no sentido horário tendo a origem no canto superior esquerdo da imagem, percebe-se que partes da imagem da \n",
    "   saída não serão preenchidas. Por simplicidade, nos nossos exercícios, vamos supor que o domínio que estaremos\n",
    "   interessados na imagem **g** será o mesmo da imagem **f**. Isto é se deslocarmos **f** de metade de sua dimensão\n",
    "   horizontal para a direita, a imagem resultante **g** terá apenas metade da imagem f deslocada para a direita.\n",
    "3. Interpolação: quando fazemos uma ampliação ou redução da imagem, ou ainda quando a coordenadas mapeadas, que\n",
    "   serão em ponto flutuante, após a transformação geométrica, terão que ser mapeadas para coordenadas inteiras e\n",
    "   necessitarão ser estimadas, é o que chamamos de interpolação. No nosso caso, para simplificar, usaremos apenas\n",
    "   a interpolação denominada de vizinho mais próximo, isto é, quando calculamos os pixels de **f** a partir dos\n",
    "   pixels transformados de **g**, suas coordenadas são em ponto flutuante (R,C):\n",
    "   \n",
    "   \n",
    "$$      (R,C) = T^{-1}(r', c'), \\ \\  (R,C) \\in  \\mathbb{R}^{2} $$"
   ]
  },
  {
   "cell_type": "markdown",
   "metadata": {},
   "source": [
    "## Interpolação\n",
    "\n",
    "A interpolação que iremos utilizar é denominada \"vizinho mais próximo\" e fazemos isto com a operação de arredondamento\n",
    "   do inteiro mais próximo, aqui denominada **round** e no NumPy sendo implementada tanto pelo **rint** como **round**:\n",
    "   \n",
    "\n",
    "$$      (r,c) = round(R,C), \\ \\ (r,c) \\in \\mathbb{Z}^2 $$"
   ]
  },
  {
   "cell_type": "code",
   "execution_count": null,
   "metadata": {
    "collapsed": true
   },
   "outputs": [],
   "source": []
  }
 ],
 "metadata": {
  "kernelspec": {
   "display_name": "Python 3",
   "language": "python",
   "name": "python3"
  },
  "language_info": {
   "codemirror_mode": {
    "name": "ipython",
    "version": 3
   },
   "file_extension": ".py",
   "mimetype": "text/x-python",
   "name": "python",
   "nbconvert_exporter": "python",
   "pygments_lexer": "ipython3",
   "version": "3.6.0"
  },
  "toc": {
   "colors": {
    "hover_highlight": "#DAA520",
    "running_highlight": "#FF0000",
    "selected_highlight": "#FFD700"
   },
   "moveMenuLeft": true,
   "nav_menu": {
    "height": "120px",
    "width": "252px"
   },
   "navigate_menu": true,
   "number_sections": true,
   "sideBar": true,
   "threshold": 4,
   "toc_cell": true,
   "toc_section_display": "block",
   "toc_window_display": false
  }
 },
 "nbformat": 4,
 "nbformat_minor": 2
}
