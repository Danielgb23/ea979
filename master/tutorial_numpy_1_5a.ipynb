{
 "cells": [
  {
   "cell_type": "markdown",
   "metadata": {
    "toc": "true"
   },
   "source": [
    "# Table of Contents\n",
    " <p><div class=\"lev1 toc-item\"><a href=\"#Introdução-ao-NumPy---Redução-de-eixo\" data-toc-modified-id=\"Introdução-ao-NumPy---Redução-de-eixo-1\"><span class=\"toc-item-num\">1&nbsp;&nbsp;</span>Introdução ao NumPy - Redução de eixo</a></div><div class=\"lev2 toc-item\"><a href=\"#Operação-combinando-todos-os-pixels\" data-toc-modified-id=\"Operação-combinando-todos-os-pixels-11\"><span class=\"toc-item-num\">1.1&nbsp;&nbsp;</span>Operação combinando todos os pixels</a></div><div class=\"lev2 toc-item\"><a href=\"#Operação-combinando-eixos-(redução-de-eixo)\" data-toc-modified-id=\"Operação-combinando-eixos-(redução-de-eixo)-12\"><span class=\"toc-item-num\">1.2&nbsp;&nbsp;</span>Operação combinando eixos (redução de eixo)</a></div><div class=\"lev2 toc-item\"><a href=\"#Outros-exemplos-numéricos\" data-toc-modified-id=\"Outros-exemplos-numéricos-13\"><span class=\"toc-item-num\">1.3&nbsp;&nbsp;</span>Outros exemplos numéricos</a></div><div class=\"lev2 toc-item\"><a href=\"#Redução-no-eixo-com-aplicações-em-imagens\" data-toc-modified-id=\"Redução-no-eixo-com-aplicações-em-imagens-14\"><span class=\"toc-item-num\">1.4&nbsp;&nbsp;</span>Redução no eixo com aplicações em imagens</a></div>"
   ]
  },
  {
   "cell_type": "markdown",
   "metadata": {},
   "source": [
    "# Introdução ao NumPy - Redução de eixo\n",
    "\n",
    "## Operação combinando todos os pixels\n",
    "\n",
    "(.. comentario ATENCAO este tutorial precisa ser revisto procurando utilizar o ufunc.reduce.)\n",
    "\n",
    "Existem várias funções que calculam valores estatísticos da imagem, como valor máximo, valor médio, \n",
    "soma, entre outras, que permitem sua aplicação em todos os pixels resultando num valor escalar único.\n",
    "\n",
    "Vejam alguns exemplos de cálculo do máximo valor do array, valor médio e somatório de todos os valores:"
   ]
  },
  {
   "cell_type": "code",
   "execution_count": 1,
   "metadata": {
    "collapsed": false
   },
   "outputs": [
    {
     "ename": "NameError",
     "evalue": "name 'adreadgray' is not defined",
     "output_type": "error",
     "traceback": [
      "\u001b[0;31m---------------------------------------------------------------------------\u001b[0m",
      "\u001b[0;31mNameError\u001b[0m                                 Traceback (most recent call last)",
      "\u001b[0;32m<ipython-input-1-e8510034102a>\u001b[0m in \u001b[0;36m<module>\u001b[0;34m()\u001b[0m\n\u001b[1;32m      1\u001b[0m \u001b[0;32mimport\u001b[0m \u001b[0mnumpy\u001b[0m \u001b[0;32mas\u001b[0m \u001b[0mnp\u001b[0m\u001b[0;34m\u001b[0m\u001b[0m\n\u001b[1;32m      2\u001b[0m \u001b[0;34m\u001b[0m\u001b[0m\n\u001b[0;32m----> 3\u001b[0;31m \u001b[0ma\u001b[0m \u001b[0;34m=\u001b[0m \u001b[0madreadgray\u001b[0m\u001b[0;34m(\u001b[0m\u001b[0;34m'cameraman.tif'\u001b[0m\u001b[0;34m)\u001b[0m\u001b[0;34m[\u001b[0m\u001b[0;34m:\u001b[0m\u001b[0;36m5\u001b[0m\u001b[0;34m*\u001b[0m\u001b[0;36m20\u001b[0m\u001b[0;34m:\u001b[0m\u001b[0;36m20\u001b[0m\u001b[0;34m,\u001b[0m\u001b[0;34m:\u001b[0m\u001b[0;36m4\u001b[0m\u001b[0;34m*\u001b[0m\u001b[0;36m20\u001b[0m\u001b[0;34m:\u001b[0m\u001b[0;36m20\u001b[0m\u001b[0;34m]\u001b[0m\u001b[0;34m\u001b[0m\u001b[0m\n\u001b[0m\u001b[1;32m      4\u001b[0m \u001b[0mprint\u001b[0m\u001b[0;34m(\u001b[0m\u001b[0;34m\"a = \\n\"\u001b[0m\u001b[0;34m,\u001b[0m \u001b[0ma\u001b[0m\u001b[0;34m)\u001b[0m\u001b[0;34m\u001b[0m\u001b[0m\n\u001b[1;32m      5\u001b[0m \u001b[0mprint\u001b[0m\u001b[0;34m(\u001b[0m\u001b[0;34m'a.max()='\u001b[0m\u001b[0;34m,\u001b[0m  \u001b[0ma\u001b[0m\u001b[0;34m.\u001b[0m\u001b[0mmax\u001b[0m\u001b[0;34m(\u001b[0m\u001b[0;34m)\u001b[0m\u001b[0;34m)\u001b[0m\u001b[0;34m\u001b[0m\u001b[0m\n",
      "\u001b[0;31mNameError\u001b[0m: name 'adreadgray' is not defined"
     ]
    }
   ],
   "source": [
    "import numpy as np\n",
    "\n",
    "a = adreadgray('cameraman.tif')[:5*20:20,:4*20:20]\n",
    "print(\"a = \\n\", a)\n",
    "print('a.max()=',  a.max())\n",
    "print('a.mean()=', a.mean())\n",
    "print('a.sum()=',  a.sum())"
   ]
  },
  {
   "cell_type": "markdown",
   "metadata": {},
   "source": [
    "A título de curiosidade, em processamento paralelo, fazer este tipo de operação, que acumula um \n",
    "único valor a partir dos valores de cada pixel é uma das operações mais ineficientes, pois\n",
    "existe o gargalo que todos os pixels precisam ser acumulados numa única variável. Este tipo\n",
    "de operação, em processamento paralelo, é denominada ``redução``, pois você reduz todos os\n",
    "elementos do ``ndarray`` a um único valor."
   ]
  },
  {
   "cell_type": "markdown",
   "metadata": {},
   "source": [
    "## Operação combinando eixos (redução de eixo)\n",
    "    \n",
    "É possível também fazer estas operações que combinam os pixels, apenas em alguns eixos, isto é \n",
    "denominado redução de eixo. Para se conseguir isto, basta utilizar como parâmetro da função\n",
    "usada para a combinação dos valores o eixo em que os valores serão calculados. Assim, se a\n",
    "imagem for bidimensional, eixos 0 (linhas) e 1 (colunas), se quisermos combinar na direção\n",
    "das linhas utilizamos 0 como parâmetro e se quisermos acumular na direção das colunas, utilizamos\n",
    "um como parâmetro. Existem vários métodos que podem ser utilizados.\n",
    "Vejamos os exemplos a seguir:\n",
    "    "
   ]
  },
  {
   "cell_type": "code",
   "execution_count": null,
   "metadata": {
    "collapsed": true
   },
   "outputs": [],
   "source": [
    "print('a =\\n',a)\n",
    "print('a.shape = ', a.shape)\n",
    "print('a.max(0) = ', a.max(0))\n",
    "print('a.max(0).shape = ', a.max(0).shape)\n",
    "print('a.max(1) = ', a.max(1))\n",
    "print('a.max(1).shape = ', a.max(1).shape)"
   ]
  },
  {
   "cell_type": "markdown",
   "metadata": {},
   "source": [
    "Note que ``a.max(0)`` opera no eixo das linhas, resultando o valor máximo de cada coluna. O\n",
    "resultado possui 4 elementos que é o número de colunas de ``a``. Note que o shape foi reduzido de (5,4) para (4,), pois a\n",
    "operação se deu na dimensão 0.\n",
    "\n",
    "Já o ``a.max(1)`` opera na direção do eixo nas colunas, resultando o máximo em cada linha. \n",
    "O shape reduziu de (5,4) para (5,).\n",
    "\n",
    "## Outros exemplos numéricos\n",
    "\n",
    "A seguir outros exemplos reduzindo o eixo 0 (linhas). Em todos os exemplos a seguir, como a redução\n",
    "se dá no eixo 0, o vetor resultante terá shape (4,), pois o eixo 0 do shape (5,4) de ``a``."
   ]
  },
  {
   "cell_type": "code",
   "execution_count": null,
   "metadata": {
    "collapsed": true
   },
   "outputs": [],
   "source": [
    "print('a =\\n',a)\n",
    "print('a.mean(0) = ', a.mean(0))\n",
    "print('a.min(0) = ', a.min(0))\n",
    "print('a.sum(0) = ', a.sum(0))"
   ]
  },
  {
   "cell_type": "markdown",
   "metadata": {},
   "source": [
    "## Cumsum - Soma acumulativa (não é redução de eixo)"
   ]
  },
  {
   "cell_type": "code",
   "execution_count": 2,
   "metadata": {
    "collapsed": false
   },
   "outputs": [
    {
     "name": "stdout",
     "output_type": "stream",
     "text": [
      "[0 1 2 3 4 5 6 7 8 9]\n",
      "[ 0  1  3  6 10 15 21 28 36 45]\n"
     ]
    }
   ],
   "source": [
    "import numpy as np\n",
    "a = np.arange(10)\n",
    "print(a)\n",
    "print(np.cumsum(a))\n"
   ]
  },
  {
   "cell_type": "code",
   "execution_count": 5,
   "metadata": {
    "collapsed": false
   },
   "outputs": [
    {
     "name": "stdout",
     "output_type": "stream",
     "text": [
      "[[ 0  1  2  3  4  5]\n",
      " [ 6  7  8  9 10 11]\n",
      " [12 13 14 15 16 17]\n",
      " [18 19 20 21 22 23]]\n",
      "a.cumsum(axis=0) = \n",
      " [[ 0  1  2  3  4  5]\n",
      " [ 6  8 10 12 14 16]\n",
      " [18 21 24 27 30 33]\n",
      " [36 40 44 48 52 56]]\n"
     ]
    }
   ],
   "source": [
    "a = np.arange(4*6).reshape(4,6)\n",
    "print(a)\n",
    "print('a.cumsum(axis=0) = \\n', a.cumsum(axis=0))"
   ]
  },
  {
   "cell_type": "markdown",
   "metadata": {},
   "source": [
    "## Redução no eixo com aplicações em imagens\n",
    "\n",
    "No exemplo abaixo, calculamos o perfil médio das colunas numa imagem que \n",
    "representa um recorte de uma parte de uma calculadora.\n",
    "\n",
    "O perfil médio dos pixels é calculado com a operação de ``mean(0)`` para se fazer a redução\n",
    "da dimensão 0 (linhas). Veja a interpretação da curva no gráfico. As teclas são escuras, porém as\n",
    "letras são bem claras dando um valor médio \n",
    "mais baixo que o fundo das teclas que possui um nível de cinza maior. Observe que ``mean(0)``\n",
    "irá calcular a média de cada coluna, assim, o ``hmean[0]`` abaixo será a média de todos os pixels\n",
    "da primeira coluna, o ``hmean[1]``, a média de todos os pixels da segunda coluna de ``f`` e \n",
    "assim por diante. Veja que a operação sendo na direção das linhas (eixo 0), podemos interpretar\n",
    "que o resultado é uma linha horizontal média da imagem ou é uma linha onde cada elemento é a\n",
    "média dos pixels de cada coluna da imagem.  "
   ]
  },
  {
   "cell_type": "code",
   "execution_count": null,
   "metadata": {
    "collapsed": true
   },
   "outputs": [],
   "source": [
    "import ia636 as ia\n",
    "f = adreadgray('keyb.tif')\n",
    "adshow(f,'f: shape(%d,%d)' % (f.shape[0], f.shape[1]))\n",
    "hmean = f.mean(0)\n",
    "adshow(ia.iaplot(hmean,ylabel='intensidade',xlabel='coluna'),'f.mean(0), valor médio de cada coluna')"
   ]
  },
  {
   "cell_type": "markdown",
   "metadata": {},
   "source": [
    "Veja o exemplo similar, mas agora calculando os valores mínimos de cada coluna. "
   ]
  },
  {
   "cell_type": "code",
   "execution_count": null,
   "metadata": {
    "collapsed": true
   },
   "outputs": [],
   "source": [
    "import ia636 as ia\n",
    "\n",
    "f = adreadgray('keyb.tif')\n",
    "adshow(f,'f: shape(%d,%d)' % (f.shape[0], f.shape[1]))\n",
    "hmin = f.min(0)\n",
    "adshow(ia.iaplot(hmin,ylabel='intensidade mínima',xlabel='coluna'),'f.min(0), valor mínimo de cada coluna')"
   ]
  }
 ],
 "metadata": {
  "kernelspec": {
   "display_name": "Python 3",
   "language": "python",
   "name": "python3"
  },
  "language_info": {
   "codemirror_mode": {
    "name": "ipython",
    "version": 3
   },
   "file_extension": ".py",
   "mimetype": "text/x-python",
   "name": "python",
   "nbconvert_exporter": "python",
   "pygments_lexer": "ipython3",
   "version": "3.6.0"
  },
  "toc": {
   "colors": {
    "hover_highlight": "#DAA520",
    "running_highlight": "#FF0000",
    "selected_highlight": "#FFD700"
   },
   "moveMenuLeft": true,
   "nav_menu": {
    "height": "117px",
    "width": "252px"
   },
   "navigate_menu": true,
   "number_sections": true,
   "sideBar": true,
   "threshold": 4,
   "toc_cell": true,
   "toc_section_display": "block",
   "toc_window_display": false
  }
 },
 "nbformat": 4,
 "nbformat_minor": 2
}
