{
 "cells": [
  {
   "cell_type": "markdown",
   "metadata": {},
   "source": [
    "# IA979 - Introd. Computação Gráfica e Processamento de Imagem\n",
    "## Primeiro semestre de 2020\n",
    "*Leticia Rittner*\n"
   ]
  },
  {
   "cell_type": "markdown",
   "metadata": {},
   "source": [
    "## Conteúdo\n",
    "\n",
    "### Introdução ao Processamento de Imagens\n",
    "\n",
    "1. [Overview](01 Processamento Imagens.ipynb)\n",
    "\n",
    "### Introdução às Imagens digitais\n",
    "    \n",
    "1. [Introdução ao NumPy](02 Aprendendo Numpy.ipynb) \n",
    "2. [Manipulando imagens: abrir, salvar, visualizar, criar](03 Lendo e Visualizando Imagens.ipynb) \n",
    "3. [Geração de imagens sintéticas](04 Gerando imagens sinteticas.ipynb) \t\n",
    "\n",
    "### Transformações radiométricas (ponto-a-ponto)\n",
    "\n",
    "1. [Histograma da Imagem](05 Histograma da imagem.ipynb)\n",
    "2. [Transformação de Intensidade](../master/tutorial_ti_2.ipynb)\n",
    "3. [Tutorial sobre equalização de histograma](../master/tutorial_hist_eq_2.ipynb)\n",
    "4. [Tutorial equalização de histograma por montagem de mosaico](../master/tutorial_pehist_1.ipynb)\n",
    "5. [Transformações em cores](06 Histograma de Imagens Coloridas.ipynb)\n",
    "\n",
    "### Transformações espaciais (vizinhança)\n",
    "\n",
    "1. [Filtragem no domínio espacial](07 Filtragem no dominio espacial.ipynb)\n",
    "2. [Convolução como média ponderada de translações da imagem](../master/tutorial_conv_3.ipynb)\n",
    "\n",
    "### Transformações no domínio da frequência - Transformada de Fourier\n",
    "\n",
    "1. [Geração de ondas senoidais 1D e 2D](08 Ondas senoidais.ipynb)\n",
    "2. [Translação periódica](09 Translacao periodica.ipynb)\n",
    "3. [Propriedades da DFT](10 A transformada discreta de Fourier - DFT.ipynb)\n",
    "4. [Teorema da Convolução](11 Teorema da Convolucao.ipynb)\n",
    "4. [Filtros em frequência](12 Filtros em frequencia.ipynb)\n",
    "5. [Correlação de fase](13 Correlacao de fase.ipynb)\n",
    "\n",
    "### Segmentação\n",
    "\n",
    "1. [Segmentação por Otsu](14 Segmentacao por Otsu.ipynb)\n",
    "\n"
   ]
  },
  {
   "cell_type": "markdown",
   "metadata": {},
   "source": [
    "## Enunciados dos exercícios\n",
    "\n",
    "- [Exercício 1 - Aprendendo Numpy](EA979A_Ex01_Aprendendo Numpy.ipynb)"
   ]
  },
  {
   "cell_type": "markdown",
   "metadata": {},
   "source": [
    "## Links úteis\n",
    "\n",
    "- [Jupyter Notebook - documentação](http://jupyter-notebook.readthedocs.io/en/latest/notebook.html)\n",
    "- [Jupyter notebook - tips and tricks](https://www.dataquest.io/blog/jupyter-notebook-tips-tricks-shortcuts/)\n",
    "- [Tutorial breve - Python](../deliver/tutorial-python.ipynb)\n",
    "- [Tutorial breve - NumPy](../deliver/tutorial-numpy.ipynb)"
   ]
  }
 ],
 "metadata": {
  "anaconda-cloud": {},
  "kernelspec": {
   "display_name": "Python 3",
   "language": "python",
   "name": "python3"
  },
  "language_info": {
   "codemirror_mode": {
    "name": "ipython",
    "version": 3
   },
   "file_extension": ".py",
   "mimetype": "text/x-python",
   "name": "python",
   "nbconvert_exporter": "python",
   "pygments_lexer": "ipython3",
   "version": "3.6.1"
  }
 },
 "nbformat": 4,
 "nbformat_minor": 1
}
